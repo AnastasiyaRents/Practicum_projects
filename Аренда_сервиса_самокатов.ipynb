{
 "cells": [
  {
   "cell_type": "markdown",
   "id": "edb17e12",
   "metadata": {},
   "source": [
    "# Анализ данных  сервиса аренды самокатов GoFast \n",
    "\n",
    "**Описание проекта**\n",
    "* Данные популярного сервиса аренды самокатов GoFast — данные о некоторых пользователях из нескольких городов, а также об их поездках.\n",
    "* Чтобы совершать поездки по городу, пользователи сервиса пользуются мобильным приложением: \n",
    " *без подписки:*\n",
    " *абонентская плата отсутствует;*\n",
    " *стоимость одной минуты поездки — 8 рублей;*\n",
    " *стоимость старта (начала поездки) — 50 рублей;*\n",
    " *с подпиской Ultra*\n",
    " *абонентская плата — 199 рублей в месяц;*\n",
    " *стоимость одной минуты поездки — 6 рублей;*\n",
    " *стоимость старта — бесплатно.*\n",
    "* Продакт-менеджеры сервиса хотят увеличить количество пользователей с подпиской. Для этого они будут проводить различные акции.\n",
    "\n",
    "**Цель проекта**\n",
    "* Необходимо проанализировать данные и проверить некоторые гипотезы, которые могут помочь бизнесу вырасти.\n",
    "\n",
    "**Гипотезы**\n",
    "* Важно понять, тратят ли пользователи с подпиской больше времени на поездки? Если да, то пользователи с подпиской могут быть «выгоднее» для компании.\n",
    "*  Расстояние одной поездки в 3130 метров — оптимальное с точки зрения износа самоката. Можно ли сказать, что среднее расстояние, которое проезжают пользователи с подпиской за одну поездку, не превышает 3130 метров?\n",
    "* Будет ли помесячная выручка от пользователей с подпиской по месяцам выше, чем выручка от пользователей без подписки?\n",
    "\n",
    "**Описание данных**\n",
    "* Пользователи (*users_go.csv*):\n",
    "* *user_id* — уникальный идентификатор пользователя\n",
    "* *name* — имя пользователя\n",
    "* *age* — возраст\n",
    "* *city* — город\n",
    "* *subscription_type* — тип подписки (free, ultra)\n",
    "* Поездки(*rides_go.csv*):\n",
    "* *user_id* — уникальный идентификатор пользователя\n",
    "* *distance* — расстояние, которое пользователь проехал в текущей сессии (в метрах)\n",
    "* *duration* — продолжительность сессии (в минутах) — время с того момента, как пользователь нажал кнопку «Начать поездку» до момента, как он нажал кнопку «Завершить поездку»\n",
    "* *date* — дата совершения поездки\n",
    "* Подписки (*subscriptions_go.csv*):\n",
    "* *subscription_type* — тип подписки\n",
    "* *minute_price* — стоимость одной минуты поездки по данной подписке\n",
    "* *start_ride_price* — стоимость начала поездки\n",
    "* *subscription_fee* — стоимость ежемесячного платежа\n",
    "\n",
    "**Ход исследования**\n",
    "1. Загрузка данных\n",
    "2. Предобработка данных\n",
    "3. Исследовательский анализ данных\n",
    "4. Объединение данных\n",
    "5. Подсчет выручки\n",
    "6. Проверка гипотез\n",
    "\n",
    "</div>"
   ]
  },
  {
   "cell_type": "markdown",
   "id": "c42cbe00",
   "metadata": {},
   "source": [
    "#### Шаг 1. Загрузка данных"
   ]
  },
  {
   "cell_type": "code",
   "execution_count": 1,
   "id": "eff9f206",
   "metadata": {},
   "outputs": [],
   "source": [
    "import pandas as pd"
   ]
  },
  {
   "cell_type": "code",
   "execution_count": 3,
   "id": "08347ecf",
   "metadata": {},
   "outputs": [],
   "source": [
    "users_go = pd.read_csv('C:/Users/ноутбук/Downloads/users_go.csv')\n",
    "rides_go = pd.read_csv('C:/Users/ноутбук/Downloads/rides_go.csv')\n",
    "subscriptions_go = pd.read_csv('C:/Users/ноутбук/Downloads/subscriptions_go.csv')"
   ]
  },
  {
   "cell_type": "markdown",
   "id": "c3caf7ba",
   "metadata": {},
   "source": [
    "***1.2 Отобразим первые строки таблиц***"
   ]
  },
  {
   "cell_type": "code",
   "execution_count": 4,
   "id": "ec65763d",
   "metadata": {},
   "outputs": [
    {
     "name": "stdout",
     "output_type": "stream",
     "text": [
      "Пользователи: \n",
      "    user_id        name  age            city subscription_type\n",
      "0        1        Кира   22          Тюмень             ultra\n",
      "1        2   Станислав   31            Омск             ultra\n",
      "2        3     Алексей   20          Москва             ultra\n",
      "3        4  Константин   26  Ростов-на-Дону             ultra\n",
      "4        5       Адель   28            Омск             ultra\n",
      "5        6      Регина   25       Краснодар             ultra\n",
      "6        7       Игорь   23            Омск             ultra\n",
      "7        8        Юрий   23       Краснодар             ultra\n",
      "8        9          Ян   21       Пятигорск             ultra\n",
      "9       10     Валерий   18    Екатеринбург             ultra\n",
      "Поездки: \n",
      "    user_id     distance   duration        date\n",
      "0        1  4409.919140  25.599769  2021-01-01\n",
      "1        1  2617.592153  15.816871  2021-01-18\n",
      "2        1   754.159807   6.232113  2021-04-20\n",
      "3        1  2694.783254  18.511000  2021-08-11\n",
      "4        1  4028.687306  26.265803  2021-08-28\n",
      "5        1  2770.890808  16.650138  2021-10-09\n",
      "6        1  3039.020292  14.927879  2021-10-19\n",
      "7        1  2842.118050  23.117468  2021-11-06\n",
      "8        1  3412.690668  15.238072  2021-11-14\n",
      "9        1   748.690645  15.041884  2021-11-22\n",
      "Подписки: \n",
      "   subscription_type  minute_price  start_ride_price  subscription_fee\n",
      "0              free             8                50                 0\n",
      "1             ultra             6                 0               199\n"
     ]
    }
   ],
   "source": [
    "print('Пользователи: \\n', users_go.head(10))\n",
    "print('Поездки: \\n', rides_go.head(10))\n",
    "print('Подписки: \\n', subscriptions_go.head(10))"
   ]
  },
  {
   "cell_type": "markdown",
   "id": "e3907c48",
   "metadata": {},
   "source": [
    "***1.3 Изучим общую информацию о каждой таблице***"
   ]
  },
  {
   "cell_type": "code",
   "execution_count": 5,
   "id": "6aea9486",
   "metadata": {
    "scrolled": true
   },
   "outputs": [
    {
     "name": "stdout",
     "output_type": "stream",
     "text": [
      "<class 'pandas.core.frame.DataFrame'>\n",
      "RangeIndex: 1565 entries, 0 to 1564\n",
      "Data columns (total 5 columns):\n",
      " #   Column             Non-Null Count  Dtype \n",
      "---  ------             --------------  ----- \n",
      " 0   user_id            1565 non-null   int64 \n",
      " 1   name               1565 non-null   object\n",
      " 2   age                1565 non-null   int64 \n",
      " 3   city               1565 non-null   object\n",
      " 4   subscription_type  1565 non-null   object\n",
      "dtypes: int64(2), object(3)\n",
      "memory usage: 61.3+ KB\n"
     ]
    }
   ],
   "source": [
    "users_go.info()"
   ]
  },
  {
   "cell_type": "code",
   "execution_count": 6,
   "id": "e7390e8f",
   "metadata": {},
   "outputs": [],
   "source": [
    "import matplotlib.pyplot as plt"
   ]
  },
  {
   "cell_type": "code",
   "execution_count": 7,
   "id": "6e17243a",
   "metadata": {
    "scrolled": true
   },
   "outputs": [
    {
     "data": {
      "image/png": "[encoded data removed]",
      "text/plain": [
       "<Figure size 500x300 with 2 Axes>"
      ]
     },
     "metadata": {},
     "output_type": "display_data"
    }
   ],
   "source": [
    "users_go.hist(figsize=(5, 3))\n",
    "plt.show()"
   ]
  },
  {
   "cell_type": "code",
   "execution_count": 8,
   "id": "70791e23",
   "metadata": {},
   "outputs": [
    {
     "data": {
      "text/plain": [
       "31"
      ]
     },
     "execution_count": 8,
     "metadata": {},
     "output_type": "execute_result"
    }
   ],
   "source": [
    "users_go.duplicated().sum()"
   ]
  },
  {
   "cell_type": "markdown",
   "id": "21b1375c",
   "metadata": {},
   "source": [
    "***В таблице с данными о пользователях 5 столбцов и 1565 строк. Пропуски отсутсвуют. Тип данных в столбцах корректный. Явных дубликатов 31.***"
   ]
  },
  {
   "cell_type": "code",
   "execution_count": 9,
   "id": "8969c40e",
   "metadata": {},
   "outputs": [
    {
     "name": "stdout",
     "output_type": "stream",
     "text": [
      "<class 'pandas.core.frame.DataFrame'>\n",
      "RangeIndex: 18068 entries, 0 to 18067\n",
      "Data columns (total 4 columns):\n",
      " #   Column    Non-Null Count  Dtype  \n",
      "---  ------    --------------  -----  \n",
      " 0   user_id   18068 non-null  int64  \n",
      " 1   distance  18068 non-null  float64\n",
      " 2   duration  18068 non-null  float64\n",
      " 3   date      18068 non-null  object \n",
      "dtypes: float64(2), int64(1), object(1)\n",
      "memory usage: 564.8+ KB\n"
     ]
    }
   ],
   "source": [
    "rides_go.info()"
   ]
  },
  {
   "cell_type": "code",
   "execution_count": 10,
   "id": "19f00580",
   "metadata": {
    "scrolled": true
   },
   "outputs": [
    {
     "data": {
      "image/png": "[encoded data removed]",
      "text/plain": [
       "<Figure size 1000x1000 with 4 Axes>"
      ]
     },
     "metadata": {},
     "output_type": "display_data"
    }
   ],
   "source": [
    "rides_go.hist(figsize=(10, 10))\n",
    "plt.show()"
   ]
  },
  {
   "cell_type": "code",
   "execution_count": 11,
   "id": "9cf3f32c",
   "metadata": {},
   "outputs": [
    {
     "data": {
      "text/plain": [
       "0"
      ]
     },
     "execution_count": 11,
     "metadata": {},
     "output_type": "execute_result"
    }
   ],
   "source": [
    "rides_go.duplicated().sum()"
   ]
  },
  {
   "cell_type": "markdown",
   "id": "c54a5c8e",
   "metadata": {},
   "source": [
    "***В таблице с данными о поездках 4 столбца и 18068 строк. Тип данных в стобце date некорректный (object). Пропуски и явные дубликаты отсутствуют.***"
   ]
  },
  {
   "cell_type": "code",
   "execution_count": 12,
   "id": "348239b4",
   "metadata": {},
   "outputs": [
    {
     "name": "stdout",
     "output_type": "stream",
     "text": [
      "<class 'pandas.core.frame.DataFrame'>\n",
      "RangeIndex: 2 entries, 0 to 1\n",
      "Data columns (total 4 columns):\n",
      " #   Column             Non-Null Count  Dtype \n",
      "---  ------             --------------  ----- \n",
      " 0   subscription_type  2 non-null      object\n",
      " 1   minute_price       2 non-null      int64 \n",
      " 2   start_ride_price   2 non-null      int64 \n",
      " 3   subscription_fee   2 non-null      int64 \n",
      "dtypes: int64(3), object(1)\n",
      "memory usage: 196.0+ bytes\n"
     ]
    }
   ],
   "source": [
    "subscriptions_go.info()"
   ]
  },
  {
   "cell_type": "code",
   "execution_count": 13,
   "id": "589ebe1b",
   "metadata": {},
   "outputs": [
    {
     "data": {
      "text/html": [
       "<div>\n",
       "<style scoped>\n",
       "    .dataframe tbody tr th:only-of-type {\n",
       "        vertical-align: middle;\n",
       "    }\n",
       "\n",
       "    .dataframe tbody tr th {\n",
       "        vertical-align: top;\n",
       "    }\n",
       "\n",
       "    .dataframe thead th {\n",
       "        text-align: right;\n",
       "    }\n",
       "</style>\n",
       "<table border=\"1\" class=\"dataframe\">\n",
       "  <thead>\n",
       "    <tr style=\"text-align: right;\">\n",
       "      <th></th>\n",
       "      <th>subscription_type</th>\n",
       "      <th>minute_price</th>\n",
       "      <th>start_ride_price</th>\n",
       "      <th>subscription_fee</th>\n",
       "    </tr>\n",
       "  </thead>\n",
       "  <tbody>\n",
       "    <tr>\n",
       "      <th>0</th>\n",
       "      <td>free</td>\n",
       "      <td>8</td>\n",
       "      <td>50</td>\n",
       "      <td>0</td>\n",
       "    </tr>\n",
       "    <tr>\n",
       "      <th>1</th>\n",
       "      <td>ultra</td>\n",
       "      <td>6</td>\n",
       "      <td>0</td>\n",
       "      <td>199</td>\n",
       "    </tr>\n",
       "  </tbody>\n",
       "</table>\n",
       "</div>"
      ],
      "text/plain": [
       "  subscription_type  minute_price  start_ride_price  subscription_fee\n",
       "0              free             8                50                 0\n",
       "1             ultra             6                 0               199"
      ]
     },
     "execution_count": 13,
     "metadata": {},
     "output_type": "execute_result"
    }
   ],
   "source": [
    "subscriptions_go"
   ]
  },
  {
   "cell_type": "markdown",
   "id": "7ff23ea2",
   "metadata": {},
   "source": [
    "***В таблице с данными о подписках 4 столбца и всего две строки без пропусков.***"
   ]
  },
  {
   "cell_type": "markdown",
   "id": "5355d28c",
   "metadata": {},
   "source": [
    "**Вывод: В данных встречаются явные дубликаты и некорректный тип данных. Пропусков нет. Названия столбцов соответсвуют общему стилю.**"
   ]
  },
  {
   "cell_type": "markdown",
   "id": "e95ebca7",
   "metadata": {},
   "source": [
    "#### Шаг 2. Предобработка данных"
   ]
  },
  {
   "cell_type": "markdown",
   "id": "478c5126",
   "metadata": {},
   "source": [
    "***2.1 Удалим явные дубликаты в таблице с данными о пользователях. Их 31.***"
   ]
  },
  {
   "cell_type": "code",
   "execution_count": 14,
   "id": "816b12d0",
   "metadata": {},
   "outputs": [],
   "source": [
    "users_go = users_go.drop_duplicates().reset_index(drop=True)"
   ]
  },
  {
   "cell_type": "code",
   "execution_count": 15,
   "id": "f24a7d88",
   "metadata": {},
   "outputs": [
    {
     "data": {
      "text/plain": [
       "0"
      ]
     },
     "execution_count": 15,
     "metadata": {},
     "output_type": "execute_result"
    }
   ],
   "source": [
    "users_go.duplicated().sum()"
   ]
  },
  {
   "cell_type": "markdown",
   "id": "5b64b326",
   "metadata": {},
   "source": [
    "***2.2 В таблице с данными о поездках в столбцах distance и duration приведем тип данных к целым числам.***"
   ]
  },
  {
   "cell_type": "code",
   "execution_count": 16,
   "id": "c26fc2d6",
   "metadata": {},
   "outputs": [],
   "source": [
    "import numpy as np"
   ]
  },
  {
   "cell_type": "code",
   "execution_count": 17,
   "id": "587ed8cc",
   "metadata": {},
   "outputs": [],
   "source": [
    "rides_go['distance'] = rides_go['distance'].round(2).astype(int)"
   ]
  },
  {
   "cell_type": "code",
   "execution_count": 18,
   "id": "821bf6c3",
   "metadata": {
    "scrolled": true
   },
   "outputs": [
    {
     "data": {
      "text/plain": [
       "user_id      int64\n",
       "distance     int32\n",
       "duration     int32\n",
       "date        object\n",
       "dtype: object"
      ]
     },
     "execution_count": 18,
     "metadata": {},
     "output_type": "execute_result"
    }
   ],
   "source": [
    "rides_go['duration'] = rides_go['duration'].astype(int)\n",
    "rides_go.dtypes"
   ]
  },
  {
   "cell_type": "code",
   "execution_count": 19,
   "id": "f2713764",
   "metadata": {},
   "outputs": [
    {
     "data": {
      "text/html": [
       "<div>\n",
       "<style scoped>\n",
       "    .dataframe tbody tr th:only-of-type {\n",
       "        vertical-align: middle;\n",
       "    }\n",
       "\n",
       "    .dataframe tbody tr th {\n",
       "        vertical-align: top;\n",
       "    }\n",
       "\n",
       "    .dataframe thead th {\n",
       "        text-align: right;\n",
       "    }\n",
       "</style>\n",
       "<table border=\"1\" class=\"dataframe\">\n",
       "  <thead>\n",
       "    <tr style=\"text-align: right;\">\n",
       "      <th></th>\n",
       "      <th>user_id</th>\n",
       "      <th>distance</th>\n",
       "      <th>duration</th>\n",
       "      <th>date</th>\n",
       "    </tr>\n",
       "  </thead>\n",
       "  <tbody>\n",
       "    <tr>\n",
       "      <th>0</th>\n",
       "      <td>1</td>\n",
       "      <td>4409</td>\n",
       "      <td>25</td>\n",
       "      <td>2021-01-01</td>\n",
       "    </tr>\n",
       "    <tr>\n",
       "      <th>1</th>\n",
       "      <td>1</td>\n",
       "      <td>2617</td>\n",
       "      <td>15</td>\n",
       "      <td>2021-01-18</td>\n",
       "    </tr>\n",
       "    <tr>\n",
       "      <th>2</th>\n",
       "      <td>1</td>\n",
       "      <td>754</td>\n",
       "      <td>6</td>\n",
       "      <td>2021-04-20</td>\n",
       "    </tr>\n",
       "    <tr>\n",
       "      <th>3</th>\n",
       "      <td>1</td>\n",
       "      <td>2694</td>\n",
       "      <td>18</td>\n",
       "      <td>2021-08-11</td>\n",
       "    </tr>\n",
       "    <tr>\n",
       "      <th>4</th>\n",
       "      <td>1</td>\n",
       "      <td>4028</td>\n",
       "      <td>26</td>\n",
       "      <td>2021-08-28</td>\n",
       "    </tr>\n",
       "  </tbody>\n",
       "</table>\n",
       "</div>"
      ],
      "text/plain": [
       "   user_id  distance  duration        date\n",
       "0        1      4409        25  2021-01-01\n",
       "1        1      2617        15  2021-01-18\n",
       "2        1       754         6  2021-04-20\n",
       "3        1      2694        18  2021-08-11\n",
       "4        1      4028        26  2021-08-28"
      ]
     },
     "execution_count": 19,
     "metadata": {},
     "output_type": "execute_result"
    }
   ],
   "source": [
    "rides_go.head()"
   ]
  },
  {
   "cell_type": "markdown",
   "id": "d44a54ec",
   "metadata": {},
   "source": [
    "***2.3 В таблице с данными о поездках в столбце date некорректный тип данных(object). Следует отформатировать данные с датой и временем в понятный для Python тип данных.***"
   ]
  },
  {
   "cell_type": "code",
   "execution_count": 21,
   "id": "af6d202c",
   "metadata": {},
   "outputs": [
    {
     "name": "stdout",
     "output_type": "stream",
     "text": [
      "<class 'pandas.core.frame.DataFrame'>\n",
      "RangeIndex: 18068 entries, 0 to 18067\n",
      "Data columns (total 4 columns):\n",
      " #   Column    Non-Null Count  Dtype         \n",
      "---  ------    --------------  -----         \n",
      " 0   user_id   18068 non-null  int64         \n",
      " 1   distance  18068 non-null  int32         \n",
      " 2   duration  18068 non-null  int32         \n",
      " 3   date      18068 non-null  datetime64[ns]\n",
      "dtypes: datetime64[ns](1), int32(2), int64(1)\n",
      "memory usage: 423.6 KB\n"
     ]
    }
   ],
   "source": [
    "rides_go['date'] = pd.to_datetime(rides_go['date'])\n",
    "rides_go.info()"
   ]
  },
  {
   "cell_type": "markdown",
   "id": "c3060ca1",
   "metadata": {},
   "source": [
    "***2.4 В таблице с данными о поездках добавим новый столбец с номером месяца на основе столбца date.***"
   ]
  },
  {
   "cell_type": "code",
   "execution_count": 22,
   "id": "d25a8332",
   "metadata": {},
   "outputs": [],
   "source": [
    "rides_go['month'] = rides_go['date'].dt.month"
   ]
  },
  {
   "cell_type": "code",
   "execution_count": 23,
   "id": "e9bc363f",
   "metadata": {
    "scrolled": true
   },
   "outputs": [
    {
     "data": {
      "text/html": [
       "<div>\n",
       "<style scoped>\n",
       "    .dataframe tbody tr th:only-of-type {\n",
       "        vertical-align: middle;\n",
       "    }\n",
       "\n",
       "    .dataframe tbody tr th {\n",
       "        vertical-align: top;\n",
       "    }\n",
       "\n",
       "    .dataframe thead th {\n",
       "        text-align: right;\n",
       "    }\n",
       "</style>\n",
       "<table border=\"1\" class=\"dataframe\">\n",
       "  <thead>\n",
       "    <tr style=\"text-align: right;\">\n",
       "      <th></th>\n",
       "      <th>user_id</th>\n",
       "      <th>distance</th>\n",
       "      <th>duration</th>\n",
       "      <th>date</th>\n",
       "      <th>month</th>\n",
       "    </tr>\n",
       "  </thead>\n",
       "  <tbody>\n",
       "    <tr>\n",
       "      <th>0</th>\n",
       "      <td>1</td>\n",
       "      <td>4409</td>\n",
       "      <td>25</td>\n",
       "      <td>2021-01-01</td>\n",
       "      <td>1</td>\n",
       "    </tr>\n",
       "    <tr>\n",
       "      <th>1</th>\n",
       "      <td>1</td>\n",
       "      <td>2617</td>\n",
       "      <td>15</td>\n",
       "      <td>2021-01-18</td>\n",
       "      <td>1</td>\n",
       "    </tr>\n",
       "    <tr>\n",
       "      <th>2</th>\n",
       "      <td>1</td>\n",
       "      <td>754</td>\n",
       "      <td>6</td>\n",
       "      <td>2021-04-20</td>\n",
       "      <td>4</td>\n",
       "    </tr>\n",
       "    <tr>\n",
       "      <th>3</th>\n",
       "      <td>1</td>\n",
       "      <td>2694</td>\n",
       "      <td>18</td>\n",
       "      <td>2021-08-11</td>\n",
       "      <td>8</td>\n",
       "    </tr>\n",
       "    <tr>\n",
       "      <th>4</th>\n",
       "      <td>1</td>\n",
       "      <td>4028</td>\n",
       "      <td>26</td>\n",
       "      <td>2021-08-28</td>\n",
       "      <td>8</td>\n",
       "    </tr>\n",
       "  </tbody>\n",
       "</table>\n",
       "</div>"
      ],
      "text/plain": [
       "   user_id  distance  duration       date  month\n",
       "0        1      4409        25 2021-01-01      1\n",
       "1        1      2617        15 2021-01-18      1\n",
       "2        1       754         6 2021-04-20      4\n",
       "3        1      2694        18 2021-08-11      8\n",
       "4        1      4028        26 2021-08-28      8"
      ]
     },
     "execution_count": 23,
     "metadata": {},
     "output_type": "execute_result"
    }
   ],
   "source": [
    "rides_go.head()"
   ]
  },
  {
   "cell_type": "markdown",
   "id": "1e2cc33a",
   "metadata": {},
   "source": [
    "**Итак, устранили некорректный тип данных, избавились от дубликатов, а так же добавили новый с толбец, который будет полезен для исследования. Можно приступить к анализу.**"
   ]
  },
  {
   "cell_type": "markdown",
   "id": "212593c7",
   "metadata": {},
   "source": [
    "#### Шаг 3. Исследовательский анализ данных"
   ]
  },
  {
   "cell_type": "markdown",
   "id": "f581436e",
   "metadata": {},
   "source": [
    "***3.1 Исследуем частоту встречаемости городов.***"
   ]
  },
  {
   "cell_type": "code",
   "execution_count": 24,
   "id": "f73015d4",
   "metadata": {},
   "outputs": [
    {
     "data": {
      "image/png": "[encoded data removed]",
      "text/plain": [
       "<Figure size 1000x500 with 1 Axes>"
      ]
     },
     "metadata": {},
     "output_type": "display_data"
    }
   ],
   "source": [
    "users_go.pivot_table(index='city', values='user_id', aggfunc='count').sort_values('user_id', ascending=False).plot(kind='bar', grid=True, figsize=(10, 5))\n",
    "plt.title('Частота встречаемости городов')\n",
    "plt.xlabel('Название города')\n",
    "plt.ylabel('Количество')\n",
    "plt.show()"
   ]
  },
  {
   "cell_type": "code",
   "execution_count": 25,
   "id": "9f0284ac",
   "metadata": {},
   "outputs": [
    {
     "data": {
      "text/plain": [
       "city\n",
       "Пятигорск         219\n",
       "Екатеринбург      204\n",
       "Ростов-на-Дону    198\n",
       "Краснодар         193\n",
       "Сочи              189\n",
       "Омск              183\n",
       "Тюмень            180\n",
       "Москва            168\n",
       "Name: count, dtype: int64"
      ]
     },
     "execution_count": 25,
     "metadata": {},
     "output_type": "execute_result"
    }
   ],
   "source": [
    "users_go['city'].value_counts()"
   ]
  },
  {
   "cell_type": "markdown",
   "id": "44a0e23c",
   "metadata": {},
   "source": [
    "***Самое большое количество пользователей в Пятигорске - 219 (219), Екатеринбурге (204) и Краснодаре (198). Меньше всего пользователей в Москве (168).***"
   ]
  },
  {
   "cell_type": "markdown",
   "id": "680f3387",
   "metadata": {},
   "source": [
    "***3.2 Исследуем соотношение пользователей с подпиской и без подписки.***"
   ]
  },
  {
   "cell_type": "code",
   "execution_count": 26,
   "id": "f1e6e416",
   "metadata": {},
   "outputs": [
    {
     "data": {
      "text/html": [
       "<div>\n",
       "<style scoped>\n",
       "    .dataframe tbody tr th:only-of-type {\n",
       "        vertical-align: middle;\n",
       "    }\n",
       "\n",
       "    .dataframe tbody tr th {\n",
       "        vertical-align: top;\n",
       "    }\n",
       "\n",
       "    .dataframe thead th {\n",
       "        text-align: right;\n",
       "    }\n",
       "</style>\n",
       "<table border=\"1\" class=\"dataframe\">\n",
       "  <thead>\n",
       "    <tr style=\"text-align: right;\">\n",
       "      <th></th>\n",
       "      <th>subscription_type</th>\n",
       "      <th>user_id</th>\n",
       "    </tr>\n",
       "  </thead>\n",
       "  <tbody>\n",
       "    <tr>\n",
       "      <th>0</th>\n",
       "      <td>free</td>\n",
       "      <td>835</td>\n",
       "    </tr>\n",
       "    <tr>\n",
       "      <th>1</th>\n",
       "      <td>ultra</td>\n",
       "      <td>699</td>\n",
       "    </tr>\n",
       "  </tbody>\n",
       "</table>\n",
       "</div>"
      ],
      "text/plain": [
       "  subscription_type  user_id\n",
       "0              free      835\n",
       "1             ultra      699"
      ]
     },
     "execution_count": 26,
     "metadata": {},
     "output_type": "execute_result"
    }
   ],
   "source": [
    "users_go.pivot_table(index='subscription_type', values='user_id', aggfunc='count').reset_index()"
   ]
  },
  {
   "cell_type": "code",
   "execution_count": 27,
   "id": "8059118f",
   "metadata": {},
   "outputs": [
    {
     "data": {
      "image/png": "[encoded data removed]",
      "text/plain": [
       "<Figure size 400x400 with 1 Axes>"
      ]
     },
     "metadata": {},
     "output_type": "display_data"
    }
   ],
   "source": [
    "users_go.pivot_table(index='subscription_type', values='user_id', aggfunc='count').plot(kind='pie', y='user_id', figsize=(4,4), autopct='%1.1f%%')\n",
    "plt.show()"
   ]
  },
  {
   "cell_type": "markdown",
   "id": "2f0dba29",
   "metadata": {},
   "source": [
    "***Пользователей с подпиской free больше, чем пользователей с подпиской ultra.***"
   ]
  },
  {
   "cell_type": "markdown",
   "id": "6f2425f0",
   "metadata": {},
   "source": [
    "***3.3 Исследуем возраст пользователей.***"
   ]
  },
  {
   "cell_type": "code",
   "execution_count": 28,
   "id": "7593a728",
   "metadata": {},
   "outputs": [
    {
     "data": {
      "text/plain": [
       "count    1534.000000\n",
       "mean       24.903520\n",
       "std         4.572367\n",
       "min        12.000000\n",
       "25%        22.000000\n",
       "50%        25.000000\n",
       "75%        28.000000\n",
       "max        43.000000\n",
       "Name: age, dtype: float64"
      ]
     },
     "execution_count": 28,
     "metadata": {},
     "output_type": "execute_result"
    }
   ],
   "source": [
    "users_go['age'].describe()"
   ]
  },
  {
   "cell_type": "code",
   "execution_count": 29,
   "id": "a444262c",
   "metadata": {},
   "outputs": [
    {
     "data": {
      "image/png": "[encoded data removed]",
      "text/plain": [
       "<Figure size 1000x600 with 1 Axes>"
      ]
     },
     "metadata": {},
     "output_type": "display_data"
    }
   ],
   "source": [
    "users_go.pivot_table(index='age', values='user_id', aggfunc='count').plot(kind='bar', grid=True, figsize=(10, 6))\n",
    "plt.title('Возраст пользователей')\n",
    "plt.xlabel('Возраст')\n",
    "plt.ylabel('Количество')\n",
    "plt.show()"
   ]
  },
  {
   "cell_type": "markdown",
   "id": "1d5052a8",
   "metadata": {},
   "source": [
    "***Распределение пользователей по возрасту нормальное. Услугами пользуются клиенты от 12 до 43 лет. Самое большое количество пользователей в возрасте от 22 до 28 лет.***"
   ]
  },
  {
   "cell_type": "markdown",
   "id": "7b93d999",
   "metadata": {},
   "source": [
    "***3.4 Исследуем расстояние, которое пользователь преодолел за одну поездку.***"
   ]
  },
  {
   "cell_type": "code",
   "execution_count": 30,
   "id": "5ed25d80",
   "metadata": {},
   "outputs": [
    {
     "data": {
      "text/plain": [
       "count    18068.000000\n",
       "mean      3070.164545\n",
       "std       1116.831597\n",
       "min          0.000000\n",
       "25%       2542.750000\n",
       "50%       3133.000000\n",
       "75%       3776.000000\n",
       "max       7211.000000\n",
       "Name: distance, dtype: float64"
      ]
     },
     "execution_count": 30,
     "metadata": {},
     "output_type": "execute_result"
    }
   ],
   "source": [
    "rides_go['distance'].describe()"
   ]
  },
  {
   "cell_type": "code",
   "execution_count": 31,
   "id": "29fdcc43",
   "metadata": {},
   "outputs": [
    {
     "data": {
      "image/png": "[encoded data removed]",
      "text/plain": [
       "<Figure size 640x480 with 1 Axes>"
      ]
     },
     "metadata": {},
     "output_type": "display_data"
    }
   ],
   "source": [
    "plt.hist(rides_go['distance'], bins=70)\n",
    "plt.title('Расстояние за одну поездку, м.')\n",
    "plt.xlabel('Расстояние, м.')\n",
    "plt.ylabel('Кол-во поездок')\n",
    "plt.show()"
   ]
  },
  {
   "cell_type": "markdown",
   "id": "212e44b0",
   "metadata": {},
   "source": [
    "***Максимальное расстояние поездки составляет 7211м. Минимальное - 0 (здесь,скорее всего, пользователь отказался от поедки, либо - техническая ошибка). Чаще всего пользователи преодолевают расстояние чуть более 3000м. за одну поездку. На это указывает вершина графика распределения. В левом хвосте графика наблюдается пик около 700м.***"
   ]
  },
  {
   "cell_type": "markdown",
   "id": "f6eab0e2",
   "metadata": {},
   "source": [
    "***3.5 Исследуем продолжительность поездок.***"
   ]
  },
  {
   "cell_type": "code",
   "execution_count": 32,
   "id": "abee4e54",
   "metadata": {
    "scrolled": true
   },
   "outputs": [
    {
     "data": {
      "text/plain": [
       "count    18068.000000\n",
       "mean        17.303520\n",
       "std          6.094928\n",
       "min          0.000000\n",
       "25%         13.000000\n",
       "50%         17.000000\n",
       "75%         21.000000\n",
       "max         40.000000\n",
       "Name: duration, dtype: float64"
      ]
     },
     "execution_count": 32,
     "metadata": {},
     "output_type": "execute_result"
    }
   ],
   "source": [
    "rides_go['duration'].describe()"
   ]
  },
  {
   "cell_type": "code",
   "execution_count": 33,
   "id": "6149f988",
   "metadata": {},
   "outputs": [
    {
     "data": {
      "image/png": "[encoded data removed]",
      "text/plain": [
       "<Figure size 640x480 with 1 Axes>"
      ]
     },
     "metadata": {},
     "output_type": "display_data"
    }
   ],
   "source": [
    "plt.hist(rides_go['duration'], bins=40)\n",
    "plt.title('Продолжительность поездок, мин.')\n",
    "plt.xlabel('Продолдительность поездки')\n",
    "plt.ylabel('Кол-во поездок')\n",
    "plt.show()"
   ]
  },
  {
   "cell_type": "markdown",
   "id": "be637237",
   "metadata": {},
   "source": [
    "***В среднем продолжительность поедок составляет от 12 до 25 минут. Чаще всего пользователи тратят 18 миут на поездку. Самая длительная поезка около 40 минут. Поездок с минимальной продолжительностью 1 минута около 100. Возможно это и есть поездки от которых скорее всего отказался пользователь, а может быть техническая ошибка. Посмотрим срез данных по крайне коротким по времени поездкам.***"
   ]
  },
  {
   "cell_type": "code",
   "execution_count": 34,
   "id": "23f356fe",
   "metadata": {
    "scrolled": true
   },
   "outputs": [
    {
     "data": {
      "text/html": [
       "<div>\n",
       "<style scoped>\n",
       "    .dataframe tbody tr th:only-of-type {\n",
       "        vertical-align: middle;\n",
       "    }\n",
       "\n",
       "    .dataframe tbody tr th {\n",
       "        vertical-align: top;\n",
       "    }\n",
       "\n",
       "    .dataframe thead th {\n",
       "        text-align: right;\n",
       "    }\n",
       "</style>\n",
       "<table border=\"1\" class=\"dataframe\">\n",
       "  <thead>\n",
       "    <tr style=\"text-align: right;\">\n",
       "      <th></th>\n",
       "      <th>user_id</th>\n",
       "      <th>distance</th>\n",
       "      <th>duration</th>\n",
       "      <th>date</th>\n",
       "      <th>month</th>\n",
       "    </tr>\n",
       "  </thead>\n",
       "  <tbody>\n",
       "    <tr>\n",
       "      <th>6531</th>\n",
       "      <td>701</td>\n",
       "      <td>4196</td>\n",
       "      <td>0</td>\n",
       "      <td>2021-08-31</td>\n",
       "      <td>8</td>\n",
       "    </tr>\n",
       "    <tr>\n",
       "      <th>6570</th>\n",
       "      <td>704</td>\n",
       "      <td>4830</td>\n",
       "      <td>0</td>\n",
       "      <td>2021-10-14</td>\n",
       "      <td>10</td>\n",
       "    </tr>\n",
       "    <tr>\n",
       "      <th>6680</th>\n",
       "      <td>712</td>\n",
       "      <td>4684</td>\n",
       "      <td>0</td>\n",
       "      <td>2021-03-04</td>\n",
       "      <td>3</td>\n",
       "    </tr>\n",
       "    <tr>\n",
       "      <th>6695</th>\n",
       "      <td>713</td>\n",
       "      <td>5215</td>\n",
       "      <td>0</td>\n",
       "      <td>2021-02-25</td>\n",
       "      <td>2</td>\n",
       "    </tr>\n",
       "    <tr>\n",
       "      <th>6768</th>\n",
       "      <td>718</td>\n",
       "      <td>5197</td>\n",
       "      <td>0</td>\n",
       "      <td>2021-02-11</td>\n",
       "      <td>2</td>\n",
       "    </tr>\n",
       "    <tr>\n",
       "      <th>...</th>\n",
       "      <td>...</td>\n",
       "      <td>...</td>\n",
       "      <td>...</td>\n",
       "      <td>...</td>\n",
       "      <td>...</td>\n",
       "    </tr>\n",
       "    <tr>\n",
       "      <th>17004</th>\n",
       "      <td>1460</td>\n",
       "      <td>5531</td>\n",
       "      <td>0</td>\n",
       "      <td>2021-01-19</td>\n",
       "      <td>1</td>\n",
       "    </tr>\n",
       "    <tr>\n",
       "      <th>17242</th>\n",
       "      <td>1477</td>\n",
       "      <td>6724</td>\n",
       "      <td>0</td>\n",
       "      <td>2021-01-12</td>\n",
       "      <td>1</td>\n",
       "    </tr>\n",
       "    <tr>\n",
       "      <th>17314</th>\n",
       "      <td>1483</td>\n",
       "      <td>4445</td>\n",
       "      <td>0</td>\n",
       "      <td>2021-03-06</td>\n",
       "      <td>3</td>\n",
       "    </tr>\n",
       "    <tr>\n",
       "      <th>17505</th>\n",
       "      <td>1496</td>\n",
       "      <td>5722</td>\n",
       "      <td>0</td>\n",
       "      <td>2021-02-14</td>\n",
       "      <td>2</td>\n",
       "    </tr>\n",
       "    <tr>\n",
       "      <th>17909</th>\n",
       "      <td>1524</td>\n",
       "      <td>4104</td>\n",
       "      <td>0</td>\n",
       "      <td>2021-06-18</td>\n",
       "      <td>6</td>\n",
       "    </tr>\n",
       "  </tbody>\n",
       "</table>\n",
       "<p>95 rows × 5 columns</p>\n",
       "</div>"
      ],
      "text/plain": [
       "       user_id  distance  duration       date  month\n",
       "6531       701      4196         0 2021-08-31      8\n",
       "6570       704      4830         0 2021-10-14     10\n",
       "6680       712      4684         0 2021-03-04      3\n",
       "6695       713      5215         0 2021-02-25      2\n",
       "6768       718      5197         0 2021-02-11      2\n",
       "...        ...       ...       ...        ...    ...\n",
       "17004     1460      5531         0 2021-01-19      1\n",
       "17242     1477      6724         0 2021-01-12      1\n",
       "17314     1483      4445         0 2021-03-06      3\n",
       "17505     1496      5722         0 2021-02-14      2\n",
       "17909     1524      4104         0 2021-06-18      6\n",
       "\n",
       "[95 rows x 5 columns]"
      ]
     },
     "metadata": {},
     "output_type": "display_data"
    }
   ],
   "source": [
    "display(rides_go.query('duration <= 1'))"
   ]
  },
  {
   "cell_type": "markdown",
   "id": "813bf477",
   "metadata": {},
   "source": [
    "***При значении продолжительности поездок 0,5 минут расстояние более 4000 м. Если бы пользователь отказался от поездки, то и расстояние должно было бы равняться нулю. За минуту на самокате такое расстояние не преодолеть. Нужно сообщить об этом коллегам. Возможен технический сбой***"
   ]
  },
  {
   "cell_type": "markdown",
   "id": "c97afe91",
   "metadata": {},
   "source": [
    "**Итак, проведя иследовательский анализ некоторых данных можно сказать, что:**\n",
    "\n",
    "**Самое большое количество пользователей в Пятигорске, Екатеринбурге и Краснодаре. Меньше всего пользователей в Москве.**\n",
    "\n",
    "**Пользователей с подпиской free больше, чем пользователей с подпиской ultra.**\n",
    "\n",
    "**Распределение пользователей по возрасту нормальное. Услугами пользуются клиенты от 12 до 43 лет. Самое большое количество пользователей в возрасте от 22 до 28 лет.**\n",
    "\n",
    "**Максимальное расстояние поездки составляет 7211м. Минимальное - 0 (здесь,скорее всего, пользователь отказался от поедки, либо - техническая ошибка). Чаще всего пользователи преодолевают расстояние чуть более 3000м. за одну поездку. На это указывает вершина графика распределения. В левом хвосте графика наблюдается пик около 700м.**\n",
    "\n",
    "***В среднем продолжительность поедок составляет от 12 до 25 минут. Чаще всего пользователи тратят 18 миут на поездку. Самая длительная поезка около 40 минут. Поездок с минимальной продолжительностью 1 минута около 100. При значении продолжительности поездок 0,5 минут расстояние более 4000 м. Если бы пользователь отказался от поездки, то и расстояние должно было бы равняться нулю. За минуту на самокате такое расстояние не преодолеть ***"
   ]
  },
  {
   "cell_type": "markdown",
   "id": "4ef51331",
   "metadata": {},
   "source": [
    "#### Шаг 4. Объединение данных"
   ]
  },
  {
   "cell_type": "markdown",
   "id": "26d88bb7",
   "metadata": {},
   "source": [
    "***4.1 Объединим данные о пользователях, поездках и подписках в один датафрейм.***"
   ]
  },
  {
   "cell_type": "code",
   "execution_count": 35,
   "id": "7ef193a1",
   "metadata": {},
   "outputs": [
    {
     "data": {
      "text/html": [
       "<div>\n",
       "<style scoped>\n",
       "    .dataframe tbody tr th:only-of-type {\n",
       "        vertical-align: middle;\n",
       "    }\n",
       "\n",
       "    .dataframe tbody tr th {\n",
       "        vertical-align: top;\n",
       "    }\n",
       "\n",
       "    .dataframe thead th {\n",
       "        text-align: right;\n",
       "    }\n",
       "</style>\n",
       "<table border=\"1\" class=\"dataframe\">\n",
       "  <thead>\n",
       "    <tr style=\"text-align: right;\">\n",
       "      <th></th>\n",
       "      <th>user_id</th>\n",
       "      <th>name</th>\n",
       "      <th>age</th>\n",
       "      <th>city</th>\n",
       "      <th>subscription_type</th>\n",
       "      <th>distance</th>\n",
       "      <th>duration</th>\n",
       "      <th>date</th>\n",
       "      <th>month</th>\n",
       "    </tr>\n",
       "  </thead>\n",
       "  <tbody>\n",
       "    <tr>\n",
       "      <th>0</th>\n",
       "      <td>1</td>\n",
       "      <td>Кира</td>\n",
       "      <td>22</td>\n",
       "      <td>Тюмень</td>\n",
       "      <td>ultra</td>\n",
       "      <td>4409</td>\n",
       "      <td>25</td>\n",
       "      <td>2021-01-01</td>\n",
       "      <td>1</td>\n",
       "    </tr>\n",
       "    <tr>\n",
       "      <th>1</th>\n",
       "      <td>1</td>\n",
       "      <td>Кира</td>\n",
       "      <td>22</td>\n",
       "      <td>Тюмень</td>\n",
       "      <td>ultra</td>\n",
       "      <td>2617</td>\n",
       "      <td>15</td>\n",
       "      <td>2021-01-18</td>\n",
       "      <td>1</td>\n",
       "    </tr>\n",
       "    <tr>\n",
       "      <th>2</th>\n",
       "      <td>1</td>\n",
       "      <td>Кира</td>\n",
       "      <td>22</td>\n",
       "      <td>Тюмень</td>\n",
       "      <td>ultra</td>\n",
       "      <td>754</td>\n",
       "      <td>6</td>\n",
       "      <td>2021-04-20</td>\n",
       "      <td>4</td>\n",
       "    </tr>\n",
       "    <tr>\n",
       "      <th>3</th>\n",
       "      <td>1</td>\n",
       "      <td>Кира</td>\n",
       "      <td>22</td>\n",
       "      <td>Тюмень</td>\n",
       "      <td>ultra</td>\n",
       "      <td>2694</td>\n",
       "      <td>18</td>\n",
       "      <td>2021-08-11</td>\n",
       "      <td>8</td>\n",
       "    </tr>\n",
       "    <tr>\n",
       "      <th>4</th>\n",
       "      <td>1</td>\n",
       "      <td>Кира</td>\n",
       "      <td>22</td>\n",
       "      <td>Тюмень</td>\n",
       "      <td>ultra</td>\n",
       "      <td>4028</td>\n",
       "      <td>26</td>\n",
       "      <td>2021-08-28</td>\n",
       "      <td>8</td>\n",
       "    </tr>\n",
       "    <tr>\n",
       "      <th>5</th>\n",
       "      <td>1</td>\n",
       "      <td>Кира</td>\n",
       "      <td>22</td>\n",
       "      <td>Тюмень</td>\n",
       "      <td>ultra</td>\n",
       "      <td>2770</td>\n",
       "      <td>16</td>\n",
       "      <td>2021-10-09</td>\n",
       "      <td>10</td>\n",
       "    </tr>\n",
       "    <tr>\n",
       "      <th>6</th>\n",
       "      <td>1</td>\n",
       "      <td>Кира</td>\n",
       "      <td>22</td>\n",
       "      <td>Тюмень</td>\n",
       "      <td>ultra</td>\n",
       "      <td>3039</td>\n",
       "      <td>14</td>\n",
       "      <td>2021-10-19</td>\n",
       "      <td>10</td>\n",
       "    </tr>\n",
       "    <tr>\n",
       "      <th>7</th>\n",
       "      <td>1</td>\n",
       "      <td>Кира</td>\n",
       "      <td>22</td>\n",
       "      <td>Тюмень</td>\n",
       "      <td>ultra</td>\n",
       "      <td>2842</td>\n",
       "      <td>23</td>\n",
       "      <td>2021-11-06</td>\n",
       "      <td>11</td>\n",
       "    </tr>\n",
       "    <tr>\n",
       "      <th>8</th>\n",
       "      <td>1</td>\n",
       "      <td>Кира</td>\n",
       "      <td>22</td>\n",
       "      <td>Тюмень</td>\n",
       "      <td>ultra</td>\n",
       "      <td>3412</td>\n",
       "      <td>15</td>\n",
       "      <td>2021-11-14</td>\n",
       "      <td>11</td>\n",
       "    </tr>\n",
       "    <tr>\n",
       "      <th>9</th>\n",
       "      <td>1</td>\n",
       "      <td>Кира</td>\n",
       "      <td>22</td>\n",
       "      <td>Тюмень</td>\n",
       "      <td>ultra</td>\n",
       "      <td>748</td>\n",
       "      <td>15</td>\n",
       "      <td>2021-11-22</td>\n",
       "      <td>11</td>\n",
       "    </tr>\n",
       "  </tbody>\n",
       "</table>\n",
       "</div>"
      ],
      "text/plain": [
       "   user_id  name  age    city subscription_type  distance  duration  \\\n",
       "0        1  Кира   22  Тюмень             ultra      4409        25   \n",
       "1        1  Кира   22  Тюмень             ultra      2617        15   \n",
       "2        1  Кира   22  Тюмень             ultra       754         6   \n",
       "3        1  Кира   22  Тюмень             ultra      2694        18   \n",
       "4        1  Кира   22  Тюмень             ultra      4028        26   \n",
       "5        1  Кира   22  Тюмень             ultra      2770        16   \n",
       "6        1  Кира   22  Тюмень             ultra      3039        14   \n",
       "7        1  Кира   22  Тюмень             ultra      2842        23   \n",
       "8        1  Кира   22  Тюмень             ultra      3412        15   \n",
       "9        1  Кира   22  Тюмень             ultra       748        15   \n",
       "\n",
       "        date  month  \n",
       "0 2021-01-01      1  \n",
       "1 2021-01-18      1  \n",
       "2 2021-04-20      4  \n",
       "3 2021-08-11      8  \n",
       "4 2021-08-28      8  \n",
       "5 2021-10-09     10  \n",
       "6 2021-10-19     10  \n",
       "7 2021-11-06     11  \n",
       "8 2021-11-14     11  \n",
       "9 2021-11-22     11  "
      ]
     },
     "execution_count": 35,
     "metadata": {},
     "output_type": "execute_result"
    }
   ],
   "source": [
    "new_data_go = users_go.merge(rides_go, on='user_id')\n",
    "new_data_go.head(10)"
   ]
  },
  {
   "cell_type": "code",
   "execution_count": 36,
   "id": "bfe85e65",
   "metadata": {},
   "outputs": [
    {
     "name": "stdout",
     "output_type": "stream",
     "text": [
      "<class 'pandas.core.frame.DataFrame'>\n",
      "RangeIndex: 18068 entries, 0 to 18067\n",
      "Data columns (total 9 columns):\n",
      " #   Column             Non-Null Count  Dtype         \n",
      "---  ------             --------------  -----         \n",
      " 0   user_id            18068 non-null  int64         \n",
      " 1   name               18068 non-null  object        \n",
      " 2   age                18068 non-null  int64         \n",
      " 3   city               18068 non-null  object        \n",
      " 4   subscription_type  18068 non-null  object        \n",
      " 5   distance           18068 non-null  int32         \n",
      " 6   duration           18068 non-null  int32         \n",
      " 7   date               18068 non-null  datetime64[ns]\n",
      " 8   month              18068 non-null  int32         \n",
      "dtypes: datetime64[ns](1), int32(3), int64(2), object(3)\n",
      "memory usage: 1.0+ MB\n"
     ]
    }
   ],
   "source": [
    "new_data_go.info()"
   ]
  },
  {
   "cell_type": "code",
   "execution_count": 37,
   "id": "df29b79f",
   "metadata": {},
   "outputs": [
    {
     "data": {
      "text/plain": [
       "0"
      ]
     },
     "execution_count": 37,
     "metadata": {},
     "output_type": "execute_result"
    }
   ],
   "source": [
    "new_data_go.duplicated().sum()"
   ]
  },
  {
   "cell_type": "code",
   "execution_count": 38,
   "id": "b614ed34",
   "metadata": {},
   "outputs": [
    {
     "data": {
      "text/plain": [
       "user_id              0\n",
       "name                 0\n",
       "age                  0\n",
       "city                 0\n",
       "subscription_type    0\n",
       "distance             0\n",
       "duration             0\n",
       "date                 0\n",
       "month                0\n",
       "dtype: int64"
      ]
     },
     "execution_count": 38,
     "metadata": {},
     "output_type": "execute_result"
    }
   ],
   "source": [
    "new_data_go.isna().sum()"
   ]
  },
  {
   "cell_type": "markdown",
   "id": "bea15172",
   "metadata": {},
   "source": [
    "***В новом датафрейме 9 колонок и 18068 строк. Пропуски и явные дубликаты отсутствуют.***"
   ]
  },
  {
   "cell_type": "markdown",
   "id": "f81bd0c8",
   "metadata": {},
   "source": [
    "***4.2 Создадим ещё два датафрейма.***"
   ]
  },
  {
   "cell_type": "code",
   "execution_count": 39,
   "id": "760d4792",
   "metadata": {},
   "outputs": [
    {
     "data": {
      "text/html": [
       "<div>\n",
       "<style scoped>\n",
       "    .dataframe tbody tr th:only-of-type {\n",
       "        vertical-align: middle;\n",
       "    }\n",
       "\n",
       "    .dataframe tbody tr th {\n",
       "        vertical-align: top;\n",
       "    }\n",
       "\n",
       "    .dataframe thead th {\n",
       "        text-align: right;\n",
       "    }\n",
       "</style>\n",
       "<table border=\"1\" class=\"dataframe\">\n",
       "  <thead>\n",
       "    <tr style=\"text-align: right;\">\n",
       "      <th></th>\n",
       "      <th>user_id</th>\n",
       "      <th>name</th>\n",
       "      <th>age</th>\n",
       "      <th>city</th>\n",
       "      <th>subscription_type</th>\n",
       "      <th>distance</th>\n",
       "      <th>duration</th>\n",
       "      <th>date</th>\n",
       "      <th>month</th>\n",
       "    </tr>\n",
       "  </thead>\n",
       "  <tbody>\n",
       "    <tr>\n",
       "      <th>6500</th>\n",
       "      <td>700</td>\n",
       "      <td>Айдар</td>\n",
       "      <td>22</td>\n",
       "      <td>Омск</td>\n",
       "      <td>free</td>\n",
       "      <td>2515</td>\n",
       "      <td>14</td>\n",
       "      <td>2021-01-02</td>\n",
       "      <td>1</td>\n",
       "    </tr>\n",
       "    <tr>\n",
       "      <th>6501</th>\n",
       "      <td>700</td>\n",
       "      <td>Айдар</td>\n",
       "      <td>22</td>\n",
       "      <td>Омск</td>\n",
       "      <td>free</td>\n",
       "      <td>846</td>\n",
       "      <td>16</td>\n",
       "      <td>2021-02-01</td>\n",
       "      <td>2</td>\n",
       "    </tr>\n",
       "    <tr>\n",
       "      <th>6502</th>\n",
       "      <td>700</td>\n",
       "      <td>Айдар</td>\n",
       "      <td>22</td>\n",
       "      <td>Омск</td>\n",
       "      <td>free</td>\n",
       "      <td>4004</td>\n",
       "      <td>20</td>\n",
       "      <td>2021-02-04</td>\n",
       "      <td>2</td>\n",
       "    </tr>\n",
       "    <tr>\n",
       "      <th>6503</th>\n",
       "      <td>700</td>\n",
       "      <td>Айдар</td>\n",
       "      <td>22</td>\n",
       "      <td>Омск</td>\n",
       "      <td>free</td>\n",
       "      <td>1205</td>\n",
       "      <td>9</td>\n",
       "      <td>2021-02-10</td>\n",
       "      <td>2</td>\n",
       "    </tr>\n",
       "    <tr>\n",
       "      <th>6504</th>\n",
       "      <td>700</td>\n",
       "      <td>Айдар</td>\n",
       "      <td>22</td>\n",
       "      <td>Омск</td>\n",
       "      <td>free</td>\n",
       "      <td>3047</td>\n",
       "      <td>17</td>\n",
       "      <td>2021-02-14</td>\n",
       "      <td>2</td>\n",
       "    </tr>\n",
       "  </tbody>\n",
       "</table>\n",
       "</div>"
      ],
      "text/plain": [
       "      user_id   name  age  city subscription_type  distance  duration  \\\n",
       "6500      700  Айдар   22  Омск              free      2515        14   \n",
       "6501      700  Айдар   22  Омск              free       846        16   \n",
       "6502      700  Айдар   22  Омск              free      4004        20   \n",
       "6503      700  Айдар   22  Омск              free      1205         9   \n",
       "6504      700  Айдар   22  Омск              free      3047        17   \n",
       "\n",
       "           date  month  \n",
       "6500 2021-01-02      1  \n",
       "6501 2021-02-01      2  \n",
       "6502 2021-02-04      2  \n",
       "6503 2021-02-10      2  \n",
       "6504 2021-02-14      2  "
      ]
     },
     "metadata": {},
     "output_type": "display_data"
    },
    {
     "name": "stdout",
     "output_type": "stream",
     "text": [
      "<class 'pandas.core.frame.DataFrame'>\n",
      "Index: 11568 entries, 6500 to 18067\n",
      "Data columns (total 9 columns):\n",
      " #   Column             Non-Null Count  Dtype         \n",
      "---  ------             --------------  -----         \n",
      " 0   user_id            11568 non-null  int64         \n",
      " 1   name               11568 non-null  object        \n",
      " 2   age                11568 non-null  int64         \n",
      " 3   city               11568 non-null  object        \n",
      " 4   subscription_type  11568 non-null  object        \n",
      " 5   distance           11568 non-null  int32         \n",
      " 6   duration           11568 non-null  int32         \n",
      " 7   date               11568 non-null  datetime64[ns]\n",
      " 8   month              11568 non-null  int32         \n",
      "dtypes: datetime64[ns](1), int32(3), int64(2), object(3)\n",
      "memory usage: 768.2+ KB\n",
      "None\n"
     ]
    }
   ],
   "source": [
    "data_free = new_data_go[new_data_go['subscription_type'] == 'free']\n",
    "display(data_free.head())\n",
    "print(data_free.info())"
   ]
  },
  {
   "cell_type": "code",
   "execution_count": 40,
   "id": "51db0f66",
   "metadata": {
    "scrolled": true
   },
   "outputs": [
    {
     "data": {
      "text/html": [
       "<div>\n",
       "<style scoped>\n",
       "    .dataframe tbody tr th:only-of-type {\n",
       "        vertical-align: middle;\n",
       "    }\n",
       "\n",
       "    .dataframe tbody tr th {\n",
       "        vertical-align: top;\n",
       "    }\n",
       "\n",
       "    .dataframe thead th {\n",
       "        text-align: right;\n",
       "    }\n",
       "</style>\n",
       "<table border=\"1\" class=\"dataframe\">\n",
       "  <thead>\n",
       "    <tr style=\"text-align: right;\">\n",
       "      <th></th>\n",
       "      <th>user_id</th>\n",
       "      <th>name</th>\n",
       "      <th>age</th>\n",
       "      <th>city</th>\n",
       "      <th>subscription_type</th>\n",
       "      <th>distance</th>\n",
       "      <th>duration</th>\n",
       "      <th>date</th>\n",
       "      <th>month</th>\n",
       "    </tr>\n",
       "  </thead>\n",
       "  <tbody>\n",
       "    <tr>\n",
       "      <th>0</th>\n",
       "      <td>1</td>\n",
       "      <td>Кира</td>\n",
       "      <td>22</td>\n",
       "      <td>Тюмень</td>\n",
       "      <td>ultra</td>\n",
       "      <td>4409</td>\n",
       "      <td>25</td>\n",
       "      <td>2021-01-01</td>\n",
       "      <td>1</td>\n",
       "    </tr>\n",
       "    <tr>\n",
       "      <th>1</th>\n",
       "      <td>1</td>\n",
       "      <td>Кира</td>\n",
       "      <td>22</td>\n",
       "      <td>Тюмень</td>\n",
       "      <td>ultra</td>\n",
       "      <td>2617</td>\n",
       "      <td>15</td>\n",
       "      <td>2021-01-18</td>\n",
       "      <td>1</td>\n",
       "    </tr>\n",
       "    <tr>\n",
       "      <th>2</th>\n",
       "      <td>1</td>\n",
       "      <td>Кира</td>\n",
       "      <td>22</td>\n",
       "      <td>Тюмень</td>\n",
       "      <td>ultra</td>\n",
       "      <td>754</td>\n",
       "      <td>6</td>\n",
       "      <td>2021-04-20</td>\n",
       "      <td>4</td>\n",
       "    </tr>\n",
       "    <tr>\n",
       "      <th>3</th>\n",
       "      <td>1</td>\n",
       "      <td>Кира</td>\n",
       "      <td>22</td>\n",
       "      <td>Тюмень</td>\n",
       "      <td>ultra</td>\n",
       "      <td>2694</td>\n",
       "      <td>18</td>\n",
       "      <td>2021-08-11</td>\n",
       "      <td>8</td>\n",
       "    </tr>\n",
       "    <tr>\n",
       "      <th>4</th>\n",
       "      <td>1</td>\n",
       "      <td>Кира</td>\n",
       "      <td>22</td>\n",
       "      <td>Тюмень</td>\n",
       "      <td>ultra</td>\n",
       "      <td>4028</td>\n",
       "      <td>26</td>\n",
       "      <td>2021-08-28</td>\n",
       "      <td>8</td>\n",
       "    </tr>\n",
       "  </tbody>\n",
       "</table>\n",
       "</div>"
      ],
      "text/plain": [
       "   user_id  name  age    city subscription_type  distance  duration  \\\n",
       "0        1  Кира   22  Тюмень             ultra      4409        25   \n",
       "1        1  Кира   22  Тюмень             ultra      2617        15   \n",
       "2        1  Кира   22  Тюмень             ultra       754         6   \n",
       "3        1  Кира   22  Тюмень             ultra      2694        18   \n",
       "4        1  Кира   22  Тюмень             ultra      4028        26   \n",
       "\n",
       "        date  month  \n",
       "0 2021-01-01      1  \n",
       "1 2021-01-18      1  \n",
       "2 2021-04-20      4  \n",
       "3 2021-08-11      8  \n",
       "4 2021-08-28      8  "
      ]
     },
     "metadata": {},
     "output_type": "display_data"
    },
    {
     "name": "stdout",
     "output_type": "stream",
     "text": [
      "<class 'pandas.core.frame.DataFrame'>\n",
      "Index: 6500 entries, 0 to 6499\n",
      "Data columns (total 9 columns):\n",
      " #   Column             Non-Null Count  Dtype         \n",
      "---  ------             --------------  -----         \n",
      " 0   user_id            6500 non-null   int64         \n",
      " 1   name               6500 non-null   object        \n",
      " 2   age                6500 non-null   int64         \n",
      " 3   city               6500 non-null   object        \n",
      " 4   subscription_type  6500 non-null   object        \n",
      " 5   distance           6500 non-null   int32         \n",
      " 6   duration           6500 non-null   int32         \n",
      " 7   date               6500 non-null   datetime64[ns]\n",
      " 8   month              6500 non-null   int32         \n",
      "dtypes: datetime64[ns](1), int32(3), int64(2), object(3)\n",
      "memory usage: 431.6+ KB\n",
      "None\n"
     ]
    }
   ],
   "source": [
    "data_ultra = new_data_go[new_data_go['subscription_type'] == 'ultra']\n",
    "display(data_ultra.head())\n",
    "print(data_ultra.info())"
   ]
  },
  {
   "cell_type": "markdown",
   "id": "41397ceb",
   "metadata": {},
   "source": [
    "***Создали два датафрейма: data_free c данными о пользователях без подписки; data_ultra с данными о пользователях с подпиской. В обоих датафреймах по 9 столбцов. В data_free 11568 строк, в data_ultra - 6500 строк. То есть количество поездок без подписки намного больше, чем с подпиской Ultra.***"
   ]
  },
  {
   "cell_type": "markdown",
   "id": "be1e4b07",
   "metadata": {},
   "source": [
    "***4.3 Визуализируем информацию о расстоянии и времени поездок для пользователей обеих категорий.***"
   ]
  },
  {
   "cell_type": "code",
   "execution_count": 41,
   "id": "7cff1fc4",
   "metadata": {
    "scrolled": true
   },
   "outputs": [
    {
     "data": {
      "image/png": "[encoded data removed]",
      "text/plain": [
       "<Figure size 640x480 with 1 Axes>"
      ]
     },
     "metadata": {},
     "output_type": "display_data"
    }
   ],
   "source": [
    "plt.hist([data_free['distance'], data_ultra['distance']], bins=30)\n",
    "plt.legend(['free', 'ultra'])\n",
    "plt.title('Расстояние за одну поездку, м.')\n",
    "plt.xlabel('Расстояние, м.')\n",
    "plt.ylabel('Кол-во поездок')\n",
    "plt.show()"
   ]
  },
  {
   "cell_type": "code",
   "execution_count": 42,
   "id": "bf32f0b4",
   "metadata": {
    "scrolled": true
   },
   "outputs": [
    {
     "data": {
      "text/plain": [
       "count    11568.000000\n",
       "mean      3044.997752\n",
       "std       1246.174057\n",
       "min          0.000000\n",
       "25%       2366.000000\n",
       "50%       3114.000000\n",
       "75%       3905.000000\n",
       "max       7211.000000\n",
       "Name: distance, dtype: float64"
      ]
     },
     "execution_count": 42,
     "metadata": {},
     "output_type": "execute_result"
    }
   ],
   "source": [
    "data_free['distance'].describe()"
   ]
  },
  {
   "cell_type": "code",
   "execution_count": 43,
   "id": "99116f2f",
   "metadata": {},
   "outputs": [
    {
     "data": {
      "text/plain": [
       "count    6500.000000\n",
       "mean     3114.953692\n",
       "std       836.895793\n",
       "min       244.000000\n",
       "25%      2785.000000\n",
       "50%      3148.000000\n",
       "75%      3560.000000\n",
       "max      5699.000000\n",
       "Name: distance, dtype: float64"
      ]
     },
     "execution_count": 43,
     "metadata": {},
     "output_type": "execute_result"
    }
   ],
   "source": [
    "data_ultra['distance'].describe()"
   ]
  },
  {
   "cell_type": "markdown",
   "id": "0a069ab5",
   "metadata": {},
   "source": [
    "***Расстояние, которое преодолевают пользователи без подписки, в основном составляет от 2300м. до 4000м., с подпиской Ultra - от 2700м. до 3500м. Максимальное расстояние, которое преодолевают пользователи без подписки, значительно меньше, чем у пользователей с подпиской Ultra.***"
   ]
  },
  {
   "cell_type": "code",
   "execution_count": 44,
   "id": "b8d59c73",
   "metadata": {},
   "outputs": [
    {
     "data": {
      "image/png": "[encoded data removed]",
      "text/plain": [
       "<Figure size 640x480 with 1 Axes>"
      ]
     },
     "metadata": {},
     "output_type": "display_data"
    }
   ],
   "source": [
    "plt.hist([data_free['duration'], data_ultra['duration']], bins=20)\n",
    "plt.legend(['free', 'ultra'])\n",
    "plt.title('Продолжительность поездок, мин.')\n",
    "plt.xlabel('Продолдительность поездки')\n",
    "plt.ylabel('Кол-во поездок')\n",
    "plt.show()"
   ]
  },
  {
   "cell_type": "code",
   "execution_count": 45,
   "id": "3ad407e2",
   "metadata": {},
   "outputs": [
    {
     "data": {
      "text/plain": [
       "count    11568.000000\n",
       "mean        16.890992\n",
       "std          6.330250\n",
       "min          0.000000\n",
       "25%         12.000000\n",
       "50%         17.000000\n",
       "75%         21.000000\n",
       "max         34.000000\n",
       "Name: duration, dtype: float64"
      ]
     },
     "execution_count": 45,
     "metadata": {},
     "output_type": "execute_result"
    }
   ],
   "source": [
    "data_free['duration'].describe()"
   ]
  },
  {
   "cell_type": "code",
   "execution_count": 46,
   "id": "72ff161d",
   "metadata": {},
   "outputs": [
    {
     "data": {
      "text/plain": [
       "count    6500.000000\n",
       "mean       18.037692\n",
       "std         5.577439\n",
       "min         3.000000\n",
       "25%        14.000000\n",
       "50%        18.000000\n",
       "75%        21.000000\n",
       "max        40.000000\n",
       "Name: duration, dtype: float64"
      ]
     },
     "execution_count": 46,
     "metadata": {},
     "output_type": "execute_result"
    }
   ],
   "source": [
    "data_ultra['duration'].describe()"
   ]
  },
  {
   "cell_type": "markdown",
   "id": "ec8d578d",
   "metadata": {},
   "source": [
    "***Продолжительность проездок пользователей без подписки меньше, чем пользователей с подпиской Ultra. Чаще всего пользователи без подписки тратят на поезку от 13 до 22 минут, с подпиской Ultra от 13 до 25 минут.***"
   ]
  },
  {
   "cell_type": "markdown",
   "id": "d03bb266",
   "metadata": {},
   "source": [
    "**Вывод:** \n",
    "\n",
    "**Расстояние, которое преодолевают пользователи без подписки, в основном составляет от 2000м. до 4300м., с подпиской Ultra - от 2500м. до 4000м. Максимальное расстояние, которое преодолевают пользователи без подписки, значительно меньше, чем у пользователей с подпиской Ultra.**\n",
    "\n",
    "**Продолжительность проездок пользователей без подписки меньше, чем пользователей с подпиской Ultra. Чаще всего пользователи без подписки тратят на поезку от 13 до 22 минут, с подпиской Ultra от 13 до 25 минут.**"
   ]
  },
  {
   "cell_type": "markdown",
   "id": "402d620f",
   "metadata": {},
   "source": [
    "#### Шаг 5. Подсчёт выручки"
   ]
  },
  {
   "cell_type": "markdown",
   "id": "edcdf60a",
   "metadata": {},
   "source": [
    "***5.1 Добавим в таблицу new_data_go столбцы со стоимостью одной минуты поездки, стоимостью начала поездки и стоимостью ежемесячного платежа в зависимости от подписки.***"
   ]
  },
  {
   "cell_type": "code",
   "execution_count": 47,
   "id": "5c630c2a",
   "metadata": {},
   "outputs": [
    {
     "data": {
      "text/html": [
       "<div>\n",
       "<style scoped>\n",
       "    .dataframe tbody tr th:only-of-type {\n",
       "        vertical-align: middle;\n",
       "    }\n",
       "\n",
       "    .dataframe tbody tr th {\n",
       "        vertical-align: top;\n",
       "    }\n",
       "\n",
       "    .dataframe thead th {\n",
       "        text-align: right;\n",
       "    }\n",
       "</style>\n",
       "<table border=\"1\" class=\"dataframe\">\n",
       "  <thead>\n",
       "    <tr style=\"text-align: right;\">\n",
       "      <th></th>\n",
       "      <th>user_id</th>\n",
       "      <th>name</th>\n",
       "      <th>age</th>\n",
       "      <th>city</th>\n",
       "      <th>subscription_type</th>\n",
       "      <th>distance</th>\n",
       "      <th>duration</th>\n",
       "      <th>date</th>\n",
       "      <th>month</th>\n",
       "      <th>minute_price</th>\n",
       "      <th>start_ride_price</th>\n",
       "      <th>subscription_fee</th>\n",
       "    </tr>\n",
       "  </thead>\n",
       "  <tbody>\n",
       "    <tr>\n",
       "      <th>0</th>\n",
       "      <td>1</td>\n",
       "      <td>Кира</td>\n",
       "      <td>22</td>\n",
       "      <td>Тюмень</td>\n",
       "      <td>ultra</td>\n",
       "      <td>4409</td>\n",
       "      <td>25</td>\n",
       "      <td>2021-01-01</td>\n",
       "      <td>1</td>\n",
       "      <td>6</td>\n",
       "      <td>0</td>\n",
       "      <td>199</td>\n",
       "    </tr>\n",
       "    <tr>\n",
       "      <th>1</th>\n",
       "      <td>1</td>\n",
       "      <td>Кира</td>\n",
       "      <td>22</td>\n",
       "      <td>Тюмень</td>\n",
       "      <td>ultra</td>\n",
       "      <td>2617</td>\n",
       "      <td>15</td>\n",
       "      <td>2021-01-18</td>\n",
       "      <td>1</td>\n",
       "      <td>6</td>\n",
       "      <td>0</td>\n",
       "      <td>199</td>\n",
       "    </tr>\n",
       "    <tr>\n",
       "      <th>2</th>\n",
       "      <td>1</td>\n",
       "      <td>Кира</td>\n",
       "      <td>22</td>\n",
       "      <td>Тюмень</td>\n",
       "      <td>ultra</td>\n",
       "      <td>754</td>\n",
       "      <td>6</td>\n",
       "      <td>2021-04-20</td>\n",
       "      <td>4</td>\n",
       "      <td>6</td>\n",
       "      <td>0</td>\n",
       "      <td>199</td>\n",
       "    </tr>\n",
       "    <tr>\n",
       "      <th>3</th>\n",
       "      <td>1</td>\n",
       "      <td>Кира</td>\n",
       "      <td>22</td>\n",
       "      <td>Тюмень</td>\n",
       "      <td>ultra</td>\n",
       "      <td>2694</td>\n",
       "      <td>18</td>\n",
       "      <td>2021-08-11</td>\n",
       "      <td>8</td>\n",
       "      <td>6</td>\n",
       "      <td>0</td>\n",
       "      <td>199</td>\n",
       "    </tr>\n",
       "    <tr>\n",
       "      <th>4</th>\n",
       "      <td>1</td>\n",
       "      <td>Кира</td>\n",
       "      <td>22</td>\n",
       "      <td>Тюмень</td>\n",
       "      <td>ultra</td>\n",
       "      <td>4028</td>\n",
       "      <td>26</td>\n",
       "      <td>2021-08-28</td>\n",
       "      <td>8</td>\n",
       "      <td>6</td>\n",
       "      <td>0</td>\n",
       "      <td>199</td>\n",
       "    </tr>\n",
       "    <tr>\n",
       "      <th>...</th>\n",
       "      <td>...</td>\n",
       "      <td>...</td>\n",
       "      <td>...</td>\n",
       "      <td>...</td>\n",
       "      <td>...</td>\n",
       "      <td>...</td>\n",
       "      <td>...</td>\n",
       "      <td>...</td>\n",
       "      <td>...</td>\n",
       "      <td>...</td>\n",
       "      <td>...</td>\n",
       "      <td>...</td>\n",
       "    </tr>\n",
       "    <tr>\n",
       "      <th>18063</th>\n",
       "      <td>1534</td>\n",
       "      <td>Альберт</td>\n",
       "      <td>25</td>\n",
       "      <td>Краснодар</td>\n",
       "      <td>free</td>\n",
       "      <td>3781</td>\n",
       "      <td>19</td>\n",
       "      <td>2021-11-04</td>\n",
       "      <td>11</td>\n",
       "      <td>8</td>\n",
       "      <td>50</td>\n",
       "      <td>0</td>\n",
       "    </tr>\n",
       "    <tr>\n",
       "      <th>18064</th>\n",
       "      <td>1534</td>\n",
       "      <td>Альберт</td>\n",
       "      <td>25</td>\n",
       "      <td>Краснодар</td>\n",
       "      <td>free</td>\n",
       "      <td>2840</td>\n",
       "      <td>21</td>\n",
       "      <td>2021-11-16</td>\n",
       "      <td>11</td>\n",
       "      <td>8</td>\n",
       "      <td>50</td>\n",
       "      <td>0</td>\n",
       "    </tr>\n",
       "    <tr>\n",
       "      <th>18065</th>\n",
       "      <td>1534</td>\n",
       "      <td>Альберт</td>\n",
       "      <td>25</td>\n",
       "      <td>Краснодар</td>\n",
       "      <td>free</td>\n",
       "      <td>3826</td>\n",
       "      <td>18</td>\n",
       "      <td>2021-11-18</td>\n",
       "      <td>11</td>\n",
       "      <td>8</td>\n",
       "      <td>50</td>\n",
       "      <td>0</td>\n",
       "    </tr>\n",
       "    <tr>\n",
       "      <th>18066</th>\n",
       "      <td>1534</td>\n",
       "      <td>Альберт</td>\n",
       "      <td>25</td>\n",
       "      <td>Краснодар</td>\n",
       "      <td>free</td>\n",
       "      <td>2902</td>\n",
       "      <td>16</td>\n",
       "      <td>2021-11-27</td>\n",
       "      <td>11</td>\n",
       "      <td>8</td>\n",
       "      <td>50</td>\n",
       "      <td>0</td>\n",
       "    </tr>\n",
       "    <tr>\n",
       "      <th>18067</th>\n",
       "      <td>1534</td>\n",
       "      <td>Альберт</td>\n",
       "      <td>25</td>\n",
       "      <td>Краснодар</td>\n",
       "      <td>free</td>\n",
       "      <td>2371</td>\n",
       "      <td>15</td>\n",
       "      <td>2021-12-29</td>\n",
       "      <td>12</td>\n",
       "      <td>8</td>\n",
       "      <td>50</td>\n",
       "      <td>0</td>\n",
       "    </tr>\n",
       "  </tbody>\n",
       "</table>\n",
       "<p>18068 rows × 12 columns</p>\n",
       "</div>"
      ],
      "text/plain": [
       "       user_id     name  age       city subscription_type  distance  duration  \\\n",
       "0            1     Кира   22     Тюмень             ultra      4409        25   \n",
       "1            1     Кира   22     Тюмень             ultra      2617        15   \n",
       "2            1     Кира   22     Тюмень             ultra       754         6   \n",
       "3            1     Кира   22     Тюмень             ultra      2694        18   \n",
       "4            1     Кира   22     Тюмень             ultra      4028        26   \n",
       "...        ...      ...  ...        ...               ...       ...       ...   \n",
       "18063     1534  Альберт   25  Краснодар              free      3781        19   \n",
       "18064     1534  Альберт   25  Краснодар              free      2840        21   \n",
       "18065     1534  Альберт   25  Краснодар              free      3826        18   \n",
       "18066     1534  Альберт   25  Краснодар              free      2902        16   \n",
       "18067     1534  Альберт   25  Краснодар              free      2371        15   \n",
       "\n",
       "            date  month  minute_price  start_ride_price  subscription_fee  \n",
       "0     2021-01-01      1             6                 0               199  \n",
       "1     2021-01-18      1             6                 0               199  \n",
       "2     2021-04-20      4             6                 0               199  \n",
       "3     2021-08-11      8             6                 0               199  \n",
       "4     2021-08-28      8             6                 0               199  \n",
       "...          ...    ...           ...               ...               ...  \n",
       "18063 2021-11-04     11             8                50                 0  \n",
       "18064 2021-11-16     11             8                50                 0  \n",
       "18065 2021-11-18     11             8                50                 0  \n",
       "18066 2021-11-27     11             8                50                 0  \n",
       "18067 2021-12-29     12             8                50                 0  \n",
       "\n",
       "[18068 rows x 12 columns]"
      ]
     },
     "execution_count": 47,
     "metadata": {},
     "output_type": "execute_result"
    }
   ],
   "source": [
    "new_data_go['minute_price'] = np.where(new_data_go['subscription_type'] == 'free', 8, 6)\n",
    "new_data_go['start_ride_price'] = np.where(new_data_go['subscription_type'] == 'free', 50, 0)\n",
    "new_data_go['subscription_fee'] = np.where(new_data_go['subscription_type'] == 'free', 0, 199)\n",
    "new_data_go"
   ]
  },
  {
   "cell_type": "markdown",
   "id": "d494dcdf",
   "metadata": {},
   "source": [
    "***5.2 Найдем суммарное расстояние, количество поездок и суммарное время для каждого пользователя за каждый месяц.***"
   ]
  },
  {
   "cell_type": "code",
   "execution_count": 48,
   "id": "efe7ac25",
   "metadata": {},
   "outputs": [
    {
     "data": {
      "text/html": [
       "<div>\n",
       "<style scoped>\n",
       "    .dataframe tbody tr th:only-of-type {\n",
       "        vertical-align: middle;\n",
       "    }\n",
       "\n",
       "    .dataframe tbody tr th {\n",
       "        vertical-align: top;\n",
       "    }\n",
       "\n",
       "    .dataframe thead th {\n",
       "        text-align: right;\n",
       "    }\n",
       "</style>\n",
       "<table border=\"1\" class=\"dataframe\">\n",
       "  <thead>\n",
       "    <tr style=\"text-align: right;\">\n",
       "      <th></th>\n",
       "      <th>user_id</th>\n",
       "      <th>month</th>\n",
       "      <th>start_ride_price</th>\n",
       "      <th>subscription_fee</th>\n",
       "      <th>minute_price</th>\n",
       "      <th>count</th>\n",
       "      <th>distance</th>\n",
       "      <th>duration</th>\n",
       "    </tr>\n",
       "  </thead>\n",
       "  <tbody>\n",
       "    <tr>\n",
       "      <th>0</th>\n",
       "      <td>1</td>\n",
       "      <td>1</td>\n",
       "      <td>0</td>\n",
       "      <td>199</td>\n",
       "      <td>6</td>\n",
       "      <td>2</td>\n",
       "      <td>7026</td>\n",
       "      <td>40</td>\n",
       "    </tr>\n",
       "    <tr>\n",
       "      <th>1</th>\n",
       "      <td>1</td>\n",
       "      <td>4</td>\n",
       "      <td>0</td>\n",
       "      <td>199</td>\n",
       "      <td>6</td>\n",
       "      <td>1</td>\n",
       "      <td>754</td>\n",
       "      <td>6</td>\n",
       "    </tr>\n",
       "    <tr>\n",
       "      <th>2</th>\n",
       "      <td>1</td>\n",
       "      <td>8</td>\n",
       "      <td>0</td>\n",
       "      <td>199</td>\n",
       "      <td>6</td>\n",
       "      <td>2</td>\n",
       "      <td>6722</td>\n",
       "      <td>44</td>\n",
       "    </tr>\n",
       "    <tr>\n",
       "      <th>3</th>\n",
       "      <td>1</td>\n",
       "      <td>10</td>\n",
       "      <td>0</td>\n",
       "      <td>199</td>\n",
       "      <td>6</td>\n",
       "      <td>2</td>\n",
       "      <td>5809</td>\n",
       "      <td>30</td>\n",
       "    </tr>\n",
       "    <tr>\n",
       "      <th>4</th>\n",
       "      <td>1</td>\n",
       "      <td>11</td>\n",
       "      <td>0</td>\n",
       "      <td>199</td>\n",
       "      <td>6</td>\n",
       "      <td>3</td>\n",
       "      <td>7002</td>\n",
       "      <td>53</td>\n",
       "    </tr>\n",
       "    <tr>\n",
       "      <th>...</th>\n",
       "      <td>...</td>\n",
       "      <td>...</td>\n",
       "      <td>...</td>\n",
       "      <td>...</td>\n",
       "      <td>...</td>\n",
       "      <td>...</td>\n",
       "      <td>...</td>\n",
       "      <td>...</td>\n",
       "    </tr>\n",
       "    <tr>\n",
       "      <th>11326</th>\n",
       "      <td>1534</td>\n",
       "      <td>6</td>\n",
       "      <td>50</td>\n",
       "      <td>0</td>\n",
       "      <td>8</td>\n",
       "      <td>2</td>\n",
       "      <td>3409</td>\n",
       "      <td>24</td>\n",
       "    </tr>\n",
       "    <tr>\n",
       "      <th>11327</th>\n",
       "      <td>1534</td>\n",
       "      <td>8</td>\n",
       "      <td>50</td>\n",
       "      <td>0</td>\n",
       "      <td>8</td>\n",
       "      <td>2</td>\n",
       "      <td>7621</td>\n",
       "      <td>46</td>\n",
       "    </tr>\n",
       "    <tr>\n",
       "      <th>11328</th>\n",
       "      <td>1534</td>\n",
       "      <td>9</td>\n",
       "      <td>50</td>\n",
       "      <td>0</td>\n",
       "      <td>8</td>\n",
       "      <td>1</td>\n",
       "      <td>4928</td>\n",
       "      <td>22</td>\n",
       "    </tr>\n",
       "    <tr>\n",
       "      <th>11329</th>\n",
       "      <td>1534</td>\n",
       "      <td>11</td>\n",
       "      <td>50</td>\n",
       "      <td>0</td>\n",
       "      <td>8</td>\n",
       "      <td>4</td>\n",
       "      <td>13349</td>\n",
       "      <td>74</td>\n",
       "    </tr>\n",
       "    <tr>\n",
       "      <th>11330</th>\n",
       "      <td>1534</td>\n",
       "      <td>12</td>\n",
       "      <td>50</td>\n",
       "      <td>0</td>\n",
       "      <td>8</td>\n",
       "      <td>1</td>\n",
       "      <td>2371</td>\n",
       "      <td>15</td>\n",
       "    </tr>\n",
       "  </tbody>\n",
       "</table>\n",
       "<p>11331 rows × 8 columns</p>\n",
       "</div>"
      ],
      "text/plain": [
       "       user_id  month  start_ride_price  subscription_fee  minute_price  \\\n",
       "0            1      1                 0               199             6   \n",
       "1            1      4                 0               199             6   \n",
       "2            1      8                 0               199             6   \n",
       "3            1     10                 0               199             6   \n",
       "4            1     11                 0               199             6   \n",
       "...        ...    ...               ...               ...           ...   \n",
       "11326     1534      6                50                 0             8   \n",
       "11327     1534      8                50                 0             8   \n",
       "11328     1534      9                50                 0             8   \n",
       "11329     1534     11                50                 0             8   \n",
       "11330     1534     12                50                 0             8   \n",
       "\n",
       "       count  distance  duration  \n",
       "0          2      7026        40  \n",
       "1          1       754         6  \n",
       "2          2      6722        44  \n",
       "3          2      5809        30  \n",
       "4          3      7002        53  \n",
       "...      ...       ...       ...  \n",
       "11326      2      3409        24  \n",
       "11327      2      7621        46  \n",
       "11328      1      4928        22  \n",
       "11329      4     13349        74  \n",
       "11330      1      2371        15  \n",
       "\n",
       "[11331 rows x 8 columns]"
      ]
     },
     "execution_count": 48,
     "metadata": {},
     "output_type": "execute_result"
    }
   ],
   "source": [
    "aggregated_date_go = new_data_go.pivot_table(index=('user_id', 'month','start_ride_price', 'subscription_fee', 'minute_price'), values=('distance', 'duration'), aggfunc=('sum','count')).reset_index()\n",
    "aggregated_date_go.columns = ['user_id', 'month', 'start_ride_price', 'subscription_fee', 'minute_price', 'count', 'distance', 'count_1', 'duration']\n",
    "aggregated_date_go.drop(['count_1'], axis=1, inplace=True)\n",
    "aggregated_date_go"
   ]
  },
  {
   "cell_type": "markdown",
   "id": "7f2751e0",
   "metadata": {},
   "source": [
    "***5.3 Посчитаем помесячную выручку, которую принёс каждый пользователь***"
   ]
  },
  {
   "cell_type": "code",
   "execution_count": 49,
   "id": "e986a8cd",
   "metadata": {
    "scrolled": true
   },
   "outputs": [
    {
     "data": {
      "text/html": [
       "<div>\n",
       "<style scoped>\n",
       "    .dataframe tbody tr th:only-of-type {\n",
       "        vertical-align: middle;\n",
       "    }\n",
       "\n",
       "    .dataframe tbody tr th {\n",
       "        vertical-align: top;\n",
       "    }\n",
       "\n",
       "    .dataframe thead th {\n",
       "        text-align: right;\n",
       "    }\n",
       "</style>\n",
       "<table border=\"1\" class=\"dataframe\">\n",
       "  <thead>\n",
       "    <tr style=\"text-align: right;\">\n",
       "      <th></th>\n",
       "      <th>user_id</th>\n",
       "      <th>month</th>\n",
       "      <th>start_ride_price</th>\n",
       "      <th>subscription_fee</th>\n",
       "      <th>minute_price</th>\n",
       "      <th>count</th>\n",
       "      <th>distance</th>\n",
       "      <th>duration</th>\n",
       "      <th>revenue</th>\n",
       "    </tr>\n",
       "  </thead>\n",
       "  <tbody>\n",
       "    <tr>\n",
       "      <th>0</th>\n",
       "      <td>1</td>\n",
       "      <td>1</td>\n",
       "      <td>0</td>\n",
       "      <td>199</td>\n",
       "      <td>6</td>\n",
       "      <td>2</td>\n",
       "      <td>7026</td>\n",
       "      <td>40</td>\n",
       "      <td>439</td>\n",
       "    </tr>\n",
       "    <tr>\n",
       "      <th>1</th>\n",
       "      <td>1</td>\n",
       "      <td>4</td>\n",
       "      <td>0</td>\n",
       "      <td>199</td>\n",
       "      <td>6</td>\n",
       "      <td>1</td>\n",
       "      <td>754</td>\n",
       "      <td>6</td>\n",
       "      <td>235</td>\n",
       "    </tr>\n",
       "    <tr>\n",
       "      <th>2</th>\n",
       "      <td>1</td>\n",
       "      <td>8</td>\n",
       "      <td>0</td>\n",
       "      <td>199</td>\n",
       "      <td>6</td>\n",
       "      <td>2</td>\n",
       "      <td>6722</td>\n",
       "      <td>44</td>\n",
       "      <td>463</td>\n",
       "    </tr>\n",
       "    <tr>\n",
       "      <th>3</th>\n",
       "      <td>1</td>\n",
       "      <td>10</td>\n",
       "      <td>0</td>\n",
       "      <td>199</td>\n",
       "      <td>6</td>\n",
       "      <td>2</td>\n",
       "      <td>5809</td>\n",
       "      <td>30</td>\n",
       "      <td>379</td>\n",
       "    </tr>\n",
       "    <tr>\n",
       "      <th>4</th>\n",
       "      <td>1</td>\n",
       "      <td>11</td>\n",
       "      <td>0</td>\n",
       "      <td>199</td>\n",
       "      <td>6</td>\n",
       "      <td>3</td>\n",
       "      <td>7002</td>\n",
       "      <td>53</td>\n",
       "      <td>517</td>\n",
       "    </tr>\n",
       "    <tr>\n",
       "      <th>...</th>\n",
       "      <td>...</td>\n",
       "      <td>...</td>\n",
       "      <td>...</td>\n",
       "      <td>...</td>\n",
       "      <td>...</td>\n",
       "      <td>...</td>\n",
       "      <td>...</td>\n",
       "      <td>...</td>\n",
       "      <td>...</td>\n",
       "    </tr>\n",
       "    <tr>\n",
       "      <th>11326</th>\n",
       "      <td>1534</td>\n",
       "      <td>6</td>\n",
       "      <td>50</td>\n",
       "      <td>0</td>\n",
       "      <td>8</td>\n",
       "      <td>2</td>\n",
       "      <td>3409</td>\n",
       "      <td>24</td>\n",
       "      <td>292</td>\n",
       "    </tr>\n",
       "    <tr>\n",
       "      <th>11327</th>\n",
       "      <td>1534</td>\n",
       "      <td>8</td>\n",
       "      <td>50</td>\n",
       "      <td>0</td>\n",
       "      <td>8</td>\n",
       "      <td>2</td>\n",
       "      <td>7621</td>\n",
       "      <td>46</td>\n",
       "      <td>468</td>\n",
       "    </tr>\n",
       "    <tr>\n",
       "      <th>11328</th>\n",
       "      <td>1534</td>\n",
       "      <td>9</td>\n",
       "      <td>50</td>\n",
       "      <td>0</td>\n",
       "      <td>8</td>\n",
       "      <td>1</td>\n",
       "      <td>4928</td>\n",
       "      <td>22</td>\n",
       "      <td>226</td>\n",
       "    </tr>\n",
       "    <tr>\n",
       "      <th>11329</th>\n",
       "      <td>1534</td>\n",
       "      <td>11</td>\n",
       "      <td>50</td>\n",
       "      <td>0</td>\n",
       "      <td>8</td>\n",
       "      <td>4</td>\n",
       "      <td>13349</td>\n",
       "      <td>74</td>\n",
       "      <td>792</td>\n",
       "    </tr>\n",
       "    <tr>\n",
       "      <th>11330</th>\n",
       "      <td>1534</td>\n",
       "      <td>12</td>\n",
       "      <td>50</td>\n",
       "      <td>0</td>\n",
       "      <td>8</td>\n",
       "      <td>1</td>\n",
       "      <td>2371</td>\n",
       "      <td>15</td>\n",
       "      <td>170</td>\n",
       "    </tr>\n",
       "  </tbody>\n",
       "</table>\n",
       "<p>11331 rows × 9 columns</p>\n",
       "</div>"
      ],
      "text/plain": [
       "       user_id  month  start_ride_price  subscription_fee  minute_price  \\\n",
       "0            1      1                 0               199             6   \n",
       "1            1      4                 0               199             6   \n",
       "2            1      8                 0               199             6   \n",
       "3            1     10                 0               199             6   \n",
       "4            1     11                 0               199             6   \n",
       "...        ...    ...               ...               ...           ...   \n",
       "11326     1534      6                50                 0             8   \n",
       "11327     1534      8                50                 0             8   \n",
       "11328     1534      9                50                 0             8   \n",
       "11329     1534     11                50                 0             8   \n",
       "11330     1534     12                50                 0             8   \n",
       "\n",
       "       count  distance  duration  revenue  \n",
       "0          2      7026        40      439  \n",
       "1          1       754         6      235  \n",
       "2          2      6722        44      463  \n",
       "3          2      5809        30      379  \n",
       "4          3      7002        53      517  \n",
       "...      ...       ...       ...      ...  \n",
       "11326      2      3409        24      292  \n",
       "11327      2      7621        46      468  \n",
       "11328      1      4928        22      226  \n",
       "11329      4     13349        74      792  \n",
       "11330      1      2371        15      170  \n",
       "\n",
       "[11331 rows x 9 columns]"
      ]
     },
     "execution_count": 49,
     "metadata": {},
     "output_type": "execute_result"
    }
   ],
   "source": [
    "aggregated_date_go['revenue'] = (\n",
    "    (aggregated_date_go['start_ride_price'] * aggregated_date_go['count']) \n",
    "    + (aggregated_date_go['minute_price'] * aggregated_date_go['duration']) + aggregated_date_go['subscription_fee']\n",
    ")\n",
    "aggregated_date_go"
   ]
  },
  {
   "cell_type": "code",
   "execution_count": 50,
   "id": "52313976",
   "metadata": {
    "scrolled": true
   },
   "outputs": [
    {
     "name": "stdout",
     "output_type": "stream",
     "text": [
      "<class 'pandas.core.frame.DataFrame'>\n",
      "RangeIndex: 11331 entries, 0 to 11330\n",
      "Data columns (total 9 columns):\n",
      " #   Column            Non-Null Count  Dtype\n",
      "---  ------            --------------  -----\n",
      " 0   user_id           11331 non-null  int64\n",
      " 1   month             11331 non-null  int32\n",
      " 2   start_ride_price  11331 non-null  int32\n",
      " 3   subscription_fee  11331 non-null  int32\n",
      " 4   minute_price      11331 non-null  int32\n",
      " 5   count             11331 non-null  int64\n",
      " 6   distance          11331 non-null  int32\n",
      " 7   duration          11331 non-null  int32\n",
      " 8   revenue           11331 non-null  int64\n",
      "dtypes: int32(6), int64(3)\n",
      "memory usage: 531.3 KB\n"
     ]
    }
   ],
   "source": [
    "aggregated_date_go.info()"
   ]
  },
  {
   "cell_type": "code",
   "execution_count": 51,
   "id": "5de82533",
   "metadata": {},
   "outputs": [
    {
     "data": {
      "text/plain": [
       "user_id             0\n",
       "month               0\n",
       "start_ride_price    0\n",
       "subscription_fee    0\n",
       "minute_price        0\n",
       "count               0\n",
       "distance            0\n",
       "duration            0\n",
       "revenue             0\n",
       "dtype: int64"
      ]
     },
     "execution_count": 51,
     "metadata": {},
     "output_type": "execute_result"
    }
   ],
   "source": [
    "aggregated_date_go.isna().sum()"
   ]
  },
  {
   "cell_type": "code",
   "execution_count": 52,
   "id": "f0a82972",
   "metadata": {},
   "outputs": [
    {
     "data": {
      "text/plain": [
       "0"
      ]
     },
     "execution_count": 52,
     "metadata": {},
     "output_type": "execute_result"
    }
   ],
   "source": [
    "aggregated_date_go.duplicated().sum()"
   ]
  },
  {
   "cell_type": "code",
   "execution_count": 53,
   "id": "5a55dc07",
   "metadata": {},
   "outputs": [
    {
     "data": {
      "text/plain": [
       "3747097"
      ]
     },
     "execution_count": 53,
     "metadata": {},
     "output_type": "execute_result"
    }
   ],
   "source": [
    "aggregated_date_go['revenue'].sum()"
   ]
  },
  {
   "cell_type": "markdown",
   "id": "fe199b8b",
   "metadata": {},
   "source": [
    "**В новом датафреме aggregated_date_go содержится 9 столбцов и 11331 срок без пропусков и явных дубликатов.**\n",
    "\n",
    "**Годовая выручка составила 3813029 руб.**"
   ]
  },
  {
   "cell_type": "markdown",
   "id": "41545ac0",
   "metadata": {},
   "source": [
    "#### Шаг 6. Проверка гипотез"
   ]
  },
  {
   "cell_type": "markdown",
   "id": "81dd84ad",
   "metadata": {},
   "source": [
    "***6.1 Проверим, тратят ли пользователи с подпиской больше времени на поездки?***\n",
    "\n",
    "***Гипотезы:***\n",
    "\n",
    "***Н0: Средняя длительность поездок без подписки и с подпиской ultra равна.***\n",
    "\n",
    "***Н1: Средняя длительность поездок с подпиской ultra больше, чеми поездок без подписки.***"
   ]
  },
  {
   "cell_type": "code",
   "execution_count": 54,
   "id": "3e307937",
   "metadata": {},
   "outputs": [
    {
     "name": "stdout",
     "output_type": "stream",
     "text": [
      "p-значение: 2.4959453720736625e-34\n",
      "Отвергаем нулевую гипотезу\n"
     ]
    }
   ],
   "source": [
    "from scipy import stats as st\n",
    "alpha = 0.05\n",
    "results = st.ttest_ind(data_ultra['duration'], data_free['duration'], alternative='greater')\n",
    "print('p-значение:', results.pvalue)\n",
    "if results.pvalue < alpha:\n",
    "    print('Отвергаем нулевую гипотезу')\n",
    "else:\n",
    "    print('Не получилось отвергнуть нулевую гипотезу')"
   ]
  },
  {
   "cell_type": "markdown",
   "id": "eb4f9d4a",
   "metadata": {},
   "source": [
    "***Значение p-value показывает большую вероятность того, что средняя длительность поездок с подпиской ultra больше, чем поездок без подписки. Такая зависимость прослеживается и на гистограмах выше.***"
   ]
  },
  {
   "cell_type": "markdown",
   "id": "54660fbf",
   "metadata": {},
   "source": [
    "***6.2 Расстояние одной поездки в 3130 метров — оптимальное с точки зрения износа самоката. Можно ли сказать, что среднее расстояние, которое проезжают пользователи с подпиской за одну поездку, не превышает 3130 метров?*** \n",
    "\n",
    "***Гипотезы:***\n",
    "\n",
    "***Н0: Среднее расстояние, которое преодолевают пользователи с подпиской ultra равно оптимальному расстоянию в 3130 метров.***\n",
    "\n",
    "***Н1: Среднее расстояние, которое преодолевают пользователит с подпиской ultra больше оптимального расстояния в 3130 метров.***"
   ]
  },
  {
   "cell_type": "code",
   "execution_count": 55,
   "id": "01b21f4c",
   "metadata": {
    "scrolled": true
   },
   "outputs": [
    {
     "name": "stdout",
     "output_type": "stream",
     "text": [
      "p-значение: 0.9263754830285825\n",
      "Не получилось отвергнуть нулевую гипотезу\n"
     ]
    }
   ],
   "source": [
    "optimal_distance = 3130\n",
    "alpha = 0.05\n",
    "results = st.ttest_1samp(data_ultra['distance'], optimal_distance, alternative='greater')\n",
    "print('p-значение:', results.pvalue)\n",
    "if results.pvalue < alpha:\n",
    "    print('Отвергаем нулевую гипотезу')\n",
    "else:\n",
    "    print('Не получилось отвергнуть нулевую гипотезу')"
   ]
  },
  {
   "cell_type": "markdown",
   "id": "38797d41",
   "metadata": {},
   "source": [
    "***Можно сделать вывод, что с большой вероятностью среднее расстояние, которое проезжают пользователи с подпиской за одну поездку, не превышает 3130 метров.***"
   ]
  },
  {
   "cell_type": "markdown",
   "id": "9ed8f1eb",
   "metadata": {},
   "source": [
    "***6.3 Проверим будет ли помесячная выручка от пользователей с подпиской по месяцам выше, чем выручка от пользователей без подписки.***\n",
    "\n",
    "***Гипотезы:***\n",
    "\n",
    "***Н0: Помесячная выручка от пользователей с подпиской по месяцам равна выручке от пользователей без подписки.***\n",
    "\n",
    "***Н1: Помесячная выручка от пользователей с подпиской по месяцам выше, чем выручка от пользователей без подписки.***"
   ]
  },
  {
   "cell_type": "code",
   "execution_count": 56,
   "id": "b8069331",
   "metadata": {},
   "outputs": [
    {
     "name": "stdout",
     "output_type": "stream",
     "text": [
      "p-значение: 1.1914705742669238e-43\n",
      "Отвергаем нулевую гипотезу\n"
     ]
    }
   ],
   "source": [
    "alpha = 0.05\n",
    "results = st.ttest_ind(\n",
    "    aggregated_date_go.loc[aggregated_date_go['subscription_fee'] > 0, 'revenue'],\n",
    "    aggregated_date_go.loc[aggregated_date_go['subscription_fee'] == 0, 'revenue'], alternative='greater'\n",
    ")\n",
    "print('p-значение:', results.pvalue)\n",
    "if results.pvalue < alpha:\n",
    "    print('Отвергаем нулевую гипотезу')\n",
    "else:\n",
    "    print('Не получилось отвергнуть нулевую гипотезу')"
   ]
  },
  {
   "cell_type": "markdown",
   "id": "8096e14b",
   "metadata": {},
   "source": [
    "***Вероятность что, помесячная выручка от пользователей с подпиской по месяцам выше, чем выручка от пользователей без подписки, очень высокая.***"
   ]
  },
  {
   "cell_type": "markdown",
   "id": "3c458458",
   "metadata": {},
   "source": [
    "***6.4 Ответим на вопрос: допустим, техническая команда сервиса обновила сервера, с которыми взаимодействует мобильное приложение. Она надеется, что из-за этого количество обращений в техподдержку значимо снизилось. Некоторый файл содержит для каждого пользователя данные о количестве обращений до обновления и после него. Какой тест вам понадобился бы для проверки этой гипотезы?***"
   ]
  },
  {
   "cell_type": "markdown",
   "id": "e0a64ca2",
   "metadata": {},
   "source": [
    "***В данном случае выборки о количестве обращений зависимы и применяются к одному и тому же объекту (пользователи). Здесь можно применить метод scipy.stats.ttest_rel(), в параметре нужно указать alternative='less'.***"
   ]
  },
  {
   "cell_type": "markdown",
   "id": "d287a201",
   "metadata": {},
   "source": [
    "# Вывод по анализу данных  сервиса аренды самокатов GoFast: \n",
    " \n",
    " \n",
    "* **Самое большое количество пользователей в Пятигорске (219), Екатеринбурге (204) и Краснодаре (198). Меньше всего пользователей в Москве (168).**\n",
    "\n",
    "\n",
    "* **Распределение пользователей по возрасту нормальное. Услугами пользуются клиенты от 12 до 43 лет. Самое большое количество пользователей в возрасте от 22 до 28 лет.**\n",
    "\n",
    "\n",
    "* **Пользователей с подпиской Free больше (54,4%), чем пользователей с подпиской Ultra.**\n",
    "\n",
    "\n",
    "* **Количество поездок без подписки намного больше, чем с подпиской Ultra**\n",
    "\n",
    "\n",
    "* **Максимальное расстояние поездки составляет 7211м. Минимальное расстояние - 0 (здесь, либо пользователь отказался от поедки, либо - техническая ошибка).Чаще всего пользователи преодолевают расстояние чуть более 3000 м. за одну поездку. На это указывает вершина графика распределения. Но есть и вторая вершина графика около 700м.**\n",
    "\n",
    "\n",
    "* **Расстояние, которое преодолевают пользователи без подписки, в основном составляет от 2300 м. до 4000 м., с подпиской Ultra - от 2700 м. до 3500 м. Максимальное расстояние, которое преодолевают пользователи без подписки, значительно меньше, чем у пользователей с подпиской Ultra.**\n",
    "\n",
    "\n",
    "* **Проверка гипотезы о расстоянии поездок показала большую вероятность того, что среднее расстояние, которое проезжают пользователи с подпиской за одну поездку, не превышает 3130 метров. То есть с учетом износа самокатов для сервиса выгоднее, чтобы клиенты пользовались подпиской Ultra.**\n",
    "\n",
    "\n",
    "* **В среднем продолжительность поездок составляет от 12 до 25 минут. Чаще всего пользователи тратят 18 минут на поездку. Самая длительная поезка около 40 минут. Поездок с минимальной продолжительностью 1 минута около 100. При значении продолжительности поездок 0,5 минут расстояние более 4000 м. Если бы пользователь отказался от поездки, то и расстояние должно было бы равняться нулю. За минуту на самокате такое расстояние не преодолеть. Следует обратить на это особое внимание.**\n",
    "\n",
    "\n",
    "* **Продолжительность проездок пользователей без подписки меньше, чем пользователей с подпиской Ultra. Чаще всего пользователи без подписки тратят на поезку от 13 до 22 минут, с подпиской Ultra от 13 до 25 минут.**\n",
    "\n",
    "\n",
    "* **При проверке основной гипотезы о длительности поездок значение p-value показывает: большую вероятность того, что средняя длительность поездок с подпиской ultra больше, чем поездок без подписки.**\n",
    "\n",
    "\n",
    "* **При проверки гипотезы о выручке Т-тест показал, что вероятность того, что помесячная выручка от пользователей с подпиской по месяцам выше, чем выручка от пользователей без подписки, очень высокая.**\n",
    "\n",
    "\n",
    "* **Исходя из выше сказанного можно смело утверждать, что увеличение количества пользователей с подпиской Ultra может принести положительный результат и помочь бизнесу вырасти.**\n",
    "\n",
    "\n",
    "* **Для более глубокого анализа рекомендовано выяснить, есть ли взаимосвязь между моделью самоката и продолжительностью поездки, зависит ли продолжительность поездки от модели самоката и т.д.? А так же для увеличения эффективности последующих шагов (проведение акций, введение новых подписок) рекомендуется изучить сезонную активность пользователей обеих подписок.**\n",
    "\n",
    "\n",
    "\n",
    "</div>"
   ]
  }
 ],
 "metadata": {
  "ExecuteTimeLog": [
   {
    "duration": 384,
    "start_time": "2024-05-17T20:25:05.835Z"
   },
   {
    "duration": 296,
    "start_time": "2024-05-17T20:25:08.083Z"
   },
   {
    "duration": 397,
    "start_time": "2024-05-17T20:27:36.686Z"
   },
   {
    "duration": 71,
    "start_time": "2024-05-17T20:27:37.459Z"
   },
   {
    "duration": 9,
    "start_time": "2024-05-17T20:29:14.062Z"
   },
   {
    "duration": 5,
    "start_time": "2024-05-17T20:29:31.677Z"
   },
   {
    "duration": 4,
    "start_time": "2024-05-17T20:29:56.035Z"
   },
   {
    "duration": 384,
    "start_time": "2024-05-17T20:31:50.332Z"
   },
   {
    "duration": 67,
    "start_time": "2024-05-17T20:31:50.976Z"
   },
   {
    "duration": 7,
    "start_time": "2024-05-17T20:31:54.728Z"
   },
   {
    "duration": 428,
    "start_time": "2024-05-17T20:34:08.286Z"
   },
   {
    "duration": 66,
    "start_time": "2024-05-17T20:34:08.772Z"
   },
   {
    "duration": 55,
    "start_time": "2024-05-17T20:34:10.259Z"
   },
   {
    "duration": 13,
    "start_time": "2024-05-17T20:35:35.207Z"
   },
   {
    "duration": 408,
    "start_time": "2024-05-17T20:47:36.673Z"
   },
   {
    "duration": 69,
    "start_time": "2024-05-17T20:47:37.888Z"
   },
   {
    "duration": 15,
    "start_time": "2024-05-17T20:50:44.655Z"
   },
   {
    "duration": 762,
    "start_time": "2024-05-17T20:56:49.910Z"
   },
   {
    "duration": 262,
    "start_time": "2024-05-17T20:57:02.988Z"
   },
   {
    "duration": 275,
    "start_time": "2024-05-17T20:57:15.212Z"
   },
   {
    "duration": 200,
    "start_time": "2024-05-17T20:57:54.506Z"
   },
   {
    "duration": 242,
    "start_time": "2024-05-17T20:58:04.186Z"
   },
   {
    "duration": 7,
    "start_time": "2024-05-17T21:03:47.063Z"
   },
   {
    "duration": 6,
    "start_time": "2024-05-17T21:04:21.596Z"
   },
   {
    "duration": 71,
    "start_time": "2024-05-17T21:13:06.235Z"
   },
   {
    "duration": 452,
    "start_time": "2024-05-17T21:20:58.955Z"
   },
   {
    "duration": 69,
    "start_time": "2024-05-17T21:20:59.418Z"
   },
   {
    "duration": 12,
    "start_time": "2024-05-17T21:21:07.044Z"
   },
   {
    "duration": 11,
    "start_time": "2024-05-17T21:21:12.948Z"
   },
   {
    "duration": 471,
    "start_time": "2024-05-17T21:21:17.440Z"
   },
   {
    "duration": 6,
    "start_time": "2024-05-17T21:21:21.545Z"
   },
   {
    "duration": 12,
    "start_time": "2024-05-17T21:22:16.069Z"
   },
   {
    "duration": 255,
    "start_time": "2024-05-17T21:23:16.238Z"
   },
   {
    "duration": 401,
    "start_time": "2024-05-17T21:23:25.710Z"
   },
   {
    "duration": 370,
    "start_time": "2024-05-17T21:23:34.233Z"
   },
   {
    "duration": 294,
    "start_time": "2024-05-17T21:23:44.716Z"
   },
   {
    "duration": 307,
    "start_time": "2024-05-17T21:24:00.346Z"
   },
   {
    "duration": 314,
    "start_time": "2024-05-17T21:24:12.754Z"
   },
   {
    "duration": 8,
    "start_time": "2024-05-17T21:24:57.491Z"
   },
   {
    "duration": 402,
    "start_time": "2024-05-17T21:30:27.004Z"
   },
   {
    "duration": 66,
    "start_time": "2024-05-17T21:30:27.445Z"
   },
   {
    "duration": 13,
    "start_time": "2024-05-17T21:30:28.924Z"
   },
   {
    "duration": 18,
    "start_time": "2024-05-17T21:30:32.487Z"
   },
   {
    "duration": 502,
    "start_time": "2024-05-17T21:30:33.822Z"
   },
   {
    "duration": 7,
    "start_time": "2024-05-17T21:30:35.865Z"
   },
   {
    "duration": 6,
    "start_time": "2024-05-17T21:30:39.678Z"
   },
   {
    "duration": 11,
    "start_time": "2024-05-17T21:30:40.598Z"
   },
   {
    "duration": 297,
    "start_time": "2024-05-17T21:30:42.198Z"
   },
   {
    "duration": 358,
    "start_time": "2024-05-17T21:30:46.685Z"
   },
   {
    "duration": 8,
    "start_time": "2024-05-17T21:30:50.096Z"
   },
   {
    "duration": 66,
    "start_time": "2024-05-17T21:32:16.434Z"
   },
   {
    "duration": 15,
    "start_time": "2024-05-17T21:32:32.351Z"
   },
   {
    "duration": 7,
    "start_time": "2024-05-17T21:32:50.768Z"
   },
   {
    "duration": 282,
    "start_time": "2024-05-17T21:33:00.178Z"
   },
   {
    "duration": 11,
    "start_time": "2024-05-17T21:40:40.770Z"
   },
   {
    "duration": 8,
    "start_time": "2024-05-17T21:40:56.081Z"
   },
   {
    "duration": 452,
    "start_time": "2024-05-18T04:19:14.259Z"
   },
   {
    "duration": 201,
    "start_time": "2024-05-18T04:19:15.194Z"
   },
   {
    "duration": 18,
    "start_time": "2024-05-18T04:19:16.855Z"
   },
   {
    "duration": 12,
    "start_time": "2024-05-18T04:19:18.347Z"
   },
   {
    "duration": 666,
    "start_time": "2024-05-18T04:19:19.004Z"
   },
   {
    "duration": 8,
    "start_time": "2024-05-18T04:19:22.536Z"
   },
   {
    "duration": 16,
    "start_time": "2024-05-18T04:19:24.957Z"
   },
   {
    "duration": 344,
    "start_time": "2024-05-18T04:19:25.896Z"
   },
   {
    "duration": 9,
    "start_time": "2024-05-18T04:19:28.547Z"
   },
   {
    "duration": 11,
    "start_time": "2024-05-18T04:19:31.209Z"
   },
   {
    "duration": 9,
    "start_time": "2024-05-18T04:19:32.400Z"
   },
   {
    "duration": 689,
    "start_time": "2024-05-18T04:19:36.741Z"
   },
   {
    "duration": 14,
    "start_time": "2024-05-18T04:21:45.291Z"
   },
   {
    "duration": 20,
    "start_time": "2024-05-18T04:22:13.556Z"
   },
   {
    "duration": 21,
    "start_time": "2024-05-18T04:23:25.018Z"
   },
   {
    "duration": 19,
    "start_time": "2024-05-18T04:23:39.588Z"
   },
   {
    "duration": 30,
    "start_time": "2024-05-18T04:23:51.260Z"
   },
   {
    "duration": 30,
    "start_time": "2024-05-18T04:24:11.219Z"
   },
   {
    "duration": 31,
    "start_time": "2024-05-18T04:24:49.931Z"
   },
   {
    "duration": 9,
    "start_time": "2024-05-18T04:39:33.324Z"
   },
   {
    "duration": 10,
    "start_time": "2024-05-18T04:39:46.044Z"
   },
   {
    "duration": 8,
    "start_time": "2024-05-18T04:40:19.181Z"
   },
   {
    "duration": 12,
    "start_time": "2024-05-18T04:40:48.845Z"
   },
   {
    "duration": 9,
    "start_time": "2024-05-18T04:42:36.200Z"
   },
   {
    "duration": 8,
    "start_time": "2024-05-18T04:43:43.460Z"
   },
   {
    "duration": 432,
    "start_time": "2024-05-18T04:48:46.537Z"
   },
   {
    "duration": 70,
    "start_time": "2024-05-18T04:48:46.971Z"
   },
   {
    "duration": 14,
    "start_time": "2024-05-18T04:48:48.017Z"
   },
   {
    "duration": 11,
    "start_time": "2024-05-18T04:48:50.158Z"
   },
   {
    "duration": 469,
    "start_time": "2024-05-18T04:48:50.700Z"
   },
   {
    "duration": 15,
    "start_time": "2024-05-18T04:48:51.170Z"
   },
   {
    "duration": 13,
    "start_time": "2024-05-18T04:48:53.951Z"
   },
   {
    "duration": 341,
    "start_time": "2024-05-18T04:48:54.507Z"
   },
   {
    "duration": 9,
    "start_time": "2024-05-18T04:48:56.835Z"
   },
   {
    "duration": 12,
    "start_time": "2024-05-18T04:48:57.900Z"
   },
   {
    "duration": 9,
    "start_time": "2024-05-18T04:48:59.584Z"
   },
   {
    "duration": 7,
    "start_time": "2024-05-18T04:49:07.444Z"
   },
   {
    "duration": 8,
    "start_time": "2024-05-18T04:50:37.258Z"
   },
   {
    "duration": 10,
    "start_time": "2024-05-18T04:51:08.617Z"
   },
   {
    "duration": 80,
    "start_time": "2024-05-18T04:56:15.204Z"
   },
   {
    "duration": 12,
    "start_time": "2024-05-18T05:01:34.585Z"
   },
   {
    "duration": 10,
    "start_time": "2024-05-18T05:01:45.064Z"
   },
   {
    "duration": 10,
    "start_time": "2024-05-18T05:03:49.885Z"
   },
   {
    "duration": 16,
    "start_time": "2024-05-18T05:07:34.290Z"
   },
   {
    "duration": 6,
    "start_time": "2024-05-18T05:08:03.616Z"
   },
   {
    "duration": 436,
    "start_time": "2024-05-18T05:08:29.968Z"
   },
   {
    "duration": 68,
    "start_time": "2024-05-18T05:08:30.468Z"
   },
   {
    "duration": 13,
    "start_time": "2024-05-18T05:08:32.088Z"
   },
   {
    "duration": 13,
    "start_time": "2024-05-18T05:08:33.876Z"
   },
   {
    "duration": 463,
    "start_time": "2024-05-18T05:08:34.372Z"
   },
   {
    "duration": 7,
    "start_time": "2024-05-18T05:08:35.679Z"
   },
   {
    "duration": 13,
    "start_time": "2024-05-18T05:08:36.984Z"
   },
   {
    "duration": 335,
    "start_time": "2024-05-18T05:08:37.578Z"
   },
   {
    "duration": 9,
    "start_time": "2024-05-18T05:08:38.273Z"
   },
   {
    "duration": 13,
    "start_time": "2024-05-18T05:08:39.401Z"
   },
   {
    "duration": 10,
    "start_time": "2024-05-18T05:08:40.140Z"
   },
   {
    "duration": 22,
    "start_time": "2024-05-18T05:08:44.354Z"
   },
   {
    "duration": 7,
    "start_time": "2024-05-18T05:08:47.504Z"
   },
   {
    "duration": 8,
    "start_time": "2024-05-18T05:09:33.064Z"
   },
   {
    "duration": 7,
    "start_time": "2024-05-18T05:09:34.037Z"
   },
   {
    "duration": 5,
    "start_time": "2024-05-18T05:26:01.701Z"
   },
   {
    "duration": 102,
    "start_time": "2024-05-18T05:27:02.738Z"
   },
   {
    "duration": 3,
    "start_time": "2024-05-18T05:27:55.082Z"
   },
   {
    "duration": 6,
    "start_time": "2024-05-18T05:27:55.799Z"
   },
   {
    "duration": 6,
    "start_time": "2024-05-18T05:27:56.348Z"
   },
   {
    "duration": 3,
    "start_time": "2024-05-18T05:29:10.461Z"
   },
   {
    "duration": 5,
    "start_time": "2024-05-18T05:29:11.023Z"
   },
   {
    "duration": 9,
    "start_time": "2024-05-18T05:29:59.225Z"
   },
   {
    "duration": 382,
    "start_time": "2024-05-18T05:31:27.223Z"
   },
   {
    "duration": 68,
    "start_time": "2024-05-18T05:31:27.748Z"
   },
   {
    "duration": 13,
    "start_time": "2024-05-18T05:31:28.674Z"
   },
   {
    "duration": 12,
    "start_time": "2024-05-18T05:31:29.587Z"
   },
   {
    "duration": 514,
    "start_time": "2024-05-18T05:31:30.024Z"
   },
   {
    "duration": 7,
    "start_time": "2024-05-18T05:31:30.610Z"
   },
   {
    "duration": 13,
    "start_time": "2024-05-18T05:31:31.743Z"
   },
   {
    "duration": 356,
    "start_time": "2024-05-18T05:31:32.276Z"
   },
   {
    "duration": 8,
    "start_time": "2024-05-18T05:31:32.958Z"
   },
   {
    "duration": 10,
    "start_time": "2024-05-18T05:31:35.233Z"
   },
   {
    "duration": 11,
    "start_time": "2024-05-18T05:31:38.189Z"
   },
   {
    "duration": 7,
    "start_time": "2024-05-18T05:31:40.679Z"
   },
   {
    "duration": 7,
    "start_time": "2024-05-18T05:31:41.308Z"
   },
   {
    "duration": 3,
    "start_time": "2024-05-18T05:31:44.004Z"
   },
   {
    "duration": 3,
    "start_time": "2024-05-18T05:31:44.533Z"
   },
   {
    "duration": 4,
    "start_time": "2024-05-18T05:31:46.106Z"
   },
   {
    "duration": 10,
    "start_time": "2024-05-18T05:31:48.807Z"
   },
   {
    "duration": 5,
    "start_time": "2024-05-18T05:46:33.797Z"
   },
   {
    "duration": 417,
    "start_time": "2024-05-18T05:46:43.139Z"
   },
   {
    "duration": 75,
    "start_time": "2024-05-18T05:46:43.558Z"
   },
   {
    "duration": 12,
    "start_time": "2024-05-18T05:46:45.966Z"
   },
   {
    "duration": 11,
    "start_time": "2024-05-18T05:46:47.063Z"
   },
   {
    "duration": 3657,
    "start_time": "2024-05-18T05:46:47.694Z"
   },
   {
    "duration": 10,
    "start_time": "2024-05-18T05:46:51.353Z"
   },
   {
    "duration": 22,
    "start_time": "2024-05-18T05:46:51.365Z"
   },
   {
    "duration": 362,
    "start_time": "2024-05-18T05:46:51.389Z"
   },
   {
    "duration": 9,
    "start_time": "2024-05-18T05:46:51.753Z"
   },
   {
    "duration": 26,
    "start_time": "2024-05-18T05:46:51.764Z"
   },
   {
    "duration": 9,
    "start_time": "2024-05-18T05:46:52.397Z"
   },
   {
    "duration": 7,
    "start_time": "2024-05-18T05:46:55.814Z"
   },
   {
    "duration": 9,
    "start_time": "2024-05-18T05:46:58.116Z"
   },
   {
    "duration": 3,
    "start_time": "2024-05-18T05:47:04.334Z"
   },
   {
    "duration": 4,
    "start_time": "2024-05-18T05:47:04.861Z"
   },
   {
    "duration": 5,
    "start_time": "2024-05-18T05:47:05.358Z"
   },
   {
    "duration": 4,
    "start_time": "2024-05-18T05:47:05.925Z"
   },
   {
    "duration": 6,
    "start_time": "2024-05-18T05:47:06.482Z"
   },
   {
    "duration": 13,
    "start_time": "2024-05-18T05:47:10.087Z"
   },
   {
    "duration": 87,
    "start_time": "2024-05-18T05:59:32.509Z"
   },
   {
    "duration": 428,
    "start_time": "2024-05-18T05:59:57.644Z"
   },
   {
    "duration": 70,
    "start_time": "2024-05-18T05:59:58.133Z"
   },
   {
    "duration": 13,
    "start_time": "2024-05-18T05:59:58.880Z"
   },
   {
    "duration": 11,
    "start_time": "2024-05-18T05:59:59.483Z"
   },
   {
    "duration": 556,
    "start_time": "2024-05-18T05:59:59.772Z"
   },
   {
    "duration": 6,
    "start_time": "2024-05-18T06:00:00.330Z"
   },
   {
    "duration": 11,
    "start_time": "2024-05-18T06:00:00.922Z"
   },
   {
    "duration": 347,
    "start_time": "2024-05-18T06:00:01.300Z"
   },
   {
    "duration": 10,
    "start_time": "2024-05-18T06:00:01.787Z"
   },
   {
    "duration": 14,
    "start_time": "2024-05-18T06:00:02.771Z"
   },
   {
    "duration": 9,
    "start_time": "2024-05-18T06:00:03.277Z"
   },
   {
    "duration": 5,
    "start_time": "2024-05-18T06:00:05.234Z"
   },
   {
    "duration": 7,
    "start_time": "2024-05-18T06:00:05.546Z"
   },
   {
    "duration": 2,
    "start_time": "2024-05-18T06:00:06.335Z"
   },
   {
    "duration": 4,
    "start_time": "2024-05-18T06:00:06.781Z"
   },
   {
    "duration": 4,
    "start_time": "2024-05-18T06:00:07.214Z"
   },
   {
    "duration": 5,
    "start_time": "2024-05-18T06:00:07.902Z"
   },
   {
    "duration": 5,
    "start_time": "2024-05-18T06:00:08.302Z"
   },
   {
    "duration": 11,
    "start_time": "2024-05-18T06:00:08.760Z"
   },
   {
    "duration": 22,
    "start_time": "2024-05-18T06:00:10.239Z"
   },
   {
    "duration": 7,
    "start_time": "2024-05-18T06:00:14.163Z"
   },
   {
    "duration": 9,
    "start_time": "2024-05-18T06:00:29.341Z"
   },
   {
    "duration": 427,
    "start_time": "2024-05-18T12:43:08.370Z"
   },
   {
    "duration": 304,
    "start_time": "2024-05-18T12:43:09.435Z"
   },
   {
    "duration": 13,
    "start_time": "2024-05-18T12:43:14.341Z"
   },
   {
    "duration": 11,
    "start_time": "2024-05-18T12:43:16.871Z"
   },
   {
    "duration": 647,
    "start_time": "2024-05-18T12:43:19.046Z"
   },
   {
    "duration": 6,
    "start_time": "2024-05-18T12:43:19.968Z"
   },
   {
    "duration": 12,
    "start_time": "2024-05-18T12:43:22.972Z"
   },
   {
    "duration": 288,
    "start_time": "2024-05-18T12:43:26.944Z"
   },
   {
    "duration": 8,
    "start_time": "2024-05-18T12:43:29.071Z"
   },
   {
    "duration": 10,
    "start_time": "2024-05-18T12:43:33.958Z"
   },
   {
    "duration": 7,
    "start_time": "2024-05-18T12:43:36.954Z"
   },
   {
    "duration": 5,
    "start_time": "2024-05-18T12:43:43.319Z"
   },
   {
    "duration": 5,
    "start_time": "2024-05-18T12:43:43.860Z"
   },
   {
    "duration": 3,
    "start_time": "2024-05-18T12:43:45.017Z"
   },
   {
    "duration": 4,
    "start_time": "2024-05-18T12:43:45.689Z"
   },
   {
    "duration": 5,
    "start_time": "2024-05-18T12:43:46.550Z"
   },
   {
    "duration": 3,
    "start_time": "2024-05-18T12:43:47.322Z"
   },
   {
    "duration": 4,
    "start_time": "2024-05-18T12:43:48.357Z"
   },
   {
    "duration": 7,
    "start_time": "2024-05-18T12:43:51.015Z"
   },
   {
    "duration": 72,
    "start_time": "2024-05-18T12:44:12.458Z"
   },
   {
    "duration": 5,
    "start_time": "2024-05-18T12:44:13.759Z"
   },
   {
    "duration": 8,
    "start_time": "2024-05-18T12:44:14.458Z"
   },
   {
    "duration": 492,
    "start_time": "2024-05-18T12:53:45.363Z"
   },
   {
    "duration": 66,
    "start_time": "2024-05-18T12:53:45.857Z"
   },
   {
    "duration": 12,
    "start_time": "2024-05-18T12:53:48.482Z"
   },
   {
    "duration": 11,
    "start_time": "2024-05-18T12:53:49.525Z"
   },
   {
    "duration": 499,
    "start_time": "2024-05-18T12:53:50.028Z"
   },
   {
    "duration": 8,
    "start_time": "2024-05-18T12:53:50.530Z"
   },
   {
    "duration": 12,
    "start_time": "2024-05-18T12:53:51.353Z"
   },
   {
    "duration": 321,
    "start_time": "2024-05-18T12:53:51.990Z"
   },
   {
    "duration": 8,
    "start_time": "2024-05-18T12:53:52.559Z"
   },
   {
    "duration": 10,
    "start_time": "2024-05-18T12:53:55.124Z"
   },
   {
    "duration": 8,
    "start_time": "2024-05-18T12:53:55.620Z"
   },
   {
    "duration": 5,
    "start_time": "2024-05-18T12:53:59.660Z"
   },
   {
    "duration": 7,
    "start_time": "2024-05-18T12:54:00.113Z"
   },
   {
    "duration": 2,
    "start_time": "2024-05-18T12:54:00.972Z"
   },
   {
    "duration": 4,
    "start_time": "2024-05-18T12:54:01.523Z"
   },
   {
    "duration": 4,
    "start_time": "2024-05-18T12:54:04.253Z"
   },
   {
    "duration": 4,
    "start_time": "2024-05-18T12:54:05.847Z"
   },
   {
    "duration": 7,
    "start_time": "2024-05-18T12:54:07.205Z"
   },
   {
    "duration": 386,
    "start_time": "2024-05-18T12:56:29.193Z"
   },
   {
    "duration": 67,
    "start_time": "2024-05-18T12:56:29.580Z"
   },
   {
    "duration": 12,
    "start_time": "2024-05-18T12:56:29.852Z"
   },
   {
    "duration": 11,
    "start_time": "2024-05-18T12:56:30.328Z"
   },
   {
    "duration": 451,
    "start_time": "2024-05-18T12:56:30.683Z"
   },
   {
    "duration": 7,
    "start_time": "2024-05-18T12:56:31.136Z"
   },
   {
    "duration": 12,
    "start_time": "2024-05-18T12:56:33.027Z"
   },
   {
    "duration": 307,
    "start_time": "2024-05-18T12:56:33.828Z"
   },
   {
    "duration": 9,
    "start_time": "2024-05-18T12:56:34.426Z"
   },
   {
    "duration": 10,
    "start_time": "2024-05-18T12:56:36.932Z"
   },
   {
    "duration": 8,
    "start_time": "2024-05-18T12:56:37.234Z"
   },
   {
    "duration": 5,
    "start_time": "2024-05-18T12:56:40.512Z"
   },
   {
    "duration": 6,
    "start_time": "2024-05-18T12:56:42.196Z"
   },
   {
    "duration": 2,
    "start_time": "2024-05-18T12:56:43.262Z"
   },
   {
    "duration": 4,
    "start_time": "2024-05-18T12:56:43.970Z"
   },
   {
    "duration": 4,
    "start_time": "2024-05-18T12:56:45.223Z"
   },
   {
    "duration": 8,
    "start_time": "2024-05-18T12:56:47.188Z"
   },
   {
    "duration": 8,
    "start_time": "2024-05-18T12:57:12.201Z"
   },
   {
    "duration": 14,
    "start_time": "2024-05-18T12:57:15.792Z"
   },
   {
    "duration": 5,
    "start_time": "2024-05-18T12:57:18.094Z"
   },
   {
    "duration": 9,
    "start_time": "2024-05-18T12:57:18.323Z"
   },
   {
    "duration": 68,
    "start_time": "2024-05-18T13:21:43.046Z"
   },
   {
    "duration": 2,
    "start_time": "2024-05-18T13:22:41.982Z"
   },
   {
    "duration": 244,
    "start_time": "2024-05-18T13:22:42.500Z"
   },
   {
    "duration": 149,
    "start_time": "2024-05-18T13:23:32.530Z"
   },
   {
    "duration": 230,
    "start_time": "2024-05-18T13:32:22.618Z"
   },
   {
    "duration": 207,
    "start_time": "2024-05-18T13:33:38.384Z"
   },
   {
    "duration": 142,
    "start_time": "2024-05-18T13:33:57.890Z"
   },
   {
    "duration": 212,
    "start_time": "2024-05-18T13:34:05.754Z"
   },
   {
    "duration": 246,
    "start_time": "2024-05-18T13:34:20.602Z"
   },
   {
    "duration": 4,
    "start_time": "2024-05-18T13:36:41.275Z"
   },
   {
    "duration": 342,
    "start_time": "2024-05-18T13:39:03.175Z"
   },
   {
    "duration": 360,
    "start_time": "2024-05-18T13:42:12.633Z"
   },
   {
    "duration": 170,
    "start_time": "2024-05-18T13:42:29.398Z"
   },
   {
    "duration": 157,
    "start_time": "2024-05-18T13:42:40.146Z"
   },
   {
    "duration": 179,
    "start_time": "2024-05-18T13:49:03.028Z"
   },
   {
    "duration": 164,
    "start_time": "2024-05-18T13:49:21.164Z"
   },
   {
    "duration": 240,
    "start_time": "2024-05-18T13:50:08.596Z"
   },
   {
    "duration": 240,
    "start_time": "2024-05-18T13:50:17.105Z"
   },
   {
    "duration": 154,
    "start_time": "2024-05-18T13:53:13.637Z"
   },
   {
    "duration": 151,
    "start_time": "2024-05-18T13:53:26.266Z"
   },
   {
    "duration": 154,
    "start_time": "2024-05-18T13:53:35.291Z"
   },
   {
    "duration": 148,
    "start_time": "2024-05-18T13:53:53.238Z"
   },
   {
    "duration": 155,
    "start_time": "2024-05-18T13:54:08.624Z"
   },
   {
    "duration": 29,
    "start_time": "2024-05-18T14:04:29.215Z"
   },
   {
    "duration": 242,
    "start_time": "2024-05-18T14:04:44.197Z"
   },
   {
    "duration": 72,
    "start_time": "2024-05-18T14:05:19.855Z"
   },
   {
    "duration": 170,
    "start_time": "2024-05-18T14:05:40.352Z"
   },
   {
    "duration": 62,
    "start_time": "2024-05-18T14:06:24.127Z"
   },
   {
    "duration": 183,
    "start_time": "2024-05-18T14:06:29.914Z"
   },
   {
    "duration": 196,
    "start_time": "2024-05-18T14:06:40.813Z"
   },
   {
    "duration": 193,
    "start_time": "2024-05-18T14:06:46.479Z"
   },
   {
    "duration": 285,
    "start_time": "2024-05-18T14:06:55.653Z"
   },
   {
    "duration": 32,
    "start_time": "2024-05-18T14:24:33.820Z"
   },
   {
    "duration": 33,
    "start_time": "2024-05-18T14:25:45.991Z"
   },
   {
    "duration": 23,
    "start_time": "2024-05-18T14:35:50.938Z"
   },
   {
    "duration": 28,
    "start_time": "2024-05-18T14:36:21.260Z"
   },
   {
    "duration": 26,
    "start_time": "2024-05-18T14:36:42.967Z"
   },
   {
    "duration": 1048,
    "start_time": "2024-05-18T14:38:03.806Z"
   },
   {
    "duration": 30,
    "start_time": "2024-05-18T14:38:35.770Z"
   },
   {
    "duration": 24,
    "start_time": "2024-05-18T14:50:50.834Z"
   },
   {
    "duration": 19,
    "start_time": "2024-05-18T14:51:35.886Z"
   },
   {
    "duration": 22,
    "start_time": "2024-05-18T15:00:38.558Z"
   },
   {
    "duration": 65,
    "start_time": "2024-05-18T15:01:01.760Z"
   },
   {
    "duration": 59,
    "start_time": "2024-05-18T15:01:12.828Z"
   },
   {
    "duration": 4,
    "start_time": "2024-05-18T15:02:24.201Z"
   },
   {
    "duration": 17,
    "start_time": "2024-05-18T15:02:37.489Z"
   },
   {
    "duration": 23,
    "start_time": "2024-05-18T15:03:00.766Z"
   },
   {
    "duration": 27,
    "start_time": "2024-05-18T15:03:52.762Z"
   },
   {
    "duration": 71,
    "start_time": "2024-05-18T15:04:51.615Z"
   },
   {
    "duration": 61,
    "start_time": "2024-05-18T15:05:06.533Z"
   },
   {
    "duration": 175,
    "start_time": "2024-05-18T15:05:25.692Z"
   },
   {
    "duration": 22,
    "start_time": "2024-05-18T15:05:57.349Z"
   },
   {
    "duration": 15,
    "start_time": "2024-05-18T15:06:47.607Z"
   },
   {
    "duration": 11,
    "start_time": "2024-05-18T15:15:23.357Z"
   },
   {
    "duration": 12,
    "start_time": "2024-05-18T15:15:37.864Z"
   },
   {
    "duration": 412,
    "start_time": "2024-05-19T03:44:55.443Z"
   },
   {
    "duration": 297,
    "start_time": "2024-05-19T03:44:56.355Z"
   },
   {
    "duration": 13,
    "start_time": "2024-05-19T03:44:59.641Z"
   },
   {
    "duration": 11,
    "start_time": "2024-05-19T03:45:01.074Z"
   },
   {
    "duration": 700,
    "start_time": "2024-05-19T03:45:01.745Z"
   },
   {
    "duration": 7,
    "start_time": "2024-05-19T03:45:02.448Z"
   },
   {
    "duration": 12,
    "start_time": "2024-05-19T03:45:04.139Z"
   },
   {
    "duration": 301,
    "start_time": "2024-05-19T03:45:04.883Z"
   },
   {
    "duration": 9,
    "start_time": "2024-05-19T03:45:05.739Z"
   },
   {
    "duration": 10,
    "start_time": "2024-05-19T03:45:08.327Z"
   },
   {
    "duration": 9,
    "start_time": "2024-05-19T03:45:09.148Z"
   },
   {
    "duration": 6,
    "start_time": "2024-05-19T03:45:13.849Z"
   },
   {
    "duration": 6,
    "start_time": "2024-05-19T03:45:14.266Z"
   },
   {
    "duration": 2,
    "start_time": "2024-05-19T03:45:14.959Z"
   },
   {
    "duration": 4,
    "start_time": "2024-05-19T03:45:15.271Z"
   },
   {
    "duration": 4,
    "start_time": "2024-05-19T03:45:15.971Z"
   },
   {
    "duration": 8,
    "start_time": "2024-05-19T03:45:17.928Z"
   },
   {
    "duration": 64,
    "start_time": "2024-05-19T03:45:22.731Z"
   },
   {
    "duration": 5,
    "start_time": "2024-05-19T03:45:25.329Z"
   },
   {
    "duration": 9,
    "start_time": "2024-05-19T03:45:25.817Z"
   },
   {
    "duration": 3,
    "start_time": "2024-05-19T03:45:29.486Z"
   },
   {
    "duration": 179,
    "start_time": "2024-05-19T03:45:32.277Z"
   },
   {
    "duration": 12,
    "start_time": "2024-05-19T03:49:29.630Z"
   },
   {
    "duration": 15,
    "start_time": "2024-05-19T03:50:24.124Z"
   },
   {
    "duration": 99,
    "start_time": "2024-05-19T04:00:48.634Z"
   },
   {
    "duration": 1081,
    "start_time": "2024-05-19T04:01:36.881Z"
   },
   {
    "duration": 15,
    "start_time": "2024-05-19T04:10:31.680Z"
   },
   {
    "duration": 63,
    "start_time": "2024-05-19T04:10:57.880Z"
   },
   {
    "duration": 1130,
    "start_time": "2024-05-19T04:11:06.352Z"
   },
   {
    "duration": 1104,
    "start_time": "2024-05-19T04:11:32.618Z"
   },
   {
    "duration": 1066,
    "start_time": "2024-05-19T04:12:31.280Z"
   },
   {
    "duration": 146,
    "start_time": "2024-05-19T04:12:59.924Z"
   },
   {
    "duration": 150,
    "start_time": "2024-05-19T04:13:25.371Z"
   },
   {
    "duration": 122,
    "start_time": "2024-05-19T04:13:44.865Z"
   },
   {
    "duration": 129,
    "start_time": "2024-05-19T04:21:46.703Z"
   },
   {
    "duration": 291,
    "start_time": "2024-05-19T04:27:39.557Z"
   },
   {
    "duration": 9,
    "start_time": "2024-05-19T04:29:48.051Z"
   },
   {
    "duration": 14,
    "start_time": "2024-05-19T04:50:25.743Z"
   },
   {
    "duration": 12,
    "start_time": "2024-05-19T04:54:39.994Z"
   },
   {
    "duration": 10,
    "start_time": "2024-05-19T04:55:00.580Z"
   },
   {
    "duration": 8,
    "start_time": "2024-05-19T04:55:48.294Z"
   },
   {
    "duration": 845,
    "start_time": "2024-05-19T04:56:14.295Z"
   },
   {
    "duration": 194,
    "start_time": "2024-05-19T04:56:43.259Z"
   },
   {
    "duration": 281,
    "start_time": "2024-05-19T05:01:50.360Z"
   },
   {
    "duration": 275,
    "start_time": "2024-05-19T05:02:17.362Z"
   },
   {
    "duration": 211,
    "start_time": "2024-05-19T05:02:56.093Z"
   },
   {
    "duration": 564,
    "start_time": "2024-05-19T05:03:12.642Z"
   },
   {
    "duration": 61,
    "start_time": "2024-05-19T05:03:28.193Z"
   },
   {
    "duration": 64,
    "start_time": "2024-05-19T05:03:47.761Z"
   },
   {
    "duration": 729,
    "start_time": "2024-05-19T05:04:18.390Z"
   },
   {
    "duration": 140,
    "start_time": "2024-05-19T05:04:55.314Z"
   },
   {
    "duration": 250,
    "start_time": "2024-05-19T05:05:55.197Z"
   },
   {
    "duration": 257,
    "start_time": "2024-05-19T05:06:08.928Z"
   },
   {
    "duration": 384,
    "start_time": "2024-05-19T05:06:24.116Z"
   },
   {
    "duration": 385,
    "start_time": "2024-05-19T05:06:30.615Z"
   },
   {
    "duration": 728,
    "start_time": "2024-05-19T05:06:51.168Z"
   },
   {
    "duration": 212,
    "start_time": "2024-05-19T05:07:01.120Z"
   },
   {
    "duration": 5,
    "start_time": "2024-05-19T05:26:21.860Z"
   },
   {
    "duration": 11,
    "start_time": "2024-05-19T05:41:50.100Z"
   },
   {
    "duration": 8,
    "start_time": "2024-05-19T05:42:10.442Z"
   },
   {
    "duration": 197,
    "start_time": "2024-05-19T05:43:44.013Z"
   },
   {
    "duration": 419,
    "start_time": "2024-05-19T05:45:26.368Z"
   },
   {
    "duration": 148,
    "start_time": "2024-05-19T05:45:31.850Z"
   },
   {
    "duration": 154,
    "start_time": "2024-05-19T05:45:45.866Z"
   },
   {
    "duration": 153,
    "start_time": "2024-05-19T05:46:03.990Z"
   },
   {
    "duration": 177,
    "start_time": "2024-05-19T05:46:09.598Z"
   },
   {
    "duration": 157,
    "start_time": "2024-05-19T05:46:19.966Z"
   },
   {
    "duration": 168,
    "start_time": "2024-05-19T05:46:30.183Z"
   },
   {
    "duration": 171,
    "start_time": "2024-05-19T05:46:43.153Z"
   },
   {
    "duration": 5,
    "start_time": "2024-05-19T05:47:40.762Z"
   },
   {
    "duration": 159,
    "start_time": "2024-05-19T05:47:57.700Z"
   },
   {
    "duration": 179,
    "start_time": "2024-05-19T05:48:53.261Z"
   },
   {
    "duration": 199,
    "start_time": "2024-05-19T05:50:14.167Z"
   },
   {
    "duration": 175,
    "start_time": "2024-05-19T05:50:23.105Z"
   },
   {
    "duration": 342,
    "start_time": "2024-05-19T05:53:07.471Z"
   },
   {
    "duration": 189,
    "start_time": "2024-05-19T05:53:17.360Z"
   },
   {
    "duration": 406,
    "start_time": "2024-05-19T06:21:33.795Z"
   },
   {
    "duration": 70,
    "start_time": "2024-05-19T06:21:34.345Z"
   },
   {
    "duration": 13,
    "start_time": "2024-05-19T06:21:35.573Z"
   },
   {
    "duration": 11,
    "start_time": "2024-05-19T06:21:36.845Z"
   },
   {
    "duration": 541,
    "start_time": "2024-05-19T06:21:37.540Z"
   },
   {
    "duration": 7,
    "start_time": "2024-05-19T06:21:38.089Z"
   },
   {
    "duration": 12,
    "start_time": "2024-05-19T06:21:39.194Z"
   },
   {
    "duration": 399,
    "start_time": "2024-05-19T06:21:39.723Z"
   },
   {
    "duration": 10,
    "start_time": "2024-05-19T06:21:40.227Z"
   },
   {
    "duration": 11,
    "start_time": "2024-05-19T06:21:41.253Z"
   },
   {
    "duration": 9,
    "start_time": "2024-05-19T06:21:41.746Z"
   },
   {
    "duration": 6,
    "start_time": "2024-05-19T06:21:45.906Z"
   },
   {
    "duration": 7,
    "start_time": "2024-05-19T06:21:46.255Z"
   },
   {
    "duration": 3,
    "start_time": "2024-05-19T06:21:47.259Z"
   },
   {
    "duration": 4,
    "start_time": "2024-05-19T06:21:47.710Z"
   },
   {
    "duration": 3,
    "start_time": "2024-05-19T06:21:48.176Z"
   },
   {
    "duration": 8,
    "start_time": "2024-05-19T06:21:48.616Z"
   },
   {
    "duration": 15,
    "start_time": "2024-05-19T06:21:51.150Z"
   },
   {
    "duration": 7,
    "start_time": "2024-05-19T06:21:53.777Z"
   },
   {
    "duration": 9,
    "start_time": "2024-05-19T06:21:54.241Z"
   },
   {
    "duration": 3,
    "start_time": "2024-05-19T06:21:56.603Z"
   },
   {
    "duration": 195,
    "start_time": "2024-05-19T06:21:58.980Z"
   },
   {
    "duration": 13,
    "start_time": "2024-05-19T06:22:02.033Z"
   },
   {
    "duration": 188,
    "start_time": "2024-05-19T06:22:02.554Z"
   },
   {
    "duration": 10,
    "start_time": "2024-05-19T06:22:05.209Z"
   },
   {
    "duration": 313,
    "start_time": "2024-05-19T06:22:06.343Z"
   },
   {
    "duration": 9,
    "start_time": "2024-05-19T06:22:09.016Z"
   },
   {
    "duration": 244,
    "start_time": "2024-05-19T06:22:10.591Z"
   },
   {
    "duration": 9,
    "start_time": "2024-05-19T06:22:13.977Z"
   },
   {
    "duration": 194,
    "start_time": "2024-05-19T06:22:15.427Z"
   },
   {
    "duration": 406,
    "start_time": "2024-05-19T15:40:14.468Z"
   },
   {
    "duration": 206,
    "start_time": "2024-05-19T15:40:14.876Z"
   },
   {
    "duration": 13,
    "start_time": "2024-05-19T15:40:17.141Z"
   },
   {
    "duration": 12,
    "start_time": "2024-05-19T15:40:18.299Z"
   },
   {
    "duration": 735,
    "start_time": "2024-05-19T15:40:18.745Z"
   },
   {
    "duration": 0,
    "start_time": "2024-05-19T15:40:19.483Z"
   },
   {
    "duration": 16,
    "start_time": "2024-05-19T15:40:20.332Z"
   },
   {
    "duration": 394,
    "start_time": "2024-05-19T15:40:20.974Z"
   },
   {
    "duration": 12,
    "start_time": "2024-05-19T15:40:21.793Z"
   },
   {
    "duration": 11,
    "start_time": "2024-05-19T15:40:23.904Z"
   },
   {
    "duration": 8,
    "start_time": "2024-05-19T15:40:24.515Z"
   },
   {
    "duration": 6,
    "start_time": "2024-05-19T15:40:33.674Z"
   },
   {
    "duration": 7,
    "start_time": "2024-05-19T15:40:34.180Z"
   },
   {
    "duration": 2,
    "start_time": "2024-05-19T15:40:34.982Z"
   },
   {
    "duration": 4,
    "start_time": "2024-05-19T15:40:35.310Z"
   },
   {
    "duration": 5,
    "start_time": "2024-05-19T15:40:35.649Z"
   },
   {
    "duration": 8,
    "start_time": "2024-05-19T15:40:36.310Z"
   },
   {
    "duration": 80,
    "start_time": "2024-05-19T15:40:37.335Z"
   },
   {
    "duration": 5,
    "start_time": "2024-05-19T15:40:38.293Z"
   },
   {
    "duration": 12,
    "start_time": "2024-05-19T15:40:38.882Z"
   },
   {
    "duration": 3,
    "start_time": "2024-05-19T15:40:41.143Z"
   },
   {
    "duration": 192,
    "start_time": "2024-05-19T15:40:41.762Z"
   },
   {
    "duration": 13,
    "start_time": "2024-05-19T15:40:46.322Z"
   },
   {
    "duration": 129,
    "start_time": "2024-05-19T15:40:47.025Z"
   },
   {
    "duration": 9,
    "start_time": "2024-05-19T15:40:51.499Z"
   },
   {
    "duration": 315,
    "start_time": "2024-05-19T15:40:52.021Z"
   },
   {
    "duration": 9,
    "start_time": "2024-05-19T15:40:54.387Z"
   },
   {
    "duration": 215,
    "start_time": "2024-05-19T15:40:55.083Z"
   },
   {
    "duration": 9,
    "start_time": "2024-05-19T15:40:56.835Z"
   },
   {
    "duration": 208,
    "start_time": "2024-05-19T15:40:57.355Z"
   },
   {
    "duration": 699,
    "start_time": "2024-05-19T16:08:56.177Z"
   },
   {
    "duration": 11,
    "start_time": "2024-05-19T16:09:28.579Z"
   },
   {
    "duration": 444,
    "start_time": "2024-05-19T16:09:42.715Z"
   },
   {
    "duration": 71,
    "start_time": "2024-05-19T16:09:43.161Z"
   },
   {
    "duration": 12,
    "start_time": "2024-05-19T16:09:44.138Z"
   },
   {
    "duration": 10,
    "start_time": "2024-05-19T16:09:45.400Z"
   },
   {
    "duration": 686,
    "start_time": "2024-05-19T16:09:45.790Z"
   },
   {
    "duration": 0,
    "start_time": "2024-05-19T16:09:46.477Z"
   },
   {
    "duration": 13,
    "start_time": "2024-05-19T16:09:47.522Z"
   },
   {
    "duration": 372,
    "start_time": "2024-05-19T16:09:48.282Z"
   },
   {
    "duration": 9,
    "start_time": "2024-05-19T16:09:49.667Z"
   },
   {
    "duration": 10,
    "start_time": "2024-05-19T16:09:51.736Z"
   },
   {
    "duration": 8,
    "start_time": "2024-05-19T16:09:52.287Z"
   },
   {
    "duration": 6,
    "start_time": "2024-05-19T16:09:54.635Z"
   },
   {
    "duration": 6,
    "start_time": "2024-05-19T16:09:55.035Z"
   },
   {
    "duration": 3,
    "start_time": "2024-05-19T16:09:56.061Z"
   },
   {
    "duration": 5,
    "start_time": "2024-05-19T16:09:56.570Z"
   },
   {
    "duration": 4,
    "start_time": "2024-05-19T16:09:57.063Z"
   },
   {
    "duration": 7,
    "start_time": "2024-05-19T16:09:57.662Z"
   },
   {
    "duration": 15,
    "start_time": "2024-05-19T16:09:58.628Z"
   },
   {
    "duration": 5,
    "start_time": "2024-05-19T16:09:59.747Z"
   },
   {
    "duration": 8,
    "start_time": "2024-05-19T16:10:00.267Z"
   },
   {
    "duration": 3,
    "start_time": "2024-05-19T16:10:02.375Z"
   },
   {
    "duration": 204,
    "start_time": "2024-05-19T16:10:02.856Z"
   },
   {
    "duration": 12,
    "start_time": "2024-05-19T16:10:04.324Z"
   },
   {
    "duration": 189,
    "start_time": "2024-05-19T16:10:04.840Z"
   },
   {
    "duration": 8,
    "start_time": "2024-05-19T16:10:06.516Z"
   },
   {
    "duration": 327,
    "start_time": "2024-05-19T16:10:07.380Z"
   },
   {
    "duration": 9,
    "start_time": "2024-05-19T16:10:09.348Z"
   },
   {
    "duration": 210,
    "start_time": "2024-05-19T16:10:10.043Z"
   },
   {
    "duration": 9,
    "start_time": "2024-05-19T16:10:11.735Z"
   },
   {
    "duration": 216,
    "start_time": "2024-05-19T16:10:12.041Z"
   },
   {
    "duration": 10,
    "start_time": "2024-05-19T16:10:15.691Z"
   },
   {
    "duration": 741,
    "start_time": "2024-05-19T16:11:22.151Z"
   },
   {
    "duration": 205,
    "start_time": "2024-05-19T16:11:39.867Z"
   },
   {
    "duration": 10,
    "start_time": "2024-05-19T16:18:00.170Z"
   },
   {
    "duration": 19,
    "start_time": "2024-05-19T16:18:54.686Z"
   },
   {
    "duration": 14,
    "start_time": "2024-05-19T16:19:51.301Z"
   },
   {
    "duration": 12,
    "start_time": "2024-05-19T16:22:12.011Z"
   },
   {
    "duration": 9,
    "start_time": "2024-05-19T16:37:11.955Z"
   },
   {
    "duration": 16,
    "start_time": "2024-05-19T16:45:14.908Z"
   },
   {
    "duration": 17,
    "start_time": "2024-05-19T16:46:11.706Z"
   },
   {
    "duration": 7,
    "start_time": "2024-05-19T16:46:57.119Z"
   },
   {
    "duration": 9,
    "start_time": "2024-05-19T16:48:50.767Z"
   },
   {
    "duration": 691,
    "start_time": "2024-05-19T16:49:01.758Z"
   },
   {
    "duration": 14,
    "start_time": "2024-05-19T16:49:37.842Z"
   },
   {
    "duration": 108,
    "start_time": "2024-05-19T16:52:22.382Z"
   },
   {
    "duration": 21,
    "start_time": "2024-05-19T16:52:48.440Z"
   },
   {
    "duration": 19,
    "start_time": "2024-05-19T16:53:25.355Z"
   },
   {
    "duration": 30,
    "start_time": "2024-05-19T16:53:42.941Z"
   },
   {
    "duration": 32,
    "start_time": "2024-05-19T16:54:23.150Z"
   },
   {
    "duration": 9,
    "start_time": "2024-05-19T17:06:42.104Z"
   },
   {
    "duration": 51,
    "start_time": "2024-05-19T17:08:22.703Z"
   },
   {
    "duration": 8,
    "start_time": "2024-05-19T17:08:30.371Z"
   },
   {
    "duration": 8,
    "start_time": "2024-05-19T17:08:42.259Z"
   },
   {
    "duration": 288,
    "start_time": "2024-05-19T17:10:09.145Z"
   },
   {
    "duration": 375,
    "start_time": "2024-05-19T17:10:22.836Z"
   },
   {
    "duration": 203,
    "start_time": "2024-05-19T17:11:25.902Z"
   },
   {
    "duration": 297,
    "start_time": "2024-05-19T17:11:35.616Z"
   },
   {
    "duration": 158,
    "start_time": "2024-05-19T17:11:44.303Z"
   },
   {
    "duration": 182,
    "start_time": "2024-05-19T17:17:00.237Z"
   },
   {
    "duration": 259,
    "start_time": "2024-05-19T17:18:22.246Z"
   },
   {
    "duration": 164,
    "start_time": "2024-05-19T17:18:40.745Z"
   },
   {
    "duration": 167,
    "start_time": "2024-05-19T17:19:11.079Z"
   },
   {
    "duration": 9,
    "start_time": "2024-05-19T17:24:24.566Z"
   },
   {
    "duration": 167,
    "start_time": "2024-05-19T17:24:25.173Z"
   },
   {
    "duration": 251,
    "start_time": "2024-05-19T17:25:25.682Z"
   },
   {
    "duration": 155,
    "start_time": "2024-05-19T17:25:36.680Z"
   },
   {
    "duration": 283,
    "start_time": "2024-05-19T17:25:46.740Z"
   },
   {
    "duration": 180,
    "start_time": "2024-05-19T17:26:20.221Z"
   },
   {
    "duration": 208,
    "start_time": "2024-05-19T17:26:26.497Z"
   },
   {
    "duration": 315,
    "start_time": "2024-05-19T17:27:41.806Z"
   },
   {
    "duration": 191,
    "start_time": "2024-05-19T17:29:48.598Z"
   },
   {
    "duration": 219,
    "start_time": "2024-05-19T17:35:41.174Z"
   },
   {
    "duration": 202,
    "start_time": "2024-05-19T17:37:08.670Z"
   },
   {
    "duration": 397,
    "start_time": "2024-05-20T05:07:39.876Z"
   },
   {
    "duration": 207,
    "start_time": "2024-05-20T05:07:43.091Z"
   },
   {
    "duration": 12,
    "start_time": "2024-05-20T05:07:44.583Z"
   },
   {
    "duration": 13,
    "start_time": "2024-05-20T05:07:47.064Z"
   },
   {
    "duration": 728,
    "start_time": "2024-05-20T05:07:48.854Z"
   },
   {
    "duration": 6,
    "start_time": "2024-05-20T05:07:51.352Z"
   },
   {
    "duration": 3,
    "start_time": "2024-05-20T05:08:50.742Z"
   },
   {
    "duration": 69,
    "start_time": "2024-05-20T05:08:51.344Z"
   },
   {
    "duration": 15,
    "start_time": "2024-05-20T05:08:54.072Z"
   },
   {
    "duration": 10,
    "start_time": "2024-05-20T05:08:56.591Z"
   },
   {
    "duration": 3,
    "start_time": "2024-05-20T05:08:58.454Z"
   },
   {
    "duration": 213,
    "start_time": "2024-05-20T05:08:59.558Z"
   },
   {
    "duration": 6,
    "start_time": "2024-05-20T05:09:01.872Z"
   },
   {
    "duration": 11,
    "start_time": "2024-05-20T05:09:03.139Z"
   },
   {
    "duration": 452,
    "start_time": "2024-05-20T05:09:03.912Z"
   },
   {
    "duration": 11,
    "start_time": "2024-05-20T05:09:05.831Z"
   },
   {
    "duration": 10,
    "start_time": "2024-05-20T05:09:07.038Z"
   },
   {
    "duration": 8,
    "start_time": "2024-05-20T05:09:08.892Z"
   },
   {
    "duration": 6,
    "start_time": "2024-05-20T05:09:13.118Z"
   },
   {
    "duration": 7,
    "start_time": "2024-05-20T05:09:15.541Z"
   },
   {
    "duration": 5,
    "start_time": "2024-05-20T05:09:29.297Z"
   },
   {
    "duration": 9,
    "start_time": "2024-05-20T05:09:30.305Z"
   },
   {
    "duration": 3,
    "start_time": "2024-05-20T05:10:55.496Z"
   },
   {
    "duration": 4,
    "start_time": "2024-05-20T05:10:56.611Z"
   },
   {
    "duration": 4,
    "start_time": "2024-05-20T05:10:57.202Z"
   },
   {
    "duration": 8,
    "start_time": "2024-05-20T05:10:59.896Z"
   },
   {
    "duration": 13,
    "start_time": "2024-05-20T05:11:01.743Z"
   },
   {
    "duration": 6,
    "start_time": "2024-05-20T05:11:02.759Z"
   },
   {
    "duration": 7,
    "start_time": "2024-05-20T05:11:05.432Z"
   },
   {
    "duration": 184,
    "start_time": "2024-05-20T05:11:11.792Z"
   },
   {
    "duration": 13,
    "start_time": "2024-05-20T05:11:17.571Z"
   },
   {
    "duration": 129,
    "start_time": "2024-05-20T05:11:18.062Z"
   },
   {
    "duration": 8,
    "start_time": "2024-05-20T05:11:20.694Z"
   },
   {
    "duration": 296,
    "start_time": "2024-05-20T05:11:22.200Z"
   },
   {
    "duration": 8,
    "start_time": "2024-05-20T05:11:24.797Z"
   },
   {
    "duration": 223,
    "start_time": "2024-05-20T05:11:25.249Z"
   },
   {
    "duration": 8,
    "start_time": "2024-05-20T05:11:27.837Z"
   },
   {
    "duration": 175,
    "start_time": "2024-05-20T05:11:28.318Z"
   },
   {
    "duration": 19,
    "start_time": "2024-05-20T05:11:32.869Z"
   },
   {
    "duration": 15,
    "start_time": "2024-05-20T05:11:34.297Z"
   },
   {
    "duration": 12,
    "start_time": "2024-05-20T05:11:35.897Z"
   },
   {
    "duration": 8,
    "start_time": "2024-05-20T05:11:37.474Z"
   },
   {
    "duration": 23,
    "start_time": "2024-05-20T05:11:42.106Z"
   },
   {
    "duration": 20,
    "start_time": "2024-05-20T05:11:44.538Z"
   },
   {
    "duration": 761,
    "start_time": "2024-05-20T05:18:23.919Z"
   },
   {
    "duration": 767,
    "start_time": "2024-05-20T05:19:05.089Z"
   },
   {
    "duration": 127,
    "start_time": "2024-05-20T05:20:39.322Z"
   },
   {
    "duration": 147,
    "start_time": "2024-05-20T05:20:52.838Z"
   },
   {
    "duration": 144,
    "start_time": "2024-05-20T05:26:31.175Z"
   },
   {
    "duration": 22,
    "start_time": "2024-05-20T05:35:59.783Z"
   },
   {
    "duration": 17,
    "start_time": "2024-05-20T05:37:43.045Z"
   },
   {
    "duration": 17,
    "start_time": "2024-05-20T05:38:24.953Z"
   },
   {
    "duration": 23,
    "start_time": "2024-05-20T05:39:57.109Z"
   },
   {
    "duration": 15,
    "start_time": "2024-05-20T05:40:05.290Z"
   },
   {
    "duration": 19,
    "start_time": "2024-05-20T05:41:02.506Z"
   },
   {
    "duration": 90,
    "start_time": "2024-05-20T05:41:32.596Z"
   },
   {
    "duration": 19,
    "start_time": "2024-05-20T05:41:57.572Z"
   },
   {
    "duration": 23,
    "start_time": "2024-05-20T05:42:28.421Z"
   },
   {
    "duration": 20,
    "start_time": "2024-05-20T05:45:35.782Z"
   },
   {
    "duration": 27,
    "start_time": "2024-05-20T05:46:04.209Z"
   },
   {
    "duration": 28,
    "start_time": "2024-05-20T05:46:36.713Z"
   },
   {
    "duration": 28,
    "start_time": "2024-05-20T05:47:22.169Z"
   },
   {
    "duration": 21,
    "start_time": "2024-05-20T05:47:41.594Z"
   },
   {
    "duration": 1183,
    "start_time": "2024-05-20T05:59:17.320Z"
   },
   {
    "duration": 19,
    "start_time": "2024-05-20T05:59:31.134Z"
   },
   {
    "duration": 34,
    "start_time": "2024-05-20T06:00:01.443Z"
   },
   {
    "duration": 12,
    "start_time": "2024-05-20T06:01:28.653Z"
   },
   {
    "duration": 28,
    "start_time": "2024-05-20T06:04:05.135Z"
   },
   {
    "duration": 22,
    "start_time": "2024-05-20T06:04:58.482Z"
   },
   {
    "duration": 13,
    "start_time": "2024-05-20T06:08:07.185Z"
   },
   {
    "duration": 11,
    "start_time": "2024-05-20T06:09:44.042Z"
   },
   {
    "duration": 13,
    "start_time": "2024-05-20T06:09:51.220Z"
   },
   {
    "duration": 15,
    "start_time": "2024-05-20T06:10:22.401Z"
   },
   {
    "duration": 14,
    "start_time": "2024-05-20T06:11:06.489Z"
   },
   {
    "duration": 150,
    "start_time": "2024-05-20T06:14:38.478Z"
   },
   {
    "duration": 147,
    "start_time": "2024-05-20T06:14:57.699Z"
   },
   {
    "duration": 153,
    "start_time": "2024-05-20T06:15:05.742Z"
   },
   {
    "duration": 160,
    "start_time": "2024-05-20T06:18:44.576Z"
   },
   {
    "duration": 782,
    "start_time": "2024-05-20T06:33:49.617Z"
   },
   {
    "duration": 781,
    "start_time": "2024-05-20T06:44:47.322Z"
   },
   {
    "duration": 536,
    "start_time": "2024-05-20T06:45:02.099Z"
   },
   {
    "duration": 2306,
    "start_time": "2024-05-20T06:47:26.990Z"
   },
   {
    "duration": 10,
    "start_time": "2024-05-20T06:54:02.190Z"
   },
   {
    "duration": 16,
    "start_time": "2024-05-20T06:54:09.711Z"
   },
   {
    "duration": 16,
    "start_time": "2024-05-20T06:54:56.907Z"
   },
   {
    "duration": 15,
    "start_time": "2024-05-20T06:55:06.917Z"
   },
   {
    "duration": 16,
    "start_time": "2024-05-20T06:55:26.488Z"
   },
   {
    "duration": 55,
    "start_time": "2024-05-20T06:56:21.619Z"
   },
   {
    "duration": 21,
    "start_time": "2024-05-20T06:56:43.619Z"
   },
   {
    "duration": 36,
    "start_time": "2024-05-20T06:57:26.540Z"
   },
   {
    "duration": 50,
    "start_time": "2024-05-20T06:58:57.525Z"
   },
   {
    "duration": 54,
    "start_time": "2024-05-20T06:59:06.068Z"
   },
   {
    "duration": 61,
    "start_time": "2024-05-20T06:59:43.151Z"
   },
   {
    "duration": 51,
    "start_time": "2024-05-20T07:00:19.619Z"
   },
   {
    "duration": 77,
    "start_time": "2024-05-20T07:00:39.263Z"
   },
   {
    "duration": 53,
    "start_time": "2024-05-20T07:00:52.774Z"
   },
   {
    "duration": 20,
    "start_time": "2024-05-20T07:01:45.289Z"
   },
   {
    "duration": 15,
    "start_time": "2024-05-20T07:03:17.327Z"
   },
   {
    "duration": 15,
    "start_time": "2024-05-20T07:03:47.645Z"
   },
   {
    "duration": 14,
    "start_time": "2024-05-20T07:04:52.458Z"
   },
   {
    "duration": 150,
    "start_time": "2024-05-20T07:06:08.712Z"
   },
   {
    "duration": 140,
    "start_time": "2024-05-20T07:06:55.644Z"
   },
   {
    "duration": 232,
    "start_time": "2024-05-20T07:07:22.987Z"
   },
   {
    "duration": 246,
    "start_time": "2024-05-20T07:14:37.514Z"
   },
   {
    "duration": 247,
    "start_time": "2024-05-20T07:16:37.393Z"
   },
   {
    "duration": 261,
    "start_time": "2024-05-20T07:17:08.802Z"
   },
   {
    "duration": 271,
    "start_time": "2024-05-20T07:23:52.195Z"
   },
   {
    "duration": 334,
    "start_time": "2024-05-20T07:24:54.101Z"
   },
   {
    "duration": 355,
    "start_time": "2024-05-20T07:25:44.974Z"
   },
   {
    "duration": 383,
    "start_time": "2024-05-20T07:26:09.319Z"
   },
   {
    "duration": 73,
    "start_time": "2024-05-20T07:26:09.776Z"
   },
   {
    "duration": 12,
    "start_time": "2024-05-20T07:26:10.906Z"
   },
   {
    "duration": 15,
    "start_time": "2024-05-20T07:26:11.778Z"
   },
   {
    "duration": 229,
    "start_time": "2024-05-20T07:26:12.223Z"
   },
   {
    "duration": 217,
    "start_time": "2024-05-20T07:26:12.660Z"
   },
   {
    "duration": 6,
    "start_time": "2024-05-20T07:26:13.143Z"
   },
   {
    "duration": 15,
    "start_time": "2024-05-20T07:26:13.873Z"
   },
   {
    "duration": 350,
    "start_time": "2024-05-20T07:26:14.241Z"
   },
   {
    "duration": 9,
    "start_time": "2024-05-20T07:26:14.599Z"
   },
   {
    "duration": 10,
    "start_time": "2024-05-20T07:26:15.301Z"
   },
   {
    "duration": 8,
    "start_time": "2024-05-20T07:26:15.631Z"
   },
   {
    "duration": 5,
    "start_time": "2024-05-20T07:26:17.388Z"
   },
   {
    "duration": 8,
    "start_time": "2024-05-20T07:26:17.892Z"
   },
   {
    "duration": 2,
    "start_time": "2024-05-20T07:26:18.506Z"
   },
   {
    "duration": 4,
    "start_time": "2024-05-20T07:26:19.012Z"
   },
   {
    "duration": 4,
    "start_time": "2024-05-20T07:26:19.155Z"
   },
   {
    "duration": 8,
    "start_time": "2024-05-20T07:26:19.486Z"
   },
   {
    "duration": 15,
    "start_time": "2024-05-20T07:26:20.173Z"
   },
   {
    "duration": 5,
    "start_time": "2024-05-20T07:26:20.840Z"
   },
   {
    "duration": 8,
    "start_time": "2024-05-20T07:26:21.146Z"
   },
   {
    "duration": 204,
    "start_time": "2024-05-20T07:26:27.046Z"
   },
   {
    "duration": 17,
    "start_time": "2024-05-20T07:26:28.424Z"
   },
   {
    "duration": 173,
    "start_time": "2024-05-20T07:26:28.834Z"
   },
   {
    "duration": 7,
    "start_time": "2024-05-20T07:26:30.311Z"
   },
   {
    "duration": 280,
    "start_time": "2024-05-20T07:26:30.613Z"
   },
   {
    "duration": 8,
    "start_time": "2024-05-20T07:26:42.490Z"
   },
   {
    "duration": 210,
    "start_time": "2024-05-20T07:26:43.377Z"
   },
   {
    "duration": 12,
    "start_time": "2024-05-20T07:26:46.031Z"
   },
   {
    "duration": 185,
    "start_time": "2024-05-20T07:26:46.400Z"
   },
   {
    "duration": 17,
    "start_time": "2024-05-20T07:26:51.602Z"
   },
   {
    "duration": 14,
    "start_time": "2024-05-20T07:26:58.723Z"
   },
   {
    "duration": 13,
    "start_time": "2024-05-20T07:27:01.014Z"
   },
   {
    "duration": 12,
    "start_time": "2024-05-20T07:27:01.645Z"
   },
   {
    "duration": 27,
    "start_time": "2024-05-20T07:27:07.855Z"
   },
   {
    "duration": 23,
    "start_time": "2024-05-20T07:27:09.304Z"
   },
   {
    "duration": 257,
    "start_time": "2024-05-20T07:27:14.087Z"
   },
   {
    "duration": 248,
    "start_time": "2024-05-20T07:37:12.584Z"
   },
   {
    "duration": 8,
    "start_time": "2024-05-20T07:50:30.738Z"
   },
   {
    "duration": 73,
    "start_time": "2024-05-20T07:51:23.734Z"
   },
   {
    "duration": 8,
    "start_time": "2024-05-20T07:51:31.773Z"
   },
   {
    "duration": 425,
    "start_time": "2024-05-21T13:30:27.792Z"
   },
   {
    "duration": 307,
    "start_time": "2024-05-21T13:30:28.260Z"
   },
   {
    "duration": 13,
    "start_time": "2024-05-21T13:30:30.513Z"
   },
   {
    "duration": 11,
    "start_time": "2024-05-21T13:30:33.165Z"
   },
   {
    "duration": 450,
    "start_time": "2024-05-21T13:30:33.705Z"
   },
   {
    "duration": 233,
    "start_time": "2024-05-21T13:30:34.157Z"
   },
   {
    "duration": 6,
    "start_time": "2024-05-21T13:30:34.563Z"
   },
   {
    "duration": 13,
    "start_time": "2024-05-21T13:30:36.503Z"
   },
   {
    "duration": 403,
    "start_time": "2024-05-21T13:30:37.925Z"
   },
   {
    "duration": 10,
    "start_time": "2024-05-21T13:30:38.331Z"
   },
   {
    "duration": 11,
    "start_time": "2024-05-21T13:30:40.159Z"
   },
   {
    "duration": 8,
    "start_time": "2024-05-21T13:30:41.409Z"
   },
   {
    "duration": 7,
    "start_time": "2024-05-21T13:30:45.447Z"
   },
   {
    "duration": 7,
    "start_time": "2024-05-21T13:30:46.845Z"
   },
   {
    "duration": 2,
    "start_time": "2024-05-21T13:30:48.680Z"
   },
   {
    "duration": 5,
    "start_time": "2024-05-21T13:30:49.126Z"
   },
   {
    "duration": 4,
    "start_time": "2024-05-21T13:30:49.564Z"
   },
   {
    "duration": 8,
    "start_time": "2024-05-21T13:30:50.059Z"
   },
   {
    "duration": 76,
    "start_time": "2024-05-21T13:30:51.955Z"
   },
   {
    "duration": 5,
    "start_time": "2024-05-21T13:30:53.805Z"
   },
   {
    "duration": 9,
    "start_time": "2024-05-21T13:30:54.349Z"
   },
   {
    "duration": 190,
    "start_time": "2024-05-21T13:30:57.788Z"
   },
   {
    "duration": 14,
    "start_time": "2024-05-21T13:31:00.937Z"
   },
   {
    "duration": 142,
    "start_time": "2024-05-21T13:31:01.300Z"
   },
   {
    "duration": 8,
    "start_time": "2024-05-21T13:31:04.856Z"
   },
   {
    "duration": 322,
    "start_time": "2024-05-21T13:31:06.128Z"
   },
   {
    "duration": 8,
    "start_time": "2024-05-21T13:31:08.508Z"
   },
   {
    "duration": 236,
    "start_time": "2024-05-21T13:31:10.136Z"
   },
   {
    "duration": 8,
    "start_time": "2024-05-21T13:31:12.968Z"
   },
   {
    "duration": 205,
    "start_time": "2024-05-21T13:31:13.430Z"
   },
   {
    "duration": 18,
    "start_time": "2024-05-21T13:31:21.224Z"
   },
   {
    "duration": 13,
    "start_time": "2024-05-21T13:31:21.777Z"
   },
   {
    "duration": 11,
    "start_time": "2024-05-21T13:31:23.263Z"
   },
   {
    "duration": 12,
    "start_time": "2024-05-21T13:31:23.679Z"
   },
   {
    "duration": 26,
    "start_time": "2024-05-21T13:31:29.905Z"
   },
   {
    "duration": 23,
    "start_time": "2024-05-21T13:31:31.767Z"
   },
   {
    "duration": 250,
    "start_time": "2024-05-21T13:31:36.245Z"
   },
   {
    "duration": 24,
    "start_time": "2024-05-21T13:34:02.090Z"
   },
   {
    "duration": 247,
    "start_time": "2024-05-21T13:34:05.398Z"
   },
   {
    "duration": 8,
    "start_time": "2024-05-21T13:34:08.412Z"
   },
   {
    "duration": 9,
    "start_time": "2024-05-21T13:34:10.264Z"
   },
   {
    "duration": 332,
    "start_time": "2024-05-21T13:34:12.851Z"
   },
   {
    "duration": 9,
    "start_time": "2024-05-21T13:35:14.397Z"
   },
   {
    "duration": 8,
    "start_time": "2024-05-21T13:35:16.838Z"
   },
   {
    "duration": 348,
    "start_time": "2024-05-21T13:43:10.056Z"
   },
   {
    "duration": 266,
    "start_time": "2024-05-21T13:43:19.936Z"
   },
   {
    "duration": 297,
    "start_time": "2024-05-21T13:43:58.349Z"
   },
   {
    "duration": 285,
    "start_time": "2024-05-21T13:44:14.487Z"
   },
   {
    "duration": 376,
    "start_time": "2024-05-21T13:44:25.874Z"
   },
   {
    "duration": 276,
    "start_time": "2024-05-21T13:45:37.896Z"
   },
   {
    "duration": 236,
    "start_time": "2024-05-21T13:49:09.067Z"
   },
   {
    "duration": 400,
    "start_time": "2024-05-22T04:57:29.691Z"
   },
   {
    "duration": 212,
    "start_time": "2024-05-22T04:57:30.096Z"
   },
   {
    "duration": 12,
    "start_time": "2024-05-22T04:57:32.198Z"
   },
   {
    "duration": 15,
    "start_time": "2024-05-22T04:57:33.083Z"
   },
   {
    "duration": 624,
    "start_time": "2024-05-22T04:57:33.500Z"
   },
   {
    "duration": 254,
    "start_time": "2024-05-22T04:57:34.126Z"
   },
   {
    "duration": 8,
    "start_time": "2024-05-22T04:57:34.387Z"
   },
   {
    "duration": 31,
    "start_time": "2024-05-22T04:57:35.564Z"
   },
   {
    "duration": 376,
    "start_time": "2024-05-22T04:57:36.069Z"
   },
   {
    "duration": 17,
    "start_time": "2024-05-22T04:57:36.572Z"
   },
   {
    "duration": 11,
    "start_time": "2024-05-22T04:57:37.635Z"
   },
   {
    "duration": 12,
    "start_time": "2024-05-22T04:57:38.187Z"
   },
   {
    "duration": 5,
    "start_time": "2024-05-22T04:57:40.521Z"
   },
   {
    "duration": 6,
    "start_time": "2024-05-22T04:57:40.994Z"
   },
   {
    "duration": 3,
    "start_time": "2024-05-22T04:57:41.937Z"
   },
   {
    "duration": 6,
    "start_time": "2024-05-22T04:57:42.386Z"
   },
   {
    "duration": 4,
    "start_time": "2024-05-22T04:57:42.905Z"
   },
   {
    "duration": 6,
    "start_time": "2024-05-22T04:57:43.411Z"
   },
   {
    "duration": 76,
    "start_time": "2024-05-22T04:57:44.423Z"
   },
   {
    "duration": 8,
    "start_time": "2024-05-22T04:57:45.274Z"
   },
   {
    "duration": 10,
    "start_time": "2024-05-22T04:57:45.733Z"
   },
   {
    "duration": 180,
    "start_time": "2024-05-22T04:57:47.589Z"
   },
   {
    "duration": 20,
    "start_time": "2024-05-22T04:57:49.079Z"
   },
   {
    "duration": 124,
    "start_time": "2024-05-22T04:57:49.509Z"
   },
   {
    "duration": 10,
    "start_time": "2024-05-22T04:57:50.961Z"
   },
   {
    "duration": 328,
    "start_time": "2024-05-22T04:57:51.446Z"
   },
   {
    "duration": 8,
    "start_time": "2024-05-22T04:57:52.988Z"
   },
   {
    "duration": 286,
    "start_time": "2024-05-22T04:57:53.522Z"
   },
   {
    "duration": 23,
    "start_time": "2024-05-22T04:57:55.465Z"
   },
   {
    "duration": 187,
    "start_time": "2024-05-22T04:57:56.018Z"
   },
   {
    "duration": 32,
    "start_time": "2024-05-22T04:57:59.175Z"
   },
   {
    "duration": 15,
    "start_time": "2024-05-22T04:57:59.844Z"
   },
   {
    "duration": 21,
    "start_time": "2024-05-22T04:58:00.377Z"
   },
   {
    "duration": 9,
    "start_time": "2024-05-22T04:58:00.998Z"
   },
   {
    "duration": 23,
    "start_time": "2024-05-22T04:58:02.601Z"
   },
   {
    "duration": 21,
    "start_time": "2024-05-22T04:58:03.321Z"
   },
   {
    "duration": 253,
    "start_time": "2024-05-22T04:58:05.075Z"
   },
   {
    "duration": 12,
    "start_time": "2024-05-22T04:58:06.279Z"
   },
   {
    "duration": 9,
    "start_time": "2024-05-22T04:58:07.926Z"
   },
   {
    "duration": 261,
    "start_time": "2024-05-22T04:58:09.446Z"
   },
   {
    "duration": 8,
    "start_time": "2024-05-22T04:58:11.434Z"
   },
   {
    "duration": 9,
    "start_time": "2024-05-22T04:58:13.636Z"
   },
   {
    "duration": 61,
    "start_time": "2024-05-22T05:33:16.159Z"
   },
   {
    "duration": 95,
    "start_time": "2024-05-22T05:33:49.657Z"
   },
   {
    "duration": 26,
    "start_time": "2024-05-22T05:34:13.535Z"
   },
   {
    "duration": 45,
    "start_time": "2024-05-22T05:34:34.141Z"
   },
   {
    "duration": 34,
    "start_time": "2024-05-22T05:43:36.621Z"
   },
   {
    "duration": 31,
    "start_time": "2024-05-22T05:46:18.532Z"
   },
   {
    "duration": 41,
    "start_time": "2024-05-22T05:47:20.388Z"
   },
   {
    "duration": 67,
    "start_time": "2024-05-22T05:48:01.156Z"
   },
   {
    "duration": 15,
    "start_time": "2024-05-22T07:04:34.005Z"
   },
   {
    "duration": 15,
    "start_time": "2024-05-22T07:04:45.422Z"
   },
   {
    "duration": 15,
    "start_time": "2024-05-22T07:05:56.285Z"
   },
   {
    "duration": 11,
    "start_time": "2024-05-22T07:06:16.848Z"
   },
   {
    "duration": 11,
    "start_time": "2024-05-22T07:06:52.497Z"
   },
   {
    "duration": 9,
    "start_time": "2024-05-22T07:10:00.539Z"
   },
   {
    "duration": 23,
    "start_time": "2024-05-22T07:10:22.507Z"
   },
   {
    "duration": 32,
    "start_time": "2024-05-22T07:10:55.789Z"
   },
   {
    "duration": 47,
    "start_time": "2024-05-22T07:15:10.555Z"
   },
   {
    "duration": 41,
    "start_time": "2024-05-22T07:17:14.347Z"
   },
   {
    "duration": 50,
    "start_time": "2024-05-22T07:17:20.144Z"
   },
   {
    "duration": 57,
    "start_time": "2024-05-22T07:20:24.872Z"
   },
   {
    "duration": 62,
    "start_time": "2024-05-22T07:26:49.891Z"
   },
   {
    "duration": 89,
    "start_time": "2024-05-22T07:27:09.673Z"
   },
   {
    "duration": 21,
    "start_time": "2024-05-22T07:27:21.568Z"
   },
   {
    "duration": 26,
    "start_time": "2024-05-22T07:27:30.679Z"
   },
   {
    "duration": 928,
    "start_time": "2024-05-22T07:29:50.026Z"
   },
   {
    "duration": 917,
    "start_time": "2024-05-22T07:30:56.155Z"
   },
   {
    "duration": 56,
    "start_time": "2024-05-22T07:36:24.390Z"
   },
   {
    "duration": 60,
    "start_time": "2024-05-22T07:36:38.014Z"
   },
   {
    "duration": 67,
    "start_time": "2024-05-22T07:37:17.142Z"
   },
   {
    "duration": 75,
    "start_time": "2024-05-22T07:37:48.742Z"
   },
   {
    "duration": 325,
    "start_time": "2024-05-22T07:38:42.360Z"
   },
   {
    "duration": 61,
    "start_time": "2024-05-22T07:39:50.745Z"
   },
   {
    "duration": 65,
    "start_time": "2024-05-22T07:43:39.014Z"
   },
   {
    "duration": 49,
    "start_time": "2024-05-22T07:43:57.185Z"
   },
   {
    "duration": 73,
    "start_time": "2024-05-22T07:44:12.341Z"
   },
   {
    "duration": 60,
    "start_time": "2024-05-22T07:44:26.438Z"
   },
   {
    "duration": 285,
    "start_time": "2024-05-22T07:44:45.701Z"
   },
   {
    "duration": 60,
    "start_time": "2024-05-22T07:45:22.330Z"
   },
   {
    "duration": 58,
    "start_time": "2024-05-22T07:50:24.522Z"
   },
   {
    "duration": 60,
    "start_time": "2024-05-22T07:50:40.968Z"
   },
   {
    "duration": 300,
    "start_time": "2024-05-22T08:00:06.217Z"
   },
   {
    "duration": 67,
    "start_time": "2024-05-22T08:00:48.819Z"
   },
   {
    "duration": 435,
    "start_time": "2024-05-22T08:01:03.485Z"
   },
   {
    "duration": 57,
    "start_time": "2024-05-22T08:02:08.640Z"
   },
   {
    "duration": 29,
    "start_time": "2024-05-22T08:10:20.525Z"
   },
   {
    "duration": 24,
    "start_time": "2024-05-22T08:11:12.600Z"
   },
   {
    "duration": 28,
    "start_time": "2024-05-22T08:13:37.785Z"
   },
   {
    "duration": 56,
    "start_time": "2024-05-22T08:14:09.914Z"
   },
   {
    "duration": 462,
    "start_time": "2024-05-22T12:45:58.087Z"
   },
   {
    "duration": 214,
    "start_time": "2024-05-22T12:45:59.012Z"
   },
   {
    "duration": 15,
    "start_time": "2024-05-22T12:46:01.750Z"
   },
   {
    "duration": 18,
    "start_time": "2024-05-22T12:46:04.052Z"
   },
   {
    "duration": 425,
    "start_time": "2024-05-22T12:46:04.997Z"
   },
   {
    "duration": 217,
    "start_time": "2024-05-22T12:46:06.634Z"
   },
   {
    "duration": 6,
    "start_time": "2024-05-22T12:46:07.280Z"
   },
   {
    "duration": 12,
    "start_time": "2024-05-22T12:46:09.188Z"
   },
   {
    "duration": 405,
    "start_time": "2024-05-22T12:46:09.593Z"
   },
   {
    "duration": 9,
    "start_time": "2024-05-22T12:46:11.108Z"
   },
   {
    "duration": 10,
    "start_time": "2024-05-22T12:46:12.040Z"
   },
   {
    "duration": 11,
    "start_time": "2024-05-22T12:46:13.763Z"
   },
   {
    "duration": 5,
    "start_time": "2024-05-22T12:46:17.137Z"
   },
   {
    "duration": 7,
    "start_time": "2024-05-22T12:46:17.589Z"
   },
   {
    "duration": 3,
    "start_time": "2024-05-22T12:46:19.596Z"
   },
   {
    "duration": 9,
    "start_time": "2024-05-22T12:46:19.970Z"
   },
   {
    "duration": 4,
    "start_time": "2024-05-22T12:46:20.323Z"
   },
   {
    "duration": 7,
    "start_time": "2024-05-22T12:46:20.709Z"
   },
   {
    "duration": 82,
    "start_time": "2024-05-22T12:46:22.406Z"
   },
   {
    "duration": 4,
    "start_time": "2024-05-22T12:46:25.104Z"
   },
   {
    "duration": 8,
    "start_time": "2024-05-22T12:46:25.407Z"
   },
   {
    "duration": 183,
    "start_time": "2024-05-22T12:46:28.176Z"
   },
   {
    "duration": 14,
    "start_time": "2024-05-22T12:46:30.420Z"
   },
   {
    "duration": 127,
    "start_time": "2024-05-22T12:46:31.982Z"
   },
   {
    "duration": 10,
    "start_time": "2024-05-22T12:46:34.171Z"
   },
   {
    "duration": 297,
    "start_time": "2024-05-22T12:46:34.453Z"
   },
   {
    "duration": 12,
    "start_time": "2024-05-22T12:46:38.068Z"
   },
   {
    "duration": 216,
    "start_time": "2024-05-22T12:46:38.387Z"
   },
   {
    "duration": 8,
    "start_time": "2024-05-22T12:46:40.976Z"
   },
   {
    "duration": 216,
    "start_time": "2024-05-22T12:46:42.643Z"
   },
   {
    "duration": 20,
    "start_time": "2024-05-22T12:46:49.071Z"
   },
   {
    "duration": 14,
    "start_time": "2024-05-22T12:46:50.825Z"
   },
   {
    "duration": 16,
    "start_time": "2024-05-22T12:46:55.442Z"
   },
   {
    "duration": 9,
    "start_time": "2024-05-22T12:46:56.509Z"
   },
   {
    "duration": 38,
    "start_time": "2024-05-22T12:46:59.624Z"
   },
   {
    "duration": 30,
    "start_time": "2024-05-22T12:47:02.299Z"
   },
   {
    "duration": 255,
    "start_time": "2024-05-22T12:47:06.450Z"
   },
   {
    "duration": 8,
    "start_time": "2024-05-22T12:47:07.954Z"
   },
   {
    "duration": 9,
    "start_time": "2024-05-22T12:47:08.588Z"
   },
   {
    "duration": 221,
    "start_time": "2024-05-22T12:47:13.296Z"
   },
   {
    "duration": 11,
    "start_time": "2024-05-22T12:47:13.788Z"
   },
   {
    "duration": 8,
    "start_time": "2024-05-22T12:47:16.424Z"
   },
   {
    "duration": 28,
    "start_time": "2024-05-22T12:47:41.148Z"
   },
   {
    "duration": 74,
    "start_time": "2024-05-22T12:51:37.342Z"
   },
   {
    "duration": 112,
    "start_time": "2024-05-22T12:54:52.154Z"
   },
   {
    "duration": 53,
    "start_time": "2024-05-22T12:54:59.675Z"
   },
   {
    "duration": 51,
    "start_time": "2024-05-22T12:56:34.279Z"
   },
   {
    "duration": 439,
    "start_time": "2024-05-22T12:57:37.244Z"
   },
   {
    "duration": 73,
    "start_time": "2024-05-22T12:57:37.685Z"
   },
   {
    "duration": 11,
    "start_time": "2024-05-22T12:57:38.485Z"
   },
   {
    "duration": 11,
    "start_time": "2024-05-22T12:57:39.886Z"
   },
   {
    "duration": 234,
    "start_time": "2024-05-22T12:57:40.293Z"
   },
   {
    "duration": 241,
    "start_time": "2024-05-22T12:57:40.701Z"
   },
   {
    "duration": 6,
    "start_time": "2024-05-22T12:57:41.148Z"
   },
   {
    "duration": 12,
    "start_time": "2024-05-22T12:57:42.036Z"
   },
   {
    "duration": 416,
    "start_time": "2024-05-22T12:57:42.602Z"
   },
   {
    "duration": 8,
    "start_time": "2024-05-22T12:57:43.020Z"
   },
   {
    "duration": 10,
    "start_time": "2024-05-22T12:57:44.942Z"
   },
   {
    "duration": 15,
    "start_time": "2024-05-22T12:57:45.265Z"
   },
   {
    "duration": 11,
    "start_time": "2024-05-22T12:57:47.566Z"
   },
   {
    "duration": 6,
    "start_time": "2024-05-22T12:57:48.228Z"
   },
   {
    "duration": 6,
    "start_time": "2024-05-22T12:57:50.471Z"
   },
   {
    "duration": 4,
    "start_time": "2024-05-22T12:57:50.819Z"
   },
   {
    "duration": 4,
    "start_time": "2024-05-22T12:57:51.188Z"
   },
   {
    "duration": 10,
    "start_time": "2024-05-22T12:57:51.575Z"
   },
   {
    "duration": 16,
    "start_time": "2024-05-22T12:57:53.645Z"
   },
   {
    "duration": 5,
    "start_time": "2024-05-22T12:57:54.297Z"
   },
   {
    "duration": 8,
    "start_time": "2024-05-22T12:57:54.627Z"
   },
   {
    "duration": 178,
    "start_time": "2024-05-22T12:57:57.283Z"
   },
   {
    "duration": 12,
    "start_time": "2024-05-22T12:57:59.615Z"
   },
   {
    "duration": 196,
    "start_time": "2024-05-22T12:57:59.854Z"
   },
   {
    "duration": 15,
    "start_time": "2024-05-22T12:58:01.771Z"
   },
   {
    "duration": 294,
    "start_time": "2024-05-22T12:58:02.235Z"
   },
   {
    "duration": 8,
    "start_time": "2024-05-22T12:58:05.697Z"
   },
   {
    "duration": 212,
    "start_time": "2024-05-22T12:58:05.993Z"
   },
   {
    "duration": 8,
    "start_time": "2024-05-22T12:58:08.030Z"
   },
   {
    "duration": 197,
    "start_time": "2024-05-22T12:58:09.586Z"
   },
   {
    "duration": 17,
    "start_time": "2024-05-22T12:58:13.331Z"
   },
   {
    "duration": 16,
    "start_time": "2024-05-22T12:58:14.803Z"
   },
   {
    "duration": 10,
    "start_time": "2024-05-22T12:58:15.201Z"
   },
   {
    "duration": 15,
    "start_time": "2024-05-22T12:58:16.761Z"
   },
   {
    "duration": 23,
    "start_time": "2024-05-22T12:58:19.279Z"
   },
   {
    "duration": 25,
    "start_time": "2024-05-22T12:58:21.163Z"
   },
   {
    "duration": 287,
    "start_time": "2024-05-22T12:58:23.746Z"
   },
   {
    "duration": 18,
    "start_time": "2024-05-22T12:58:25.256Z"
   },
   {
    "duration": 9,
    "start_time": "2024-05-22T12:58:25.642Z"
   },
   {
    "duration": 226,
    "start_time": "2024-05-22T12:58:27.842Z"
   },
   {
    "duration": 8,
    "start_time": "2024-05-22T12:58:30.063Z"
   },
   {
    "duration": 8,
    "start_time": "2024-05-22T12:58:31.590Z"
   },
   {
    "duration": 27,
    "start_time": "2024-05-22T12:58:37.218Z"
   },
   {
    "duration": 50,
    "start_time": "2024-05-22T12:58:41.680Z"
   },
   {
    "duration": 56,
    "start_time": "2024-05-22T13:00:04.624Z"
   },
   {
    "duration": 104,
    "start_time": "2024-05-22T13:00:13.405Z"
   },
   {
    "duration": 47,
    "start_time": "2024-05-22T13:00:37.859Z"
   },
   {
    "duration": 374,
    "start_time": "2024-05-22T13:02:15.426Z"
   },
   {
    "duration": 69,
    "start_time": "2024-05-22T13:02:15.802Z"
   },
   {
    "duration": 12,
    "start_time": "2024-05-22T13:02:16.631Z"
   },
   {
    "duration": 10,
    "start_time": "2024-05-22T13:02:17.383Z"
   },
   {
    "duration": 230,
    "start_time": "2024-05-22T13:02:17.762Z"
   },
   {
    "duration": 209,
    "start_time": "2024-05-22T13:02:18.132Z"
   },
   {
    "duration": 5,
    "start_time": "2024-05-22T13:02:18.425Z"
   },
   {
    "duration": 11,
    "start_time": "2024-05-22T13:02:19.123Z"
   },
   {
    "duration": 374,
    "start_time": "2024-05-22T13:02:19.432Z"
   },
   {
    "duration": 8,
    "start_time": "2024-05-22T13:02:19.808Z"
   },
   {
    "duration": 10,
    "start_time": "2024-05-22T13:02:20.442Z"
   },
   {
    "duration": 8,
    "start_time": "2024-05-22T13:02:20.743Z"
   },
   {
    "duration": 5,
    "start_time": "2024-05-22T13:02:22.368Z"
   },
   {
    "duration": 6,
    "start_time": "2024-05-22T13:02:22.663Z"
   },
   {
    "duration": 2,
    "start_time": "2024-05-22T13:02:23.300Z"
   },
   {
    "duration": 4,
    "start_time": "2024-05-22T13:02:23.612Z"
   },
   {
    "duration": 4,
    "start_time": "2024-05-22T13:02:23.898Z"
   },
   {
    "duration": 7,
    "start_time": "2024-05-22T13:02:24.222Z"
   },
   {
    "duration": 13,
    "start_time": "2024-05-22T13:02:24.929Z"
   },
   {
    "duration": 5,
    "start_time": "2024-05-22T13:02:25.464Z"
   },
   {
    "duration": 8,
    "start_time": "2024-05-22T13:02:25.747Z"
   },
   {
    "duration": 174,
    "start_time": "2024-05-22T13:02:27.201Z"
   },
   {
    "duration": 12,
    "start_time": "2024-05-22T13:02:28.675Z"
   },
   {
    "duration": 170,
    "start_time": "2024-05-22T13:02:28.937Z"
   },
   {
    "duration": 8,
    "start_time": "2024-05-22T13:02:29.779Z"
   },
   {
    "duration": 266,
    "start_time": "2024-05-22T13:02:30.035Z"
   },
   {
    "duration": 9,
    "start_time": "2024-05-22T13:02:30.896Z"
   },
   {
    "duration": 199,
    "start_time": "2024-05-22T13:02:31.171Z"
   },
   {
    "duration": 8,
    "start_time": "2024-05-22T13:02:32.139Z"
   },
   {
    "duration": 167,
    "start_time": "2024-05-22T13:02:32.421Z"
   },
   {
    "duration": 18,
    "start_time": "2024-05-22T13:02:34.708Z"
   },
   {
    "duration": 13,
    "start_time": "2024-05-22T13:02:35.043Z"
   },
   {
    "duration": 15,
    "start_time": "2024-05-22T13:02:35.799Z"
   },
   {
    "duration": 8,
    "start_time": "2024-05-22T13:02:36.080Z"
   },
   {
    "duration": 21,
    "start_time": "2024-05-22T13:02:37.861Z"
   },
   {
    "duration": 24,
    "start_time": "2024-05-22T13:02:38.502Z"
   },
   {
    "duration": 227,
    "start_time": "2024-05-22T13:02:41.593Z"
   },
   {
    "duration": 8,
    "start_time": "2024-05-22T13:02:41.849Z"
   },
   {
    "duration": 7,
    "start_time": "2024-05-22T13:02:42.199Z"
   },
   {
    "duration": 214,
    "start_time": "2024-05-22T13:02:42.907Z"
   },
   {
    "duration": 7,
    "start_time": "2024-05-22T13:02:43.402Z"
   },
   {
    "duration": 9,
    "start_time": "2024-05-22T13:02:46.140Z"
   },
   {
    "duration": 22,
    "start_time": "2024-05-22T13:02:48.244Z"
   },
   {
    "duration": 49,
    "start_time": "2024-05-22T13:03:00.363Z"
   },
   {
    "duration": 5,
    "start_time": "2024-05-22T13:04:19.005Z"
   },
   {
    "duration": 122,
    "start_time": "2024-05-22T13:04:29.807Z"
   },
   {
    "duration": 55,
    "start_time": "2024-05-22T13:05:16.025Z"
   },
   {
    "duration": 45,
    "start_time": "2024-05-22T13:06:11.258Z"
   },
   {
    "duration": 49,
    "start_time": "2024-05-22T13:07:34.675Z"
   },
   {
    "duration": 46,
    "start_time": "2024-05-22T13:07:44.623Z"
   },
   {
    "duration": 45,
    "start_time": "2024-05-22T13:08:40.647Z"
   },
   {
    "duration": 47,
    "start_time": "2024-05-22T13:08:54.713Z"
   },
   {
    "duration": 75,
    "start_time": "2024-05-22T13:09:32.922Z"
   },
   {
    "duration": 47,
    "start_time": "2024-05-22T13:09:39.094Z"
   },
   {
    "duration": 256,
    "start_time": "2024-05-22T13:12:03.606Z"
   },
   {
    "duration": 45,
    "start_time": "2024-05-22T13:12:39.018Z"
   },
   {
    "duration": 13,
    "start_time": "2024-05-22T13:21:56.820Z"
   },
   {
    "duration": 13,
    "start_time": "2024-05-22T13:24:20.627Z"
   },
   {
    "duration": 13,
    "start_time": "2024-05-22T13:24:47.299Z"
   },
   {
    "duration": 11,
    "start_time": "2024-05-22T13:26:57.352Z"
   },
   {
    "duration": 10,
    "start_time": "2024-05-22T13:28:12.234Z"
   },
   {
    "duration": 11,
    "start_time": "2024-05-22T13:29:04.127Z"
   },
   {
    "duration": 58,
    "start_time": "2024-05-22T13:29:24.512Z"
   },
   {
    "duration": 14,
    "start_time": "2024-05-22T13:29:49.761Z"
   },
   {
    "duration": 13,
    "start_time": "2024-05-22T13:29:57.168Z"
   },
   {
    "duration": 12,
    "start_time": "2024-05-22T13:39:24.825Z"
   },
   {
    "duration": 430,
    "start_time": "2024-05-23T04:44:54.966Z"
   },
   {
    "duration": 289,
    "start_time": "2024-05-23T04:44:55.398Z"
   },
   {
    "duration": 13,
    "start_time": "2024-05-23T04:44:58.405Z"
   },
   {
    "duration": 12,
    "start_time": "2024-05-23T04:44:58.470Z"
   },
   {
    "duration": 399,
    "start_time": "2024-05-23T04:44:58.929Z"
   },
   {
    "duration": 240,
    "start_time": "2024-05-23T04:44:59.404Z"
   },
   {
    "duration": 7,
    "start_time": "2024-05-23T04:44:59.869Z"
   },
   {
    "duration": 15,
    "start_time": "2024-05-23T04:45:00.713Z"
   },
   {
    "duration": 384,
    "start_time": "2024-05-23T04:45:01.196Z"
   },
   {
    "duration": 9,
    "start_time": "2024-05-23T04:45:01.644Z"
   },
   {
    "duration": 11,
    "start_time": "2024-05-23T04:45:02.641Z"
   },
   {
    "duration": 8,
    "start_time": "2024-05-23T04:45:03.120Z"
   },
   {
    "duration": 7,
    "start_time": "2024-05-23T04:45:05.407Z"
   },
   {
    "duration": 7,
    "start_time": "2024-05-23T04:45:05.904Z"
   },
   {
    "duration": 3,
    "start_time": "2024-05-23T04:45:06.841Z"
   },
   {
    "duration": 4,
    "start_time": "2024-05-23T04:45:07.170Z"
   },
   {
    "duration": 4,
    "start_time": "2024-05-23T04:45:07.570Z"
   },
   {
    "duration": 8,
    "start_time": "2024-05-23T04:45:07.952Z"
   },
   {
    "duration": 16,
    "start_time": "2024-05-23T04:45:08.641Z"
   },
   {
    "duration": 6,
    "start_time": "2024-05-23T04:45:09.370Z"
   },
   {
    "duration": 10,
    "start_time": "2024-05-23T04:45:09.736Z"
   },
   {
    "duration": 188,
    "start_time": "2024-05-23T04:45:11.390Z"
   },
   {
    "duration": 13,
    "start_time": "2024-05-23T04:45:12.497Z"
   },
   {
    "duration": 182,
    "start_time": "2024-05-23T04:45:12.832Z"
   },
   {
    "duration": 8,
    "start_time": "2024-05-23T04:45:13.955Z"
   },
   {
    "duration": 302,
    "start_time": "2024-05-23T04:45:14.432Z"
   },
   {
    "duration": 9,
    "start_time": "2024-05-23T04:45:15.581Z"
   },
   {
    "duration": 210,
    "start_time": "2024-05-23T04:45:16.102Z"
   },
   {
    "duration": 9,
    "start_time": "2024-05-23T04:45:17.167Z"
   },
   {
    "duration": 177,
    "start_time": "2024-05-23T04:45:17.464Z"
   },
   {
    "duration": 18,
    "start_time": "2024-05-23T04:45:19.402Z"
   },
   {
    "duration": 22,
    "start_time": "2024-05-23T04:45:19.787Z"
   },
   {
    "duration": 11,
    "start_time": "2024-05-23T04:45:20.269Z"
   },
   {
    "duration": 9,
    "start_time": "2024-05-23T04:45:20.622Z"
   },
   {
    "duration": 23,
    "start_time": "2024-05-23T04:45:21.709Z"
   },
   {
    "duration": 21,
    "start_time": "2024-05-23T04:45:22.089Z"
   },
   {
    "duration": 233,
    "start_time": "2024-05-23T04:45:23.187Z"
   },
   {
    "duration": 8,
    "start_time": "2024-05-23T04:45:23.535Z"
   },
   {
    "duration": 8,
    "start_time": "2024-05-23T04:45:23.898Z"
   },
   {
    "duration": 210,
    "start_time": "2024-05-23T04:45:24.614Z"
   },
   {
    "duration": 8,
    "start_time": "2024-05-23T04:45:24.968Z"
   },
   {
    "duration": 9,
    "start_time": "2024-05-23T04:45:25.367Z"
   },
   {
    "duration": 22,
    "start_time": "2024-05-23T04:45:27.168Z"
   },
   {
    "duration": 53,
    "start_time": "2024-05-23T04:45:27.818Z"
   },
   {
    "duration": 13,
    "start_time": "2024-05-23T04:45:28.685Z"
   },
   {
    "duration": 4,
    "start_time": "2024-05-23T04:46:01.906Z"
   },
   {
    "duration": 434,
    "start_time": "2024-05-23T05:00:29.476Z"
   },
   {
    "duration": 59,
    "start_time": "2024-05-23T05:01:03.528Z"
   },
   {
    "duration": 60,
    "start_time": "2024-05-23T05:04:53.623Z"
   },
   {
    "duration": 52,
    "start_time": "2024-05-23T05:05:53.511Z"
   },
   {
    "duration": 426,
    "start_time": "2024-05-23T05:06:34.752Z"
   },
   {
    "duration": 67,
    "start_time": "2024-05-23T05:06:35.180Z"
   },
   {
    "duration": 13,
    "start_time": "2024-05-23T05:06:36.004Z"
   },
   {
    "duration": 11,
    "start_time": "2024-05-23T05:06:36.772Z"
   },
   {
    "duration": 262,
    "start_time": "2024-05-23T05:06:37.304Z"
   },
   {
    "duration": 225,
    "start_time": "2024-05-23T05:06:37.860Z"
   },
   {
    "duration": 6,
    "start_time": "2024-05-23T05:06:38.103Z"
   },
   {
    "duration": 11,
    "start_time": "2024-05-23T05:06:38.973Z"
   },
   {
    "duration": 364,
    "start_time": "2024-05-23T05:06:39.194Z"
   },
   {
    "duration": 10,
    "start_time": "2024-05-23T05:06:39.982Z"
   },
   {
    "duration": 11,
    "start_time": "2024-05-23T05:06:40.250Z"
   },
   {
    "duration": 9,
    "start_time": "2024-05-23T05:06:40.578Z"
   },
   {
    "duration": 6,
    "start_time": "2024-05-23T05:06:42.191Z"
   },
   {
    "duration": 8,
    "start_time": "2024-05-23T05:06:42.506Z"
   },
   {
    "duration": 3,
    "start_time": "2024-05-23T05:06:43.114Z"
   },
   {
    "duration": 5,
    "start_time": "2024-05-23T05:06:43.430Z"
   },
   {
    "duration": 4,
    "start_time": "2024-05-23T05:06:43.700Z"
   },
   {
    "duration": 8,
    "start_time": "2024-05-23T05:06:44.000Z"
   },
   {
    "duration": 19,
    "start_time": "2024-05-23T05:06:44.852Z"
   },
   {
    "duration": 6,
    "start_time": "2024-05-23T05:06:45.515Z"
   },
   {
    "duration": 11,
    "start_time": "2024-05-23T05:06:45.808Z"
   },
   {
    "duration": 189,
    "start_time": "2024-05-23T05:06:47.013Z"
   },
   {
    "duration": 13,
    "start_time": "2024-05-23T05:06:48.080Z"
   },
   {
    "duration": 179,
    "start_time": "2024-05-23T05:06:48.420Z"
   },
   {
    "duration": 9,
    "start_time": "2024-05-23T05:06:49.348Z"
   },
   {
    "duration": 312,
    "start_time": "2024-05-23T05:06:49.648Z"
   },
   {
    "duration": 12,
    "start_time": "2024-05-23T05:06:50.547Z"
   },
   {
    "duration": 209,
    "start_time": "2024-05-23T05:06:50.843Z"
   },
   {
    "duration": 11,
    "start_time": "2024-05-23T05:06:51.859Z"
   },
   {
    "duration": 180,
    "start_time": "2024-05-23T05:06:52.232Z"
   },
   {
    "duration": 17,
    "start_time": "2024-05-23T05:06:53.944Z"
   },
   {
    "duration": 14,
    "start_time": "2024-05-23T05:06:54.265Z"
   },
   {
    "duration": 11,
    "start_time": "2024-05-23T05:06:54.588Z"
   },
   {
    "duration": 9,
    "start_time": "2024-05-23T05:06:55.108Z"
   },
   {
    "duration": 33,
    "start_time": "2024-05-23T05:06:57.320Z"
   },
   {
    "duration": 24,
    "start_time": "2024-05-23T05:06:57.558Z"
   },
   {
    "duration": 255,
    "start_time": "2024-05-23T05:06:58.540Z"
   },
   {
    "duration": 8,
    "start_time": "2024-05-23T05:06:59.036Z"
   },
   {
    "duration": 8,
    "start_time": "2024-05-23T05:06:59.282Z"
   },
   {
    "duration": 248,
    "start_time": "2024-05-23T05:07:00.069Z"
   },
   {
    "duration": 7,
    "start_time": "2024-05-23T05:07:00.319Z"
   },
   {
    "duration": 7,
    "start_time": "2024-05-23T05:07:00.692Z"
   },
   {
    "duration": 40,
    "start_time": "2024-05-23T05:07:02.478Z"
   },
   {
    "duration": 50,
    "start_time": "2024-05-23T05:07:04.011Z"
   },
   {
    "duration": 13,
    "start_time": "2024-05-23T05:07:12.852Z"
   },
   {
    "duration": 5,
    "start_time": "2024-05-23T05:07:15.540Z"
   },
   {
    "duration": 4,
    "start_time": "2024-05-23T05:07:23.143Z"
   },
   {
    "duration": 392,
    "start_time": "2024-05-23T05:11:09.748Z"
   },
   {
    "duration": 277,
    "start_time": "2024-05-23T05:11:41.793Z"
   },
   {
    "duration": 47,
    "start_time": "2024-05-23T05:11:56.147Z"
   },
   {
    "duration": 270,
    "start_time": "2024-05-23T05:13:50.313Z"
   },
   {
    "duration": 45,
    "start_time": "2024-05-23T05:14:27.629Z"
   },
   {
    "duration": 45,
    "start_time": "2024-05-23T05:15:37.009Z"
   },
   {
    "duration": 979,
    "start_time": "2024-05-23T05:16:04.320Z"
   },
   {
    "duration": 1077,
    "start_time": "2024-05-23T05:16:42.597Z"
   },
   {
    "duration": 385,
    "start_time": "2024-05-23T05:16:58.796Z"
   },
   {
    "duration": 67,
    "start_time": "2024-05-23T05:16:59.219Z"
   },
   {
    "duration": 11,
    "start_time": "2024-05-23T05:17:00.344Z"
   },
   {
    "duration": 12,
    "start_time": "2024-05-23T05:17:01.295Z"
   },
   {
    "duration": 239,
    "start_time": "2024-05-23T05:17:01.780Z"
   },
   {
    "duration": 226,
    "start_time": "2024-05-23T05:17:02.272Z"
   },
   {
    "duration": 6,
    "start_time": "2024-05-23T05:17:02.757Z"
   },
   {
    "duration": 12,
    "start_time": "2024-05-23T05:17:03.651Z"
   },
   {
    "duration": 383,
    "start_time": "2024-05-23T05:17:04.080Z"
   },
   {
    "duration": 8,
    "start_time": "2024-05-23T05:17:04.479Z"
   },
   {
    "duration": 10,
    "start_time": "2024-05-23T05:17:05.355Z"
   },
   {
    "duration": 9,
    "start_time": "2024-05-23T05:17:05.825Z"
   },
   {
    "duration": 7,
    "start_time": "2024-05-23T05:17:08.156Z"
   },
   {
    "duration": 9,
    "start_time": "2024-05-23T05:17:08.620Z"
   },
   {
    "duration": 3,
    "start_time": "2024-05-23T05:17:09.433Z"
   },
   {
    "duration": 4,
    "start_time": "2024-05-23T05:17:09.853Z"
   },
   {
    "duration": 5,
    "start_time": "2024-05-23T05:17:10.280Z"
   },
   {
    "duration": 8,
    "start_time": "2024-05-23T05:17:10.666Z"
   },
   {
    "duration": 15,
    "start_time": "2024-05-23T05:17:11.405Z"
   },
   {
    "duration": 5,
    "start_time": "2024-05-23T05:17:12.063Z"
   },
   {
    "duration": 8,
    "start_time": "2024-05-23T05:17:12.354Z"
   },
   {
    "duration": 190,
    "start_time": "2024-05-23T05:17:13.813Z"
   },
   {
    "duration": 12,
    "start_time": "2024-05-23T05:17:14.824Z"
   },
   {
    "duration": 182,
    "start_time": "2024-05-23T05:17:15.120Z"
   },
   {
    "duration": 7,
    "start_time": "2024-05-23T05:17:16.053Z"
   },
   {
    "duration": 296,
    "start_time": "2024-05-23T05:17:16.325Z"
   },
   {
    "duration": 9,
    "start_time": "2024-05-23T05:17:17.174Z"
   },
   {
    "duration": 223,
    "start_time": "2024-05-23T05:17:17.514Z"
   },
   {
    "duration": 9,
    "start_time": "2024-05-23T05:17:18.424Z"
   },
   {
    "duration": 177,
    "start_time": "2024-05-23T05:17:18.728Z"
   },
   {
    "duration": 17,
    "start_time": "2024-05-23T05:17:20.422Z"
   },
   {
    "duration": 13,
    "start_time": "2024-05-23T05:17:20.928Z"
   },
   {
    "duration": 11,
    "start_time": "2024-05-23T05:17:21.262Z"
   },
   {
    "duration": 9,
    "start_time": "2024-05-23T05:17:21.754Z"
   },
   {
    "duration": 24,
    "start_time": "2024-05-23T05:17:23.199Z"
   },
   {
    "duration": 20,
    "start_time": "2024-05-23T05:17:23.597Z"
   },
   {
    "duration": 241,
    "start_time": "2024-05-23T05:17:24.514Z"
   },
   {
    "duration": 9,
    "start_time": "2024-05-23T05:17:24.901Z"
   },
   {
    "duration": 7,
    "start_time": "2024-05-23T05:17:25.276Z"
   },
   {
    "duration": 255,
    "start_time": "2024-05-23T05:17:26.023Z"
   },
   {
    "duration": 8,
    "start_time": "2024-05-23T05:17:26.331Z"
   },
   {
    "duration": 8,
    "start_time": "2024-05-23T05:17:26.749Z"
   },
   {
    "duration": 25,
    "start_time": "2024-05-23T05:17:28.577Z"
   },
   {
    "duration": 46,
    "start_time": "2024-05-23T05:17:29.348Z"
   },
   {
    "duration": 14,
    "start_time": "2024-05-23T05:17:30.462Z"
   },
   {
    "duration": 6,
    "start_time": "2024-05-23T05:17:30.923Z"
   },
   {
    "duration": 4,
    "start_time": "2024-05-23T05:20:53.084Z"
   },
   {
    "duration": 501,
    "start_time": "2024-05-23T05:53:00.659Z"
   },
   {
    "duration": 5,
    "start_time": "2024-05-23T06:14:52.341Z"
   },
   {
    "duration": 5,
    "start_time": "2024-05-23T06:15:14.560Z"
   },
   {
    "duration": 5,
    "start_time": "2024-05-23T06:15:18.846Z"
   },
   {
    "duration": 59,
    "start_time": "2024-05-23T07:10:13.951Z"
   },
   {
    "duration": 8,
    "start_time": "2024-05-23T07:10:24.260Z"
   },
   {
    "duration": 4,
    "start_time": "2024-05-23T07:45:54.790Z"
   },
   {
    "duration": 12,
    "start_time": "2024-05-23T07:46:09.934Z"
   },
   {
    "duration": 6,
    "start_time": "2024-05-23T07:50:06.240Z"
   },
   {
    "duration": 375,
    "start_time": "2024-05-23T07:59:52.722Z"
   },
   {
    "duration": 71,
    "start_time": "2024-05-23T07:59:53.175Z"
   },
   {
    "duration": 12,
    "start_time": "2024-05-23T07:59:53.834Z"
   },
   {
    "duration": 12,
    "start_time": "2024-05-23T07:59:56.578Z"
   },
   {
    "duration": 237,
    "start_time": "2024-05-23T07:59:56.831Z"
   },
   {
    "duration": 224,
    "start_time": "2024-05-23T07:59:57.137Z"
   },
   {
    "duration": 6,
    "start_time": "2024-05-23T07:59:57.465Z"
   },
   {
    "duration": 13,
    "start_time": "2024-05-23T07:59:58.199Z"
   },
   {
    "duration": 367,
    "start_time": "2024-05-23T07:59:58.693Z"
   },
   {
    "duration": 13,
    "start_time": "2024-05-23T07:59:59.063Z"
   },
   {
    "duration": 12,
    "start_time": "2024-05-23T07:59:59.625Z"
   },
   {
    "duration": 8,
    "start_time": "2024-05-23T07:59:59.932Z"
   },
   {
    "duration": 6,
    "start_time": "2024-05-23T08:00:01.335Z"
   },
   {
    "duration": 8,
    "start_time": "2024-05-23T08:00:01.600Z"
   },
   {
    "duration": 3,
    "start_time": "2024-05-23T08:00:02.174Z"
   },
   {
    "duration": 4,
    "start_time": "2024-05-23T08:00:02.428Z"
   },
   {
    "duration": 5,
    "start_time": "2024-05-23T08:00:02.720Z"
   },
   {
    "duration": 8,
    "start_time": "2024-05-23T08:00:03.436Z"
   },
   {
    "duration": 16,
    "start_time": "2024-05-23T08:00:04.269Z"
   },
   {
    "duration": 5,
    "start_time": "2024-05-23T08:00:05.050Z"
   },
   {
    "duration": 8,
    "start_time": "2024-05-23T08:00:05.405Z"
   },
   {
    "duration": 189,
    "start_time": "2024-05-23T08:00:07.144Z"
   },
   {
    "duration": 14,
    "start_time": "2024-05-23T08:00:08.615Z"
   },
   {
    "duration": 190,
    "start_time": "2024-05-23T08:00:09.079Z"
   },
   {
    "duration": 8,
    "start_time": "2024-05-23T08:00:10.472Z"
   },
   {
    "duration": 318,
    "start_time": "2024-05-23T08:00:10.927Z"
   },
   {
    "duration": 9,
    "start_time": "2024-05-23T08:00:12.236Z"
   },
   {
    "duration": 221,
    "start_time": "2024-05-23T08:00:12.591Z"
   },
   {
    "duration": 9,
    "start_time": "2024-05-23T08:00:13.835Z"
   },
   {
    "duration": 189,
    "start_time": "2024-05-23T08:00:14.320Z"
   },
   {
    "duration": 18,
    "start_time": "2024-05-23T08:00:16.997Z"
   },
   {
    "duration": 14,
    "start_time": "2024-05-23T08:00:17.496Z"
   },
   {
    "duration": 11,
    "start_time": "2024-05-23T08:00:17.972Z"
   },
   {
    "duration": 9,
    "start_time": "2024-05-23T08:00:18.372Z"
   },
   {
    "duration": 23,
    "start_time": "2024-05-23T08:00:19.718Z"
   },
   {
    "duration": 26,
    "start_time": "2024-05-23T08:00:20.199Z"
   },
   {
    "duration": 260,
    "start_time": "2024-05-23T08:00:21.566Z"
   },
   {
    "duration": 11,
    "start_time": "2024-05-23T08:00:21.970Z"
   },
   {
    "duration": 8,
    "start_time": "2024-05-23T08:00:22.383Z"
   },
   {
    "duration": 231,
    "start_time": "2024-05-23T08:00:23.276Z"
   },
   {
    "duration": 9,
    "start_time": "2024-05-23T08:00:23.738Z"
   },
   {
    "duration": 7,
    "start_time": "2024-05-23T08:00:24.211Z"
   },
   {
    "duration": 23,
    "start_time": "2024-05-23T08:00:29.529Z"
   },
   {
    "duration": 47,
    "start_time": "2024-05-23T08:00:30.539Z"
   },
   {
    "duration": 14,
    "start_time": "2024-05-23T08:00:31.517Z"
   },
   {
    "duration": 11,
    "start_time": "2024-05-23T08:00:32.042Z"
   },
   {
    "duration": 6,
    "start_time": "2024-05-23T08:00:32.538Z"
   },
   {
    "duration": 4,
    "start_time": "2024-05-23T08:00:33.433Z"
   },
   {
    "duration": 459,
    "start_time": "2024-05-23T08:00:35.302Z"
   },
   {
    "duration": 5,
    "start_time": "2024-05-23T08:00:36.696Z"
   },
   {
    "duration": 6,
    "start_time": "2024-05-23T08:00:38.838Z"
   },
   {
    "duration": 417,
    "start_time": "2024-05-23T12:19:25.054Z"
   },
   {
    "duration": 289,
    "start_time": "2024-05-23T12:19:26.944Z"
   },
   {
    "duration": 12,
    "start_time": "2024-05-23T12:19:37.472Z"
   },
   {
    "duration": 10,
    "start_time": "2024-05-23T12:19:38.629Z"
   },
   {
    "duration": 427,
    "start_time": "2024-05-23T12:19:40.866Z"
   },
   {
    "duration": 228,
    "start_time": "2024-05-23T12:19:41.403Z"
   },
   {
    "duration": 6,
    "start_time": "2024-05-23T12:19:44.133Z"
   },
   {
    "duration": 14,
    "start_time": "2024-05-23T12:19:51.952Z"
   },
   {
    "duration": 375,
    "start_time": "2024-05-23T12:19:56.831Z"
   },
   {
    "duration": 9,
    "start_time": "2024-05-23T12:19:57.775Z"
   },
   {
    "duration": 15,
    "start_time": "2024-05-23T12:20:00.024Z"
   },
   {
    "duration": 11,
    "start_time": "2024-05-23T12:20:00.477Z"
   },
   {
    "duration": 10,
    "start_time": "2024-05-23T12:20:23.808Z"
   },
   {
    "duration": 7,
    "start_time": "2024-05-23T12:20:28.671Z"
   },
   {
    "duration": 8,
    "start_time": "2024-05-23T12:20:29.251Z"
   },
   {
    "duration": 3,
    "start_time": "2024-05-23T12:20:32.162Z"
   },
   {
    "duration": 5,
    "start_time": "2024-05-23T12:20:32.594Z"
   },
   {
    "duration": 5,
    "start_time": "2024-05-23T12:20:33.035Z"
   },
   {
    "duration": 8,
    "start_time": "2024-05-23T12:20:41.620Z"
   },
   {
    "duration": 24,
    "start_time": "2024-05-23T12:20:51.165Z"
   },
   {
    "duration": 6,
    "start_time": "2024-05-23T12:20:55.090Z"
   },
   {
    "duration": 10,
    "start_time": "2024-05-23T12:20:55.962Z"
   },
   {
    "duration": 191,
    "start_time": "2024-05-23T12:21:12.770Z"
   },
   {
    "duration": 16,
    "start_time": "2024-05-23T12:21:21.477Z"
   },
   {
    "duration": 209,
    "start_time": "2024-05-23T12:21:22.812Z"
   },
   {
    "duration": 9,
    "start_time": "2024-05-23T12:23:32.696Z"
   },
   {
    "duration": 311,
    "start_time": "2024-05-23T12:23:34.644Z"
   },
   {
    "duration": 9,
    "start_time": "2024-05-23T12:24:52.606Z"
   },
   {
    "duration": 207,
    "start_time": "2024-05-23T12:24:53.181Z"
   },
   {
    "duration": 9,
    "start_time": "2024-05-23T12:25:22.892Z"
   },
   {
    "duration": 184,
    "start_time": "2024-05-23T12:25:26.637Z"
   },
   {
    "duration": 21,
    "start_time": "2024-05-23T12:26:15.516Z"
   },
   {
    "duration": 15,
    "start_time": "2024-05-23T12:26:18.180Z"
   },
   {
    "duration": 11,
    "start_time": "2024-05-23T12:26:18.731Z"
   },
   {
    "duration": 17,
    "start_time": "2024-05-23T12:26:19.563Z"
   },
   {
    "duration": 25,
    "start_time": "2024-05-23T12:26:27.566Z"
   },
   {
    "duration": 24,
    "start_time": "2024-05-23T12:26:30.253Z"
   },
   {
    "duration": 261,
    "start_time": "2024-05-23T12:28:04.596Z"
   },
   {
    "duration": 12,
    "start_time": "2024-05-23T12:28:05.892Z"
   },
   {
    "duration": 7,
    "start_time": "2024-05-23T12:28:09.232Z"
   },
   {
    "duration": 248,
    "start_time": "2024-05-23T12:28:22.873Z"
   },
   {
    "duration": 9,
    "start_time": "2024-05-23T12:28:25.272Z"
   },
   {
    "duration": 8,
    "start_time": "2024-05-23T12:28:26.312Z"
   },
   {
    "duration": 25,
    "start_time": "2024-05-23T12:28:55.495Z"
   },
   {
    "duration": 49,
    "start_time": "2024-05-23T12:29:01.828Z"
   },
   {
    "duration": 14,
    "start_time": "2024-05-23T12:29:05.555Z"
   },
   {
    "duration": 10,
    "start_time": "2024-05-23T12:29:08.131Z"
   },
   {
    "duration": 8,
    "start_time": "2024-05-23T12:29:36.839Z"
   },
   {
    "duration": 4,
    "start_time": "2024-05-23T12:29:42.466Z"
   },
   {
    "duration": 569,
    "start_time": "2024-05-23T12:30:01.111Z"
   },
   {
    "duration": 6,
    "start_time": "2024-05-23T12:30:06.364Z"
   },
   {
    "duration": 6,
    "start_time": "2024-05-23T12:30:09.839Z"
   },
   {
    "duration": 486,
    "start_time": "2024-05-23T13:44:54.762Z"
   },
   {
    "duration": 69,
    "start_time": "2024-05-23T13:44:55.250Z"
   },
   {
    "duration": 15,
    "start_time": "2024-05-23T13:44:56.330Z"
   },
   {
    "duration": 11,
    "start_time": "2024-05-23T13:44:57.248Z"
   },
   {
    "duration": 244,
    "start_time": "2024-05-23T13:44:57.717Z"
   },
   {
    "duration": 223,
    "start_time": "2024-05-23T13:44:58.168Z"
   },
   {
    "duration": 7,
    "start_time": "2024-05-23T13:44:58.632Z"
   },
   {
    "duration": 13,
    "start_time": "2024-05-23T13:44:59.560Z"
   },
   {
    "duration": 385,
    "start_time": "2024-05-23T13:45:00.476Z"
   },
   {
    "duration": 11,
    "start_time": "2024-05-23T13:45:00.943Z"
   },
   {
    "duration": 11,
    "start_time": "2024-05-23T13:45:03.002Z"
   },
   {
    "duration": 9,
    "start_time": "2024-05-23T13:45:03.549Z"
   },
   {
    "duration": 6,
    "start_time": "2024-05-23T13:45:05.698Z"
   },
   {
    "duration": 7,
    "start_time": "2024-05-23T13:45:06.108Z"
   },
   {
    "duration": 3,
    "start_time": "2024-05-23T13:45:06.845Z"
   },
   {
    "duration": 4,
    "start_time": "2024-05-23T13:45:07.237Z"
   },
   {
    "duration": 5,
    "start_time": "2024-05-23T13:45:07.582Z"
   },
   {
    "duration": 8,
    "start_time": "2024-05-23T13:45:07.872Z"
   },
   {
    "duration": 15,
    "start_time": "2024-05-23T13:45:09.066Z"
   },
   {
    "duration": 5,
    "start_time": "2024-05-23T13:45:09.762Z"
   },
   {
    "duration": 9,
    "start_time": "2024-05-23T13:45:10.107Z"
   },
   {
    "duration": 194,
    "start_time": "2024-05-23T13:45:11.535Z"
   },
   {
    "duration": 12,
    "start_time": "2024-05-23T13:45:12.632Z"
   },
   {
    "duration": 187,
    "start_time": "2024-05-23T13:45:13.030Z"
   },
   {
    "duration": 8,
    "start_time": "2024-05-23T13:45:14.218Z"
   },
   {
    "duration": 345,
    "start_time": "2024-05-23T13:45:14.680Z"
   },
   {
    "duration": 8,
    "start_time": "2024-05-23T13:45:15.870Z"
   },
   {
    "duration": 206,
    "start_time": "2024-05-23T13:45:16.270Z"
   },
   {
    "duration": 9,
    "start_time": "2024-05-23T13:45:17.448Z"
   },
   {
    "duration": 197,
    "start_time": "2024-05-23T13:45:17.902Z"
   },
   {
    "duration": 26,
    "start_time": "2024-05-23T13:45:19.979Z"
   },
   {
    "duration": 14,
    "start_time": "2024-05-23T13:45:20.478Z"
   },
   {
    "duration": 13,
    "start_time": "2024-05-23T13:45:20.981Z"
   },
   {
    "duration": 9,
    "start_time": "2024-05-23T13:45:21.235Z"
   },
   {
    "duration": 35,
    "start_time": "2024-05-23T13:45:22.714Z"
   },
   {
    "duration": 30,
    "start_time": "2024-05-23T13:45:22.937Z"
   },
   {
    "duration": 240,
    "start_time": "2024-05-23T13:45:24.323Z"
   },
   {
    "duration": 9,
    "start_time": "2024-05-23T13:45:24.775Z"
   },
   {
    "duration": 8,
    "start_time": "2024-05-23T13:45:25.285Z"
   },
   {
    "duration": 225,
    "start_time": "2024-05-23T13:45:26.057Z"
   },
   {
    "duration": 8,
    "start_time": "2024-05-23T13:45:26.499Z"
   },
   {
    "duration": 8,
    "start_time": "2024-05-23T13:45:27.011Z"
   },
   {
    "duration": 35,
    "start_time": "2024-05-23T13:45:29.449Z"
   },
   {
    "duration": 49,
    "start_time": "2024-05-23T13:45:30.433Z"
   },
   {
    "duration": 14,
    "start_time": "2024-05-23T13:45:31.401Z"
   },
   {
    "duration": 11,
    "start_time": "2024-05-23T13:45:31.871Z"
   },
   {
    "duration": 6,
    "start_time": "2024-05-23T13:45:32.186Z"
   },
   {
    "duration": 7,
    "start_time": "2024-05-23T13:45:32.577Z"
   },
   {
    "duration": 4,
    "start_time": "2024-05-23T13:45:32.993Z"
   },
   {
    "duration": 511,
    "start_time": "2024-05-23T13:45:34.437Z"
   },
   {
    "duration": 5,
    "start_time": "2024-05-23T13:45:35.551Z"
   },
   {
    "duration": 8,
    "start_time": "2024-05-23T13:45:36.637Z"
   },
   {
    "duration": 87,
    "start_time": "2024-05-24T06:28:42.360Z"
   },
   {
    "duration": 63,
    "start_time": "2024-05-24T06:28:53.312Z"
   },
   {
    "duration": 407,
    "start_time": "2024-05-24T06:29:19.895Z"
   },
   {
    "duration": 305,
    "start_time": "2024-05-24T06:29:20.344Z"
   },
   {
    "duration": 16,
    "start_time": "2024-05-24T06:29:21.237Z"
   },
   {
    "duration": 11,
    "start_time": "2024-05-24T06:29:23.390Z"
   },
   {
    "duration": 392,
    "start_time": "2024-05-24T06:29:24.820Z"
   },
   {
    "duration": 242,
    "start_time": "2024-05-24T06:29:25.242Z"
   },
   {
    "duration": 6,
    "start_time": "2024-05-24T06:29:26.703Z"
   },
   {
    "duration": 14,
    "start_time": "2024-05-24T06:29:28.773Z"
   },
   {
    "duration": 414,
    "start_time": "2024-05-24T06:29:29.871Z"
   },
   {
    "duration": 10,
    "start_time": "2024-05-24T06:29:30.287Z"
   },
   {
    "duration": 14,
    "start_time": "2024-05-24T06:29:32.088Z"
   },
   {
    "duration": 9,
    "start_time": "2024-05-24T06:29:33.442Z"
   },
   {
    "duration": 7,
    "start_time": "2024-05-24T06:29:36.656Z"
   },
   {
    "duration": 9,
    "start_time": "2024-05-24T06:29:37.257Z"
   },
   {
    "duration": 3,
    "start_time": "2024-05-24T06:29:38.435Z"
   },
   {
    "duration": 4,
    "start_time": "2024-05-24T06:29:39.088Z"
   },
   {
    "duration": 47,
    "start_time": "2024-05-24T06:29:39.973Z"
   },
   {
    "duration": 7,
    "start_time": "2024-05-24T06:30:25.460Z"
   },
   {
    "duration": 50,
    "start_time": "2024-05-24T06:30:43.423Z"
   },
   {
    "duration": 4,
    "start_time": "2024-05-24T06:31:04.806Z"
   },
   {
    "duration": 13,
    "start_time": "2024-05-24T06:31:11.039Z"
   },
   {
    "duration": 79,
    "start_time": "2024-05-24T06:47:27.102Z"
   },
   {
    "duration": 7,
    "start_time": "2024-05-24T06:48:07.267Z"
   },
   {
    "duration": 8,
    "start_time": "2024-05-24T06:49:50.004Z"
   },
   {
    "duration": 15,
    "start_time": "2024-05-24T06:49:52.462Z"
   },
   {
    "duration": 6,
    "start_time": "2024-05-24T06:49:55.003Z"
   },
   {
    "duration": 17,
    "start_time": "2024-05-24T06:49:55.011Z"
   },
   {
    "duration": 209,
    "start_time": "2024-05-24T06:50:00.153Z"
   },
   {
    "duration": 9,
    "start_time": "2024-05-24T06:56:12.049Z"
   },
   {
    "duration": 6,
    "start_time": "2024-05-24T06:57:05.941Z"
   },
   {
    "duration": 200,
    "start_time": "2024-05-24T07:07:18.020Z"
   },
   {
    "duration": 14,
    "start_time": "2024-05-24T07:07:34.559Z"
   },
   {
    "duration": 180,
    "start_time": "2024-05-24T07:07:48.403Z"
   },
   {
    "duration": 70,
    "start_time": "2024-05-24T07:13:19.959Z"
   },
   {
    "duration": 183,
    "start_time": "2024-05-24T07:13:31.246Z"
   },
   {
    "duration": 186,
    "start_time": "2024-05-24T07:14:01.472Z"
   },
   {
    "duration": 6,
    "start_time": "2024-05-24T07:14:37.059Z"
   },
   {
    "duration": 12,
    "start_time": "2024-05-24T07:14:47.104Z"
   },
   {
    "duration": 136,
    "start_time": "2024-05-24T07:14:47.508Z"
   },
   {
    "duration": 11,
    "start_time": "2024-05-24T07:14:48.808Z"
   },
   {
    "duration": 304,
    "start_time": "2024-05-24T07:14:49.333Z"
   },
   {
    "duration": 8,
    "start_time": "2024-05-24T07:15:48.414Z"
   },
   {
    "duration": 217,
    "start_time": "2024-05-24T07:15:48.690Z"
   },
   {
    "duration": 9,
    "start_time": "2024-05-24T07:16:24.238Z"
   },
   {
    "duration": 179,
    "start_time": "2024-05-24T07:16:25.218Z"
   },
   {
    "duration": 369,
    "start_time": "2024-05-24T13:43:37.935Z"
   },
   {
    "duration": 306,
    "start_time": "2024-05-24T13:43:38.439Z"
   },
   {
    "duration": 11,
    "start_time": "2024-05-24T13:43:40.898Z"
   },
   {
    "duration": 10,
    "start_time": "2024-05-24T13:43:42.941Z"
   },
   {
    "duration": 378,
    "start_time": "2024-05-24T13:43:43.401Z"
   },
   {
    "duration": 212,
    "start_time": "2024-05-24T13:43:43.781Z"
   },
   {
    "duration": 6,
    "start_time": "2024-05-24T13:43:44.805Z"
   },
   {
    "duration": 11,
    "start_time": "2024-05-24T13:43:53.576Z"
   },
   {
    "duration": 330,
    "start_time": "2024-05-24T13:43:56.021Z"
   },
   {
    "duration": 9,
    "start_time": "2024-05-24T13:43:56.473Z"
   },
   {
    "duration": 9,
    "start_time": "2024-05-24T13:43:57.875Z"
   },
   {
    "duration": 7,
    "start_time": "2024-05-24T13:43:59.795Z"
   },
   {
    "duration": 4,
    "start_time": "2024-05-24T13:44:03.115Z"
   },
   {
    "duration": 6,
    "start_time": "2024-05-24T13:44:03.459Z"
   },
   {
    "duration": 2,
    "start_time": "2024-05-24T13:44:04.324Z"
   },
   {
    "duration": 4,
    "start_time": "2024-05-24T13:44:06.035Z"
   },
   {
    "duration": 7,
    "start_time": "2024-05-24T13:44:06.469Z"
   },
   {
    "duration": 8,
    "start_time": "2024-05-24T13:44:15.665Z"
   },
   {
    "duration": 61,
    "start_time": "2024-05-24T13:44:17.772Z"
   },
   {
    "duration": 5,
    "start_time": "2024-05-24T13:44:18.833Z"
   },
   {
    "duration": 8,
    "start_time": "2024-05-24T13:44:20.376Z"
   },
   {
    "duration": 166,
    "start_time": "2024-05-24T13:44:23.317Z"
   },
   {
    "duration": 6,
    "start_time": "2024-05-24T13:44:25.417Z"
   },
   {
    "duration": 12,
    "start_time": "2024-05-24T13:44:37.100Z"
   },
   {
    "duration": 112,
    "start_time": "2024-05-24T13:44:37.743Z"
   },
   {
    "duration": 7,
    "start_time": "2024-05-24T13:44:40.281Z"
   },
   {
    "duration": 267,
    "start_time": "2024-05-24T13:44:41.797Z"
   },
   {
    "duration": 8,
    "start_time": "2024-05-24T13:44:48.905Z"
   },
   {
    "duration": 191,
    "start_time": "2024-05-24T13:44:49.449Z"
   },
   {
    "duration": 8,
    "start_time": "2024-05-24T13:44:55.587Z"
   },
   {
    "duration": 15,
    "start_time": "2024-05-24T13:49:23.054Z"
   },
   {
    "duration": 12,
    "start_time": "2024-05-24T13:50:20.575Z"
   },
   {
    "duration": 7,
    "start_time": "2024-05-24T13:50:45.918Z"
   },
   {
    "duration": 8,
    "start_time": "2024-05-24T13:50:59.474Z"
   },
   {
    "duration": 6,
    "start_time": "2024-05-24T13:54:09.477Z"
   },
   {
    "duration": 8,
    "start_time": "2024-05-24T13:54:40.735Z"
   },
   {
    "duration": 6,
    "start_time": "2024-05-24T13:55:12.863Z"
   },
   {
    "duration": 9,
    "start_time": "2024-05-24T13:55:46.396Z"
   },
   {
    "duration": 12,
    "start_time": "2024-05-24T13:56:08.630Z"
   },
   {
    "duration": 8,
    "start_time": "2024-05-24T13:56:31.510Z"
   },
   {
    "duration": 8,
    "start_time": "2024-05-24T13:56:44.134Z"
   },
   {
    "duration": 12,
    "start_time": "2024-05-24T13:57:05.295Z"
   },
   {
    "duration": 22,
    "start_time": "2024-05-24T13:57:16.460Z"
   },
   {
    "duration": 18,
    "start_time": "2024-05-24T14:16:17.650Z"
   },
   {
    "duration": 17,
    "start_time": "2024-05-24T14:16:24.803Z"
   },
   {
    "duration": 13,
    "start_time": "2024-05-24T14:16:25.075Z"
   },
   {
    "duration": 13,
    "start_time": "2024-05-24T14:16:28.219Z"
   },
   {
    "duration": 9,
    "start_time": "2024-05-24T14:16:28.234Z"
   },
   {
    "duration": 24,
    "start_time": "2024-05-24T14:16:30.523Z"
   },
   {
    "duration": 27,
    "start_time": "2024-05-24T14:16:32.515Z"
   },
   {
    "duration": 233,
    "start_time": "2024-05-24T14:16:35.036Z"
   },
   {
    "duration": 9,
    "start_time": "2024-05-24T14:16:58.352Z"
   },
   {
    "duration": 9,
    "start_time": "2024-05-24T14:16:59.802Z"
   },
   {
    "duration": 217,
    "start_time": "2024-05-24T14:17:01.463Z"
   },
   {
    "duration": 8,
    "start_time": "2024-05-24T14:17:01.801Z"
   },
   {
    "duration": 8,
    "start_time": "2024-05-24T14:17:03.003Z"
   },
   {
    "duration": 23,
    "start_time": "2024-05-24T14:17:08.994Z"
   },
   {
    "duration": 40,
    "start_time": "2024-05-24T14:18:59.820Z"
   },
   {
    "duration": 14,
    "start_time": "2024-05-24T14:19:53.537Z"
   },
   {
    "duration": 11,
    "start_time": "2024-05-24T14:20:08.032Z"
   },
   {
    "duration": 6,
    "start_time": "2024-05-24T14:20:11.490Z"
   },
   {
    "duration": 8,
    "start_time": "2024-05-24T14:20:13.818Z"
   },
   {
    "duration": 5,
    "start_time": "2024-05-24T14:20:15.987Z"
   },
   {
    "duration": 65,
    "start_time": "2024-05-24T15:00:58.117Z"
   },
   {
    "duration": 417,
    "start_time": "2024-05-24T15:01:24.394Z"
   },
   {
    "duration": 65,
    "start_time": "2024-05-24T15:01:24.872Z"
   },
   {
    "duration": 12,
    "start_time": "2024-05-24T15:01:26.042Z"
   },
   {
    "duration": 10,
    "start_time": "2024-05-24T15:01:27.018Z"
   },
   {
    "duration": 208,
    "start_time": "2024-05-24T15:01:27.478Z"
   },
   {
    "duration": 199,
    "start_time": "2024-05-24T15:01:27.838Z"
   },
   {
    "duration": 6,
    "start_time": "2024-05-24T15:01:28.255Z"
   },
   {
    "duration": 12,
    "start_time": "2024-05-24T15:01:30.048Z"
   },
   {
    "duration": 345,
    "start_time": "2024-05-24T15:01:30.449Z"
   },
   {
    "duration": 9,
    "start_time": "2024-05-24T15:01:30.796Z"
   },
   {
    "duration": 9,
    "start_time": "2024-05-24T15:01:31.735Z"
   },
   {
    "duration": 8,
    "start_time": "2024-05-24T15:01:31.766Z"
   },
   {
    "duration": 5,
    "start_time": "2024-05-24T15:01:33.659Z"
   },
   {
    "duration": 6,
    "start_time": "2024-05-24T15:01:34.052Z"
   },
   {
    "duration": 2,
    "start_time": "2024-05-24T15:01:34.867Z"
   },
   {
    "duration": 4,
    "start_time": "2024-05-24T15:01:35.239Z"
   },
   {
    "duration": 7,
    "start_time": "2024-05-24T15:01:35.580Z"
   },
   {
    "duration": 7,
    "start_time": "2024-05-24T15:01:37.026Z"
   },
   {
    "duration": 13,
    "start_time": "2024-05-24T15:01:37.837Z"
   },
   {
    "duration": 4,
    "start_time": "2024-05-24T15:01:38.468Z"
   },
   {
    "duration": 8,
    "start_time": "2024-05-24T15:01:38.819Z"
   },
   {
    "duration": 169,
    "start_time": "2024-05-24T15:01:40.649Z"
   },
   {
    "duration": 5,
    "start_time": "2024-05-24T15:01:41.117Z"
   },
   {
    "duration": 12,
    "start_time": "2024-05-24T15:01:43.702Z"
   },
   {
    "duration": 182,
    "start_time": "2024-05-24T15:01:44.054Z"
   },
   {
    "duration": 8,
    "start_time": "2024-05-24T15:01:45.314Z"
   },
   {
    "duration": 303,
    "start_time": "2024-05-24T15:01:45.676Z"
   },
   {
    "duration": 8,
    "start_time": "2024-05-24T15:01:47.721Z"
   },
   {
    "duration": 189,
    "start_time": "2024-05-24T15:01:48.125Z"
   },
   {
    "duration": 8,
    "start_time": "2024-05-24T15:04:39.686Z"
   },
   {
    "duration": 174,
    "start_time": "2024-05-24T15:04:41.867Z"
   },
   {
    "duration": 20,
    "start_time": "2024-05-24T15:04:44.901Z"
   },
   {
    "duration": 27,
    "start_time": "2024-05-24T15:04:49.568Z"
   },
   {
    "duration": 17,
    "start_time": "2024-05-24T15:04:51.224Z"
   },
   {
    "duration": 19,
    "start_time": "2024-05-24T15:04:53.259Z"
   },
   {
    "duration": 12,
    "start_time": "2024-05-24T15:04:53.593Z"
   },
   {
    "duration": 26,
    "start_time": "2024-05-24T15:04:56.000Z"
   },
   {
    "duration": 30,
    "start_time": "2024-05-24T15:04:57.918Z"
   },
   {
    "duration": 224,
    "start_time": "2024-05-24T15:05:01.305Z"
   },
   {
    "duration": 7,
    "start_time": "2024-05-24T15:05:03.258Z"
   },
   {
    "duration": 8,
    "start_time": "2024-05-24T15:05:03.707Z"
   },
   {
    "duration": 217,
    "start_time": "2024-05-24T15:05:05.689Z"
   },
   {
    "duration": 8,
    "start_time": "2024-05-24T15:05:07.238Z"
   },
   {
    "duration": 9,
    "start_time": "2024-05-24T15:05:07.641Z"
   },
   {
    "duration": 31,
    "start_time": "2024-05-24T15:05:13.554Z"
   },
   {
    "duration": 43,
    "start_time": "2024-05-24T15:05:26.164Z"
   },
   {
    "duration": 15,
    "start_time": "2024-05-24T15:05:31.153Z"
   },
   {
    "duration": 9,
    "start_time": "2024-05-24T15:05:34.138Z"
   },
   {
    "duration": 6,
    "start_time": "2024-05-24T15:05:36.179Z"
   },
   {
    "duration": 9,
    "start_time": "2024-05-24T15:05:37.057Z"
   },
   {
    "duration": 5,
    "start_time": "2024-05-24T15:05:38.959Z"
   },
   {
    "duration": 486,
    "start_time": "2024-05-24T15:05:44.307Z"
   },
   {
    "duration": 5,
    "start_time": "2024-05-24T15:05:52.838Z"
   },
   {
    "duration": 359,
    "start_time": "2024-05-24T15:22:19.742Z"
   },
   {
    "duration": 67,
    "start_time": "2024-05-24T15:22:20.103Z"
   },
   {
    "duration": 11,
    "start_time": "2024-05-24T15:22:20.666Z"
   },
   {
    "duration": 10,
    "start_time": "2024-05-24T15:22:21.423Z"
   },
   {
    "duration": 212,
    "start_time": "2024-05-24T15:22:21.709Z"
   },
   {
    "duration": 210,
    "start_time": "2024-05-24T15:22:22.100Z"
   },
   {
    "duration": 7,
    "start_time": "2024-05-24T15:22:22.484Z"
   },
   {
    "duration": 14,
    "start_time": "2024-05-24T15:22:23.724Z"
   },
   {
    "duration": 341,
    "start_time": "2024-05-24T15:22:24.236Z"
   },
   {
    "duration": 8,
    "start_time": "2024-05-24T15:22:24.666Z"
   },
   {
    "duration": 11,
    "start_time": "2024-05-24T15:22:25.474Z"
   },
   {
    "duration": 8,
    "start_time": "2024-05-24T15:22:26.019Z"
   },
   {
    "duration": 5,
    "start_time": "2024-05-24T15:22:28.936Z"
   },
   {
    "duration": 9,
    "start_time": "2024-05-24T15:22:29.244Z"
   },
   {
    "duration": 3,
    "start_time": "2024-05-24T15:22:29.987Z"
   },
   {
    "duration": 3,
    "start_time": "2024-05-24T15:22:30.345Z"
   },
   {
    "duration": 6,
    "start_time": "2024-05-24T15:22:30.675Z"
   },
   {
    "duration": 7,
    "start_time": "2024-05-24T15:22:33.340Z"
   },
   {
    "duration": 14,
    "start_time": "2024-05-24T15:22:33.879Z"
   },
   {
    "duration": 5,
    "start_time": "2024-05-24T15:22:34.362Z"
   },
   {
    "duration": 11,
    "start_time": "2024-05-24T15:22:34.619Z"
   },
   {
    "duration": 174,
    "start_time": "2024-05-24T15:22:35.620Z"
   },
   {
    "duration": 5,
    "start_time": "2024-05-24T15:22:35.889Z"
   },
   {
    "duration": 11,
    "start_time": "2024-05-24T15:22:37.349Z"
   },
   {
    "duration": 165,
    "start_time": "2024-05-24T15:22:37.562Z"
   },
   {
    "duration": 9,
    "start_time": "2024-05-24T15:22:38.243Z"
   },
   {
    "duration": 268,
    "start_time": "2024-05-24T15:22:38.489Z"
   },
   {
    "duration": 9,
    "start_time": "2024-05-24T15:22:39.644Z"
   },
   {
    "duration": 197,
    "start_time": "2024-05-24T15:22:39.889Z"
   },
   {
    "duration": 9,
    "start_time": "2024-05-24T15:22:40.999Z"
   },
   {
    "duration": 173,
    "start_time": "2024-05-24T15:22:41.236Z"
   },
   {
    "duration": 14,
    "start_time": "2024-05-24T15:22:42.948Z"
   },
   {
    "duration": 19,
    "start_time": "2024-05-24T15:22:44.606Z"
   },
   {
    "duration": 12,
    "start_time": "2024-05-24T15:22:44.855Z"
   },
   {
    "duration": 12,
    "start_time": "2024-05-24T15:22:45.404Z"
   },
   {
    "duration": 8,
    "start_time": "2024-05-24T15:22:45.717Z"
   },
   {
    "duration": 23,
    "start_time": "2024-05-24T15:22:46.627Z"
   },
   {
    "duration": 24,
    "start_time": "2024-05-24T15:22:46.917Z"
   },
   {
    "duration": 217,
    "start_time": "2024-05-24T15:22:47.901Z"
   },
   {
    "duration": 7,
    "start_time": "2024-05-24T15:22:48.511Z"
   },
   {
    "duration": 9,
    "start_time": "2024-05-24T15:22:48.804Z"
   },
   {
    "duration": 213,
    "start_time": "2024-05-24T15:22:49.445Z"
   },
   {
    "duration": 9,
    "start_time": "2024-05-24T15:22:49.718Z"
   },
   {
    "duration": 9,
    "start_time": "2024-05-24T15:22:50.085Z"
   },
   {
    "duration": 22,
    "start_time": "2024-05-24T15:22:52.425Z"
   },
   {
    "duration": 40,
    "start_time": "2024-05-24T15:22:54.191Z"
   },
   {
    "duration": 18,
    "start_time": "2024-05-24T15:22:55.909Z"
   },
   {
    "duration": 10,
    "start_time": "2024-05-24T15:22:56.171Z"
   },
   {
    "duration": 6,
    "start_time": "2024-05-24T15:22:56.436Z"
   },
   {
    "duration": 11,
    "start_time": "2024-05-24T15:22:56.847Z"
   },
   {
    "duration": 5,
    "start_time": "2024-05-24T15:22:57.092Z"
   },
   {
    "duration": 472,
    "start_time": "2024-05-24T15:22:58.417Z"
   },
   {
    "duration": 5,
    "start_time": "2024-05-24T15:22:59.675Z"
   },
   {
    "duration": 6,
    "start_time": "2024-05-24T15:23:05.017Z"
   },
   {
    "duration": 356,
    "start_time": "2024-05-24T16:02:11.844Z"
   },
   {
    "duration": 66,
    "start_time": "2024-05-24T16:02:13.590Z"
   },
   {
    "duration": 11,
    "start_time": "2024-05-24T16:02:14.316Z"
   },
   {
    "duration": 10,
    "start_time": "2024-05-24T16:02:16.326Z"
   },
   {
    "duration": 213,
    "start_time": "2024-05-24T16:02:17.758Z"
   },
   {
    "duration": 194,
    "start_time": "2024-05-24T16:02:19.337Z"
   },
   {
    "duration": 6,
    "start_time": "2024-05-24T16:02:20.348Z"
   },
   {
    "duration": 11,
    "start_time": "2024-05-24T16:02:24.505Z"
   },
   {
    "duration": 366,
    "start_time": "2024-05-24T16:02:25.981Z"
   },
   {
    "duration": 8,
    "start_time": "2024-05-24T16:02:27.605Z"
   },
   {
    "duration": 9,
    "start_time": "2024-05-24T16:02:29.425Z"
   },
   {
    "duration": 7,
    "start_time": "2024-05-24T16:02:30.736Z"
   },
   {
    "duration": 4,
    "start_time": "2024-05-24T16:02:33.516Z"
   },
   {
    "duration": 6,
    "start_time": "2024-05-24T16:02:33.953Z"
   },
   {
    "duration": 2,
    "start_time": "2024-05-24T16:02:34.712Z"
   },
   {
    "duration": 4,
    "start_time": "2024-05-24T16:02:35.082Z"
   },
   {
    "duration": 6,
    "start_time": "2024-05-24T16:02:35.462Z"
   },
   {
    "duration": 8,
    "start_time": "2024-05-24T16:02:47.495Z"
   },
   {
    "duration": 15,
    "start_time": "2024-05-24T16:02:49.599Z"
   },
   {
    "duration": 4,
    "start_time": "2024-05-24T16:02:50.192Z"
   },
   {
    "duration": 8,
    "start_time": "2024-05-24T16:02:51.515Z"
   },
   {
    "duration": 169,
    "start_time": "2024-05-24T16:02:57.487Z"
   },
   {
    "duration": 211,
    "start_time": "2024-05-24T16:03:15.196Z"
   },
   {
    "duration": 358,
    "start_time": "2024-05-24T16:03:36.023Z"
   },
   {
    "duration": 65,
    "start_time": "2024-05-24T16:03:36.383Z"
   },
   {
    "duration": 12,
    "start_time": "2024-05-24T16:03:36.922Z"
   },
   {
    "duration": 10,
    "start_time": "2024-05-24T16:03:37.515Z"
   },
   {
    "duration": 206,
    "start_time": "2024-05-24T16:03:37.756Z"
   },
   {
    "duration": 195,
    "start_time": "2024-05-24T16:03:38.020Z"
   },
   {
    "duration": 6,
    "start_time": "2024-05-24T16:03:38.304Z"
   },
   {
    "duration": 11,
    "start_time": "2024-05-24T16:03:39.342Z"
   },
   {
    "duration": 340,
    "start_time": "2024-05-24T16:03:39.630Z"
   },
   {
    "duration": 9,
    "start_time": "2024-05-24T16:03:39.972Z"
   },
   {
    "duration": 11,
    "start_time": "2024-05-24T16:03:40.454Z"
   },
   {
    "duration": 9,
    "start_time": "2024-05-24T16:03:40.767Z"
   },
   {
    "duration": 4,
    "start_time": "2024-05-24T16:03:42.269Z"
   },
   {
    "duration": 6,
    "start_time": "2024-05-24T16:03:42.573Z"
   },
   {
    "duration": 3,
    "start_time": "2024-05-24T16:03:43.257Z"
   },
   {
    "duration": 3,
    "start_time": "2024-05-24T16:03:43.532Z"
   },
   {
    "duration": 11,
    "start_time": "2024-05-24T16:03:43.804Z"
   },
   {
    "duration": 12,
    "start_time": "2024-05-24T16:03:45.936Z"
   },
   {
    "duration": 12,
    "start_time": "2024-05-24T16:03:49.056Z"
   },
   {
    "duration": 5,
    "start_time": "2024-05-24T16:03:50.971Z"
   },
   {
    "duration": 7,
    "start_time": "2024-05-24T16:03:51.280Z"
   },
   {
    "duration": 180,
    "start_time": "2024-05-24T16:03:54.137Z"
   },
   {
    "duration": 9,
    "start_time": "2024-05-24T16:03:58.184Z"
   },
   {
    "duration": 18,
    "start_time": "2024-05-24T16:05:26.902Z"
   },
   {
    "duration": 178,
    "start_time": "2024-05-24T16:05:27.296Z"
   },
   {
    "duration": 7,
    "start_time": "2024-05-24T16:05:29.983Z"
   },
   {
    "duration": 303,
    "start_time": "2024-05-24T16:05:30.488Z"
   },
   {
    "duration": 10,
    "start_time": "2024-05-24T16:05:56.064Z"
   },
   {
    "duration": 191,
    "start_time": "2024-05-24T16:05:56.570Z"
   },
   {
    "duration": 8,
    "start_time": "2024-05-24T16:05:59.933Z"
   },
   {
    "duration": 185,
    "start_time": "2024-05-24T16:06:01.416Z"
   },
   {
    "duration": 21,
    "start_time": "2024-05-24T16:08:50.628Z"
   },
   {
    "duration": 17,
    "start_time": "2024-05-24T16:08:59.127Z"
   },
   {
    "duration": 25,
    "start_time": "2024-05-24T16:09:01.490Z"
   },
   {
    "duration": 13,
    "start_time": "2024-05-24T16:09:13.642Z"
   },
   {
    "duration": 9,
    "start_time": "2024-05-24T16:09:14.020Z"
   },
   {
    "duration": 28,
    "start_time": "2024-05-24T16:09:17.112Z"
   },
   {
    "duration": 20,
    "start_time": "2024-05-24T16:09:18.575Z"
   },
   {
    "duration": 241,
    "start_time": "2024-05-24T16:09:22.583Z"
   },
   {
    "duration": 7,
    "start_time": "2024-05-24T16:09:24.562Z"
   },
   {
    "duration": 7,
    "start_time": "2024-05-24T16:09:26.577Z"
   },
   {
    "duration": 202,
    "start_time": "2024-05-24T16:09:28.432Z"
   },
   {
    "duration": 8,
    "start_time": "2024-05-24T16:09:28.892Z"
   },
   {
    "duration": 7,
    "start_time": "2024-05-24T16:09:30.568Z"
   },
   {
    "duration": 32,
    "start_time": "2024-05-24T16:09:36.578Z"
   },
   {
    "duration": 41,
    "start_time": "2024-05-24T16:09:40.959Z"
   },
   {
    "duration": 15,
    "start_time": "2024-05-24T16:09:58.023Z"
   },
   {
    "duration": 13,
    "start_time": "2024-05-24T16:10:00.310Z"
   },
   {
    "duration": 6,
    "start_time": "2024-05-24T16:10:02.251Z"
   },
   {
    "duration": 7,
    "start_time": "2024-05-24T16:10:02.746Z"
   },
   {
    "duration": 4,
    "start_time": "2024-05-24T16:10:06.026Z"
   },
   {
    "duration": 492,
    "start_time": "2024-05-24T16:10:42.346Z"
   },
   {
    "duration": 5,
    "start_time": "2024-05-24T16:10:57.661Z"
   },
   {
    "duration": 367,
    "start_time": "2024-05-24T16:36:35.555Z"
   },
   {
    "duration": 66,
    "start_time": "2024-05-24T16:36:35.986Z"
   },
   {
    "duration": 12,
    "start_time": "2024-05-24T16:36:36.675Z"
   },
   {
    "duration": 10,
    "start_time": "2024-05-24T16:36:37.213Z"
   },
   {
    "duration": 208,
    "start_time": "2024-05-24T16:36:37.476Z"
   },
   {
    "duration": 191,
    "start_time": "2024-05-24T16:36:37.736Z"
   },
   {
    "duration": 6,
    "start_time": "2024-05-24T16:36:38.248Z"
   },
   {
    "duration": 14,
    "start_time": "2024-05-24T16:36:38.954Z"
   },
   {
    "duration": 334,
    "start_time": "2024-05-24T16:36:39.199Z"
   },
   {
    "duration": 8,
    "start_time": "2024-05-24T16:36:39.535Z"
   },
   {
    "duration": 10,
    "start_time": "2024-05-24T16:36:39.952Z"
   },
   {
    "duration": 8,
    "start_time": "2024-05-24T16:36:40.215Z"
   },
   {
    "duration": 5,
    "start_time": "2024-05-24T16:36:41.376Z"
   },
   {
    "duration": 6,
    "start_time": "2024-05-24T16:36:41.608Z"
   },
   {
    "duration": 2,
    "start_time": "2024-05-24T16:36:42.098Z"
   },
   {
    "duration": 3,
    "start_time": "2024-05-24T16:36:42.374Z"
   },
   {
    "duration": 6,
    "start_time": "2024-05-24T16:36:42.615Z"
   },
   {
    "duration": 8,
    "start_time": "2024-05-24T16:36:43.839Z"
   },
   {
    "duration": 14,
    "start_time": "2024-05-24T16:36:44.400Z"
   },
   {
    "duration": 5,
    "start_time": "2024-05-24T16:36:44.973Z"
   },
   {
    "duration": 9,
    "start_time": "2024-05-24T16:36:45.310Z"
   },
   {
    "duration": 168,
    "start_time": "2024-05-24T16:36:46.394Z"
   },
   {
    "duration": 5,
    "start_time": "2024-05-24T16:36:46.711Z"
   },
   {
    "duration": 12,
    "start_time": "2024-05-24T16:36:48.605Z"
   },
   {
    "duration": 161,
    "start_time": "2024-05-24T16:36:48.906Z"
   },
   {
    "duration": 7,
    "start_time": "2024-05-24T16:36:49.808Z"
   },
   {
    "duration": 268,
    "start_time": "2024-05-24T16:36:50.063Z"
   },
   {
    "duration": 8,
    "start_time": "2024-05-24T16:36:51.563Z"
   },
   {
    "duration": 181,
    "start_time": "2024-05-24T16:36:51.966Z"
   },
   {
    "duration": 8,
    "start_time": "2024-05-24T16:36:54.053Z"
   },
   {
    "duration": 160,
    "start_time": "2024-05-24T16:36:54.584Z"
   },
   {
    "duration": 14,
    "start_time": "2024-05-24T16:36:56.944Z"
   },
   {
    "duration": 17,
    "start_time": "2024-05-24T16:36:59.473Z"
   },
   {
    "duration": 14,
    "start_time": "2024-05-24T16:36:59.953Z"
   },
   {
    "duration": 12,
    "start_time": "2024-05-24T16:37:00.935Z"
   },
   {
    "duration": 8,
    "start_time": "2024-05-24T16:37:01.495Z"
   },
   {
    "duration": 21,
    "start_time": "2024-05-24T16:37:02.678Z"
   },
   {
    "duration": 20,
    "start_time": "2024-05-24T16:37:02.936Z"
   },
   {
    "duration": 216,
    "start_time": "2024-05-24T16:37:04.000Z"
   },
   {
    "duration": 9,
    "start_time": "2024-05-24T16:37:06.288Z"
   },
   {
    "duration": 10,
    "start_time": "2024-05-24T16:37:06.597Z"
   },
   {
    "duration": 208,
    "start_time": "2024-05-24T16:37:07.500Z"
   },
   {
    "duration": 7,
    "start_time": "2024-05-24T16:37:07.805Z"
   },
   {
    "duration": 7,
    "start_time": "2024-05-24T16:37:08.026Z"
   },
   {
    "duration": 23,
    "start_time": "2024-05-24T16:37:09.129Z"
   },
   {
    "duration": 39,
    "start_time": "2024-05-24T16:37:09.896Z"
   },
   {
    "duration": 16,
    "start_time": "2024-05-24T16:37:12.470Z"
   },
   {
    "duration": 10,
    "start_time": "2024-05-24T16:37:12.938Z"
   },
   {
    "duration": 6,
    "start_time": "2024-05-24T16:37:13.560Z"
   },
   {
    "duration": 8,
    "start_time": "2024-05-24T16:37:13.948Z"
   },
   {
    "duration": 4,
    "start_time": "2024-05-24T16:37:14.680Z"
   },
   {
    "duration": 450,
    "start_time": "2024-05-24T16:37:15.744Z"
   },
   {
    "duration": 5,
    "start_time": "2024-05-24T16:37:17.376Z"
   },
   {
    "duration": 7,
    "start_time": "2024-05-24T16:37:19.364Z"
   },
   {
    "duration": 55,
    "start_time": "2024-05-25T05:54:09.142Z"
   },
   {
    "duration": 387,
    "start_time": "2024-05-25T05:54:16.534Z"
   },
   {
    "duration": 296,
    "start_time": "2024-05-25T05:54:16.923Z"
   },
   {
    "duration": 12,
    "start_time": "2024-05-25T05:54:17.337Z"
   },
   {
    "duration": 10,
    "start_time": "2024-05-25T05:54:18.148Z"
   },
   {
    "duration": 423,
    "start_time": "2024-05-25T05:54:18.479Z"
   },
   {
    "duration": 234,
    "start_time": "2024-05-25T05:54:18.920Z"
   },
   {
    "duration": 6,
    "start_time": "2024-05-25T05:54:19.359Z"
   },
   {
    "duration": 13,
    "start_time": "2024-05-25T05:54:20.800Z"
   },
   {
    "duration": 375,
    "start_time": "2024-05-25T05:54:21.334Z"
   },
   {
    "duration": 9,
    "start_time": "2024-05-25T05:54:21.781Z"
   },
   {
    "duration": 10,
    "start_time": "2024-05-25T05:54:22.796Z"
   },
   {
    "duration": 8,
    "start_time": "2024-05-25T05:54:23.292Z"
   },
   {
    "duration": 5,
    "start_time": "2024-05-25T05:54:25.245Z"
   },
   {
    "duration": 8,
    "start_time": "2024-05-25T05:54:25.525Z"
   },
   {
    "duration": 2,
    "start_time": "2024-05-25T05:54:26.272Z"
   },
   {
    "duration": 3,
    "start_time": "2024-05-25T05:54:26.700Z"
   },
   {
    "duration": 1020,
    "start_time": "2024-05-25T05:54:26.930Z"
   },
   {
    "duration": 8,
    "start_time": "2024-05-25T05:55:34.757Z"
   },
   {
    "duration": 384,
    "start_time": "2024-05-25T05:56:05.116Z"
   },
   {
    "duration": 81,
    "start_time": "2024-05-25T05:56:05.502Z"
   },
   {
    "duration": 11,
    "start_time": "2024-05-25T05:56:05.914Z"
   },
   {
    "duration": 11,
    "start_time": "2024-05-25T05:56:06.555Z"
   },
   {
    "duration": 233,
    "start_time": "2024-05-25T05:56:06.802Z"
   },
   {
    "duration": 241,
    "start_time": "2024-05-25T05:56:07.063Z"
   },
   {
    "duration": 6,
    "start_time": "2024-05-25T05:56:07.342Z"
   },
   {
    "duration": 13,
    "start_time": "2024-05-25T05:56:08.228Z"
   },
   {
    "duration": 509,
    "start_time": "2024-05-25T05:56:08.674Z"
   },
   {
    "duration": 10,
    "start_time": "2024-05-25T05:56:09.185Z"
   },
   {
    "duration": 15,
    "start_time": "2024-05-25T05:56:09.534Z"
   },
   {
    "duration": 9,
    "start_time": "2024-05-25T05:56:09.832Z"
   },
   {
    "duration": 7,
    "start_time": "2024-05-25T05:56:11.562Z"
   },
   {
    "duration": 7,
    "start_time": "2024-05-25T05:56:12.063Z"
   },
   {
    "duration": 2,
    "start_time": "2024-05-25T05:56:13.936Z"
   },
   {
    "duration": 3,
    "start_time": "2024-05-25T05:56:14.398Z"
   },
   {
    "duration": 49,
    "start_time": "2024-05-25T05:56:14.828Z"
   },
   {
    "duration": 357,
    "start_time": "2024-05-25T05:57:09.339Z"
   },
   {
    "duration": 67,
    "start_time": "2024-05-25T05:57:09.698Z"
   },
   {
    "duration": 11,
    "start_time": "2024-05-25T05:57:10.083Z"
   },
   {
    "duration": 11,
    "start_time": "2024-05-25T05:57:10.705Z"
   },
   {
    "duration": 225,
    "start_time": "2024-05-25T05:57:11.059Z"
   },
   {
    "duration": 222,
    "start_time": "2024-05-25T05:57:11.515Z"
   },
   {
    "duration": 7,
    "start_time": "2024-05-25T05:57:11.911Z"
   },
   {
    "duration": 13,
    "start_time": "2024-05-25T05:57:13.346Z"
   },
   {
    "duration": 350,
    "start_time": "2024-05-25T05:57:18.986Z"
   },
   {
    "duration": 8,
    "start_time": "2024-05-25T05:57:19.337Z"
   },
   {
    "duration": 10,
    "start_time": "2024-05-25T05:57:20.189Z"
   },
   {
    "duration": 9,
    "start_time": "2024-05-25T05:57:20.500Z"
   },
   {
    "duration": 6,
    "start_time": "2024-05-25T05:57:25.128Z"
   },
   {
    "duration": 5,
    "start_time": "2024-05-25T05:57:26.260Z"
   },
   {
    "duration": 2,
    "start_time": "2024-05-25T05:57:27.134Z"
   },
   {
    "duration": 4,
    "start_time": "2024-05-25T05:57:27.441Z"
   },
   {
    "duration": 6,
    "start_time": "2024-05-25T05:57:41.175Z"
   },
   {
    "duration": 316,
    "start_time": "2024-08-09T06:28:09.750Z"
   },
   {
    "duration": 304,
    "start_time": "2024-08-09T06:28:10.483Z"
   }
  ],
  "kernelspec": {
   "display_name": "Python 3 (ipykernel)",
   "language": "python",
   "name": "python3"
  },
  "language_info": {
   "codemirror_mode": {
    "name": "ipython",
    "version": 3
   },
   "file_extension": ".py",
   "mimetype": "text/x-python",
   "name": "python",
   "nbconvert_exporter": "python",
   "pygments_lexer": "ipython3",
   "version": "3.11.7"
  },
  "toc": {
   "base_numbering": 1,
   "nav_menu": {},
   "number_sections": true,
   "sideBar": true,
   "skip_h1_title": true,
   "title_cell": "Table of Contents",
   "title_sidebar": "Contents",
   "toc_cell": false,
   "toc_position": {},
   "toc_section_display": true,
   "toc_window_display": true
  }
 },
 "nbformat": 4,
 "nbformat_minor": 5
}
